{
 "cells": [
  {
   "cell_type": "code",
   "execution_count": 1,
   "id": "9a077878",
   "metadata": {},
   "outputs": [
    {
     "name": "stdout",
     "output_type": "stream",
     "text": [
      "hello world\n"
     ]
    }
   ],
   "source": [
    "print(\"hello world\")"
   ]
  },
  {
   "cell_type": "code",
   "execution_count": 5,
   "id": "230190d9",
   "metadata": {},
   "outputs": [
    {
     "name": "stdout",
     "output_type": "stream",
     "text": [
      "0.4761904761904761640423089374962728470563888549804687500\n"
     ]
    }
   ],
   "source": [
    "a=10\n",
    "b=21\n",
    "print(\"%0.55f\"%(a/b)) # precision of decimal"
   ]
  },
  {
   "cell_type": "markdown",
   "id": "71f85244",
   "metadata": {},
   "source": [
    "### Multiple Variable Assignment"
   ]
  },
  {
   "cell_type": "code",
   "execution_count": 6,
   "id": "51b50df9",
   "metadata": {},
   "outputs": [],
   "source": [
    "a,b,c=10,20,30.34"
   ]
  },
  {
   "cell_type": "code",
   "execution_count": 8,
   "id": "e812eb41",
   "metadata": {},
   "outputs": [
    {
     "name": "stdout",
     "output_type": "stream",
     "text": [
      "10 20 30.34\n"
     ]
    }
   ],
   "source": [
    "print(a,b,c)"
   ]
  },
  {
   "cell_type": "code",
   "execution_count": null,
   "id": "31dc8afc",
   "metadata": {},
   "outputs": [],
   "source": []
  }
 ],
 "metadata": {
  "kernelspec": {
   "display_name": "Python 3 (ipykernel)",
   "language": "python",
   "name": "python3"
  },
  "language_info": {
   "codemirror_mode": {
    "name": "ipython",
    "version": 3
   },
   "file_extension": ".py",
   "mimetype": "text/x-python",
   "name": "python",
   "nbconvert_exporter": "python",
   "pygments_lexer": "ipython3",
   "version": "3.9.9"
  }
 },
 "nbformat": 4,
 "nbformat_minor": 5
}
