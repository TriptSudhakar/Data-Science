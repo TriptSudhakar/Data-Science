{
 "cells": [
  {
   "cell_type": "code",
   "execution_count": 1,
   "id": "f7eade8e",
   "metadata": {},
   "outputs": [],
   "source": [
    "def div(a,b):\n",
    "    try:\n",
    "        return a/b\n",
    "    except:\n",
    "        print(\"Error\")\n",
    "    finally:\n",
    "        print(\"Wrapping Up\")\n",
    "        return a+b"
   ]
  },
  {
   "cell_type": "code",
   "execution_count": 2,
   "id": "9d8642f1",
   "metadata": {},
   "outputs": [
    {
     "name": "stdout",
     "output_type": "stream",
     "text": [
      "Wrapping Up\n"
     ]
    },
    {
     "data": {
      "text/plain": [
       "12"
      ]
     },
     "execution_count": 2,
     "metadata": {},
     "output_type": "execute_result"
    }
   ],
   "source": [
    "div(10,2)"
   ]
  },
  {
   "cell_type": "code",
   "execution_count": null,
   "id": "f9ca37a6",
   "metadata": {},
   "outputs": [],
   "source": []
  },
  {
   "cell_type": "markdown",
   "id": "a8fca414",
   "metadata": {},
   "source": [
    "#### Local Variables"
   ]
  },
  {
   "cell_type": "code",
   "execution_count": 3,
   "id": "468cb005",
   "metadata": {},
   "outputs": [],
   "source": [
    "x=10\n",
    "def show():\n",
    "    global x # tells the function to use the variable 'x' in the global namespace\n",
    "    x+=5 # this statement by itself will give error since no variable 'x' has been defined locally\n",
    "    print(x)"
   ]
  },
  {
   "cell_type": "code",
   "execution_count": 4,
   "id": "1ae6feca",
   "metadata": {},
   "outputs": [
    {
     "name": "stdout",
     "output_type": "stream",
     "text": [
      "15\n",
      "15\n"
     ]
    }
   ],
   "source": [
    "show()\n",
    "print(x)"
   ]
  },
  {
   "cell_type": "code",
   "execution_count": 5,
   "id": "309902ab",
   "metadata": {},
   "outputs": [],
   "source": [
    "x=10\n",
    "def show():\n",
    "    y=\"local\"\n",
    "    print(x)\n",
    "    print(y)"
   ]
  },
  {
   "cell_type": "code",
   "execution_count": 6,
   "id": "6b80e21f",
   "metadata": {},
   "outputs": [],
   "source": [
    "del x"
   ]
  },
  {
   "cell_type": "code",
   "execution_count": 7,
   "id": "89738f60",
   "metadata": {},
   "outputs": [],
   "source": [
    "#enclosures\n",
    "def outer():\n",
    "    x=10\n",
    "    \n",
    "    def inner():\n",
    "        nonlocal x # tells the function to look for 'x' in the enclosing function\n",
    "        x+=5 # again this statement by itself gives error\n",
    "        # since 'x' is not defined locally ,\n",
    "        # it checks in global namespace which gives error since we have deleted 'x' explicitly'\n",
    "        print(x)\n",
    "    inner()\n",
    "    print(x)\n",
    "        "
   ]
  },
  {
   "cell_type": "code",
   "execution_count": 8,
   "id": "d7f52910",
   "metadata": {},
   "outputs": [
    {
     "name": "stdout",
     "output_type": "stream",
     "text": [
      "15\n",
      "15\n"
     ]
    }
   ],
   "source": [
    "outer()"
   ]
  },
  {
   "cell_type": "code",
   "execution_count": null,
   "id": "0c9ecf71",
   "metadata": {},
   "outputs": [],
   "source": []
  },
  {
   "cell_type": "code",
   "execution_count": null,
   "id": "4558fea1",
   "metadata": {},
   "outputs": [],
   "source": []
  },
  {
   "cell_type": "markdown",
   "id": "cd25aa2d",
   "metadata": {},
   "source": [
    "#### Default Arguement Values"
   ]
  },
  {
   "cell_type": "code",
   "execution_count": 9,
   "id": "0f62042c",
   "metadata": {},
   "outputs": [],
   "source": [
    "def show(a,b,c):\n",
    "    print(a)\n",
    "    print(b)    \n",
    "    print(c)    "
   ]
  },
  {
   "cell_type": "code",
   "execution_count": 10,
   "id": "bb878276",
   "metadata": {},
   "outputs": [
    {
     "name": "stdout",
     "output_type": "stream",
     "text": [
      "hello\n",
      "world\n",
      "python\n"
     ]
    }
   ],
   "source": [
    "show(\"hello\",\"world\",\"python\")"
   ]
  },
  {
   "cell_type": "code",
   "execution_count": null,
   "id": "78ede0ec",
   "metadata": {},
   "outputs": [],
   "source": []
  },
  {
   "cell_type": "markdown",
   "id": "a4bf310a",
   "metadata": {},
   "source": [
    "#### Keyworded Arguements\n",
    "We can explicitly tell for which arguement we need to change value from its default value"
   ]
  },
  {
   "cell_type": "code",
   "execution_count": 11,
   "id": "86769fe8",
   "metadata": {},
   "outputs": [
    {
     "name": "stdout",
     "output_type": "stream",
     "text": [
      "python\n",
      "hello\n",
      "world\n"
     ]
    }
   ],
   "source": [
    "show(b = \"hello\",c = \"world\",a = \"python\") "
   ]
  },
  {
   "cell_type": "code",
   "execution_count": 12,
   "id": "ce0cd597",
   "metadata": {},
   "outputs": [
    {
     "name": "stdout",
     "output_type": "stream",
     "text": [
      "I am a Python Student\n"
     ]
    }
   ],
   "source": [
    "print(\"I\",\"am\",\"a\",\"Python\",\"Student\")"
   ]
  },
  {
   "cell_type": "code",
   "execution_count": 13,
   "id": "ada1775f",
   "metadata": {},
   "outputs": [],
   "source": [
    "def show(a, b ,c ,*args, d=10, e = 20, **kwargs):\n",
    "    print(a)\n",
    "    print(args)\n",
    "    print(d)\n",
    "    print(e)\n",
    "    print(kwargs)"
   ]
  },
  {
   "cell_type": "code",
   "execution_count": 14,
   "id": "baa50fe3",
   "metadata": {},
   "outputs": [
    {
     "name": "stdout",
     "output_type": "stream",
     "text": [
      "1\n",
      "('Coder', 'Programmer')\n",
      "100\n",
      "20\n",
      "{'name': 'Hehe'}\n"
     ]
    }
   ],
   "source": [
    "show(1,2,3,\"Coder\",\"Programmer\",d=100,name=\"Hehe\")"
   ]
  },
  {
   "cell_type": "markdown",
   "id": "575060c1",
   "metadata": {},
   "source": [
    "##### We can check arguements of the functions "
   ]
  },
  {
   "cell_type": "code",
   "execution_count": 37,
   "id": "3f6a3d22",
   "metadata": {},
   "outputs": [],
   "source": [
    "print?"
   ]
  },
  {
   "cell_type": "code",
   "execution_count": null,
   "id": "5e14c584",
   "metadata": {},
   "outputs": [],
   "source": []
  },
  {
   "cell_type": "markdown",
   "id": "f1ddfd0e",
   "metadata": {},
   "source": [
    "### Lambda Functions\n",
    "Syntactical sugar"
   ]
  },
  {
   "cell_type": "code",
   "execution_count": 15,
   "id": "e21d9fe3",
   "metadata": {},
   "outputs": [],
   "source": [
    "add = lambda a, b: a+b"
   ]
  },
  {
   "cell_type": "code",
   "execution_count": 16,
   "id": "3711a0bd",
   "metadata": {},
   "outputs": [
    {
     "data": {
      "text/plain": [
       "3"
      ]
     },
     "execution_count": 16,
     "metadata": {},
     "output_type": "execute_result"
    }
   ],
   "source": [
    "add(1,2)"
   ]
  },
  {
   "cell_type": "code",
   "execution_count": 17,
   "id": "a36e8343",
   "metadata": {},
   "outputs": [],
   "source": [
    "a=[5,3,7,1,2,3]"
   ]
  },
  {
   "cell_type": "code",
   "execution_count": 18,
   "id": "0f2516f2",
   "metadata": {},
   "outputs": [
    {
     "data": {
      "text/plain": [
       "[1, 2, 3, 3, 5, 7]"
      ]
     },
     "execution_count": 18,
     "metadata": {},
     "output_type": "execute_result"
    }
   ],
   "source": [
    "sorted(a)"
   ]
  },
  {
   "cell_type": "code",
   "execution_count": 19,
   "id": "2b5aec74",
   "metadata": {},
   "outputs": [],
   "source": [
    "a=[(\"jatin\", 5), (\"prateek\", 10), (\"ram\", 1), (\"arnav\", 20)]"
   ]
  },
  {
   "cell_type": "code",
   "execution_count": 20,
   "id": "57685feb",
   "metadata": {},
   "outputs": [
    {
     "data": {
      "text/plain": [
       "[('ram', 1), ('jatin', 5), ('prateek', 10), ('arnav', 20)]"
      ]
     },
     "execution_count": 20,
     "metadata": {},
     "output_type": "execute_result"
    }
   ],
   "source": [
    "sorted(a,key=lambda x:x[1])"
   ]
  },
  {
   "cell_type": "code",
   "execution_count": null,
   "id": "febe6aea",
   "metadata": {},
   "outputs": [],
   "source": []
  },
  {
   "cell_type": "code",
   "execution_count": null,
   "id": "20412951",
   "metadata": {},
   "outputs": [],
   "source": []
  },
  {
   "cell_type": "markdown",
   "id": "defa9d95",
   "metadata": {},
   "source": [
    "### Decorators"
   ]
  },
  {
   "cell_type": "code",
   "execution_count": 21,
   "id": "ae7b6ba3",
   "metadata": {},
   "outputs": [],
   "source": [
    "users={\n",
    "    \"jatin\": \"password\",\n",
    "    \"prateek\":\"coding blocks\"\n",
    "}"
   ]
  },
  {
   "cell_type": "code",
   "execution_count": 22,
   "id": "82183c64",
   "metadata": {},
   "outputs": [],
   "source": [
    "def show (username, password):\n",
    "    if username in users and users[username]==password:\n",
    "        print(\"Hello World\")\n",
    "    else:\n",
    "        print(\"Not Authenticated\")"
   ]
  },
  {
   "cell_type": "code",
   "execution_count": 23,
   "id": "a22d4806",
   "metadata": {},
   "outputs": [
    {
     "name": "stdout",
     "output_type": "stream",
     "text": [
      "Not Authenticated\n"
     ]
    }
   ],
   "source": [
    "show(\"jatin\",\"3\")"
   ]
  },
  {
   "cell_type": "code",
   "execution_count": 24,
   "id": "3ebffcd2",
   "metadata": {},
   "outputs": [],
   "source": [
    "def add(username, password, a, b):\n",
    "    if username in users and users[username]==password:\n",
    "        print(a+b)\n",
    "    else:\n",
    "        print(\"Not Authenticated\")"
   ]
  },
  {
   "cell_type": "code",
   "execution_count": 25,
   "id": "8993b8b3",
   "metadata": {},
   "outputs": [
    {
     "name": "stdout",
     "output_type": "stream",
     "text": [
      "Not Authenticated\n"
     ]
    }
   ],
   "source": [
    "add(\"jatin\",\"passworrd123\",1,2)"
   ]
  },
  {
   "cell_type": "code",
   "execution_count": 26,
   "id": "e268728d",
   "metadata": {},
   "outputs": [],
   "source": [
    "def login_required(func):\n",
    "    def wrapper(username, password, *args, **kwargs):\n",
    "        if username in users and users[username]==password:\n",
    "            #User is authenticated\n",
    "            func(*args,**kwargs) # uf we write args , a tuple would be passed\n",
    "            # * inflates the tuple\n",
    "        else:\n",
    "            print(\"Not Authenticated\")\n",
    "            \n",
    "    return wrapper"
   ]
  },
  {
   "cell_type": "code",
   "execution_count": 27,
   "id": "58385194",
   "metadata": {},
   "outputs": [],
   "source": [
    "def add2(a,b):\n",
    "    print(a+b)"
   ]
  },
  {
   "cell_type": "code",
   "execution_count": 28,
   "id": "aec22421",
   "metadata": {},
   "outputs": [
    {
     "name": "stdout",
     "output_type": "stream",
     "text": [
      "3\n"
     ]
    }
   ],
   "source": [
    "add2(1,2)"
   ]
  },
  {
   "cell_type": "code",
   "execution_count": 29,
   "id": "89fe808d",
   "metadata": {},
   "outputs": [],
   "source": [
    "protected_add=login_required(add2)"
   ]
  },
  {
   "cell_type": "code",
   "execution_count": 30,
   "id": "d3683e1e",
   "metadata": {},
   "outputs": [
    {
     "name": "stdout",
     "output_type": "stream",
     "text": [
      "3\n"
     ]
    }
   ],
   "source": [
    "protected_add(\"jatin\", \"password\", 1, 2)"
   ]
  },
  {
   "cell_type": "code",
   "execution_count": 31,
   "id": "a2067b85",
   "metadata": {},
   "outputs": [],
   "source": [
    "def add3(a,b):\n",
    "    print(a+b)\n",
    "add3=login_required(add3)"
   ]
  },
  {
   "cell_type": "code",
   "execution_count": 32,
   "id": "819f33d2",
   "metadata": {},
   "outputs": [],
   "source": [
    "#decorator\n",
    "@login_required\n",
    "# equivalent to above method\n",
    "def add4(a,b):\n",
    "    print (a+b)"
   ]
  },
  {
   "cell_type": "code",
   "execution_count": 33,
   "id": "2527a93f",
   "metadata": {},
   "outputs": [
    {
     "name": "stdout",
     "output_type": "stream",
     "text": [
      "3\n"
     ]
    }
   ],
   "source": [
    "add3(\"prateek\",\"coding blocks\",1,2)"
   ]
  },
  {
   "cell_type": "code",
   "execution_count": 34,
   "id": "bdf65968",
   "metadata": {},
   "outputs": [
    {
     "name": "stdout",
     "output_type": "stream",
     "text": [
      "5\n"
     ]
    }
   ],
   "source": [
    "add4(\"prateek\",\"coding blocks\",2,3)"
   ]
  },
  {
   "cell_type": "code",
   "execution_count": null,
   "id": "15d11d4e",
   "metadata": {},
   "outputs": [],
   "source": []
  }
 ],
 "metadata": {
  "kernelspec": {
   "display_name": "Python 3 (ipykernel)",
   "language": "python",
   "name": "python3"
  },
  "language_info": {
   "codemirror_mode": {
    "name": "ipython",
    "version": 3
   },
   "file_extension": ".py",
   "mimetype": "text/x-python",
   "name": "python",
   "nbconvert_exporter": "python",
   "pygments_lexer": "ipython3",
   "version": "3.9.9"
  }
 },
 "nbformat": 4,
 "nbformat_minor": 5
}
