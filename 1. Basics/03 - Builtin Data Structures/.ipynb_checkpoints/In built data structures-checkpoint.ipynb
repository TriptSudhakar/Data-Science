{
 "cells": [
  {
   "cell_type": "markdown",
   "id": "e4027c28",
   "metadata": {},
   "source": [
    "### Strings"
   ]
  },
  {
   "cell_type": "code",
   "execution_count": 98,
   "id": "f0c403c1",
   "metadata": {},
   "outputs": [],
   "source": [
    " #strings are immutable\n",
    "a=\"jatin\""
   ]
  },
  {
   "cell_type": "code",
   "execution_count": 99,
   "id": "83826086",
   "metadata": {},
   "outputs": [
    {
     "name": "stdout",
     "output_type": "stream",
     "text": [
      "jatin\n"
     ]
    }
   ],
   "source": [
    "print(a)"
   ]
  },
  {
   "cell_type": "code",
   "execution_count": 100,
   "id": "c0b94e77",
   "metadata": {},
   "outputs": [],
   "source": [
    "a=\"\"\"\n",
    "this is a multi line\n",
    "string\n",
    "\"\"\""
   ]
  },
  {
   "cell_type": "code",
   "execution_count": 101,
   "id": "833bdaa8",
   "metadata": {},
   "outputs": [
    {
     "name": "stdout",
     "output_type": "stream",
     "text": [
      "\n",
      "this is a multi line\n",
      "string\n",
      "\n"
     ]
    }
   ],
   "source": [
    "print(a)"
   ]
  },
  {
   "cell_type": "code",
   "execution_count": 102,
   "id": "4921c3e3",
   "metadata": {},
   "outputs": [],
   "source": [
    "a='a'"
   ]
  },
  {
   "cell_type": "code",
   "execution_count": 103,
   "id": "29cf1305",
   "metadata": {},
   "outputs": [
    {
     "data": {
      "text/plain": [
       "97"
      ]
     },
     "execution_count": 103,
     "metadata": {},
     "output_type": "execute_result"
    }
   ],
   "source": [
    "ord(a)"
   ]
  },
  {
   "cell_type": "code",
   "execution_count": 104,
   "id": "62f24ced",
   "metadata": {},
   "outputs": [
    {
     "data": {
      "text/plain": [
       "'A'"
      ]
     },
     "execution_count": 104,
     "metadata": {},
     "output_type": "execute_result"
    }
   ],
   "source": [
    "chr(65)"
   ]
  },
  {
   "cell_type": "code",
   "execution_count": null,
   "id": "bba32975",
   "metadata": {},
   "outputs": [],
   "source": []
  },
  {
   "cell_type": "markdown",
   "id": "48aaaa1c",
   "metadata": {},
   "source": [
    "##### String Operations\n",
    "- formatting strings\n",
    "- strip\n",
    "- split\n",
    "- replace\n",
    "- count"
   ]
  },
  {
   "cell_type": "markdown",
   "id": "d9a9f78f",
   "metadata": {},
   "source": [
    "Formatting strings"
   ]
  },
  {
   "cell_type": "code",
   "execution_count": 105,
   "id": "04e97dbb",
   "metadata": {},
   "outputs": [],
   "source": [
    "x=1\n",
    "y=2\n",
    "z=3"
   ]
  },
  {
   "cell_type": "code",
   "execution_count": 106,
   "id": "b8f6a3e0",
   "metadata": {},
   "outputs": [
    {
     "name": "stdout",
     "output_type": "stream",
     "text": [
      "1-2-3\n"
     ]
    }
   ],
   "source": [
    "print(str(x)+\"-\"+str(y)+\"-\"+str(z))"
   ]
  },
  {
   "cell_type": "code",
   "execution_count": 107,
   "id": "dbe2a91b",
   "metadata": {},
   "outputs": [
    {
     "name": "stdout",
     "output_type": "stream",
     "text": [
      "1-2-3\n"
     ]
    }
   ],
   "source": [
    "print(\"%d-%d-%d\" % (x, y, z))"
   ]
  },
  {
   "cell_type": "code",
   "execution_count": 108,
   "id": "20a55c45",
   "metadata": {},
   "outputs": [
    {
     "name": "stdout",
     "output_type": "stream",
     "text": [
      "1-2-3\n"
     ]
    }
   ],
   "source": [
    "print(\"{}-{}-{}\".format(x,y,z))"
   ]
  },
  {
   "cell_type": "code",
   "execution_count": 109,
   "id": "6b8374db",
   "metadata": {},
   "outputs": [
    {
     "name": "stdout",
     "output_type": "stream",
     "text": [
      "jatin-2-3\n"
     ]
    }
   ],
   "source": [
    "x=\"jatin\"\n",
    "print(\"{}-{}-{}\".format(x,y,z))"
   ]
  },
  {
   "cell_type": "code",
   "execution_count": 110,
   "id": "a7d92c4e",
   "metadata": {},
   "outputs": [
    {
     "name": "stdout",
     "output_type": "stream",
     "text": [
      "2-jatin-3\n"
     ]
    }
   ],
   "source": [
    "print(\"{1}-{0}-{2}\".format(x,y,z))"
   ]
  },
  {
   "cell_type": "code",
   "execution_count": 111,
   "id": "5bc70b98",
   "metadata": {},
   "outputs": [
    {
     "name": "stdout",
     "output_type": "stream",
     "text": [
      "katyal,jatin\n"
     ]
    }
   ],
   "source": [
    "firstname=\"jatin\"\n",
    "lastname=\"katyal\"\n",
    "print(f\"{lastname},{firstname}\")"
   ]
  },
  {
   "cell_type": "code",
   "execution_count": 112,
   "id": "1757079c",
   "metadata": {},
   "outputs": [],
   "source": [
    "name = \"Mohit\"\n",
    "age = 21\n",
    "year = 3"
   ]
  },
  {
   "cell_type": "code",
   "execution_count": 113,
   "id": "9c6d56e9",
   "metadata": {},
   "outputs": [
    {
     "name": "stdout",
     "output_type": "stream",
     "text": [
      "My name is Mohit. I am 21 years old. I am in 3 year.\n"
     ]
    }
   ],
   "source": [
    "print(\"My name is %s. I am %d years old. I am in %d year.\"%(name, age , year))"
   ]
  },
  {
   "cell_type": "markdown",
   "id": "d91732bc",
   "metadata": {},
   "source": [
    "Strip"
   ]
  },
  {
   "cell_type": "code",
   "execution_count": 114,
   "id": "bcc8f23b",
   "metadata": {},
   "outputs": [],
   "source": [
    "a=\"        jatin.       \""
   ]
  },
  {
   "cell_type": "code",
   "execution_count": 115,
   "id": "7a323069",
   "metadata": {},
   "outputs": [
    {
     "name": "stdout",
     "output_type": "stream",
     "text": [
      "        jatin.       \n"
     ]
    }
   ],
   "source": [
    "print(a)"
   ]
  },
  {
   "cell_type": "code",
   "execution_count": 116,
   "id": "6565a423",
   "metadata": {},
   "outputs": [
    {
     "name": "stdout",
     "output_type": "stream",
     "text": [
      "jatin.\n"
     ]
    }
   ],
   "source": [
    "print(a.strip())"
   ]
  },
  {
   "cell_type": "code",
   "execution_count": 117,
   "id": "653e62bd",
   "metadata": {},
   "outputs": [
    {
     "name": "stdout",
     "output_type": "stream",
     "text": [
      " yes \n"
     ]
    }
   ],
   "source": [
    "a=input()"
   ]
  },
  {
   "cell_type": "code",
   "execution_count": 118,
   "id": "48ec13a6",
   "metadata": {},
   "outputs": [
    {
     "data": {
      "text/plain": [
       "False"
      ]
     },
     "execution_count": 118,
     "metadata": {},
     "output_type": "execute_result"
    }
   ],
   "source": [
    "a==\"yes\""
   ]
  },
  {
   "cell_type": "code",
   "execution_count": 119,
   "id": "1116b42f",
   "metadata": {},
   "outputs": [
    {
     "data": {
      "text/plain": [
       "True"
      ]
     },
     "execution_count": 119,
     "metadata": {},
     "output_type": "execute_result"
    }
   ],
   "source": [
    "a.strip()==\"yes\""
   ]
  },
  {
   "cell_type": "code",
   "execution_count": 120,
   "id": "8f5368f5",
   "metadata": {},
   "outputs": [
    {
     "name": "stdout",
     "output_type": "stream",
     "text": [
      "My name is tript\n"
     ]
    }
   ],
   "source": [
    "a=input()"
   ]
  },
  {
   "cell_type": "code",
   "execution_count": 121,
   "id": "774bf379",
   "metadata": {},
   "outputs": [
    {
     "name": "stdout",
     "output_type": "stream",
     "text": [
      "My name is tript\n"
     ]
    }
   ],
   "source": [
    "print(a)"
   ]
  },
  {
   "cell_type": "markdown",
   "id": "b17e3685",
   "metadata": {},
   "source": [
    "Split"
   ]
  },
  {
   "cell_type": "code",
   "execution_count": 122,
   "id": "271f1fdb",
   "metadata": {},
   "outputs": [
    {
     "data": {
      "text/plain": [
       "['My', 'name', 'is', 'tript']"
      ]
     },
     "execution_count": 122,
     "metadata": {},
     "output_type": "execute_result"
    }
   ],
   "source": [
    "a.split(' ')"
   ]
  },
  {
   "cell_type": "code",
   "execution_count": 123,
   "id": "d100665d",
   "metadata": {},
   "outputs": [],
   "source": [
    "a=\"jatin\""
   ]
  },
  {
   "cell_type": "code",
   "execution_count": 124,
   "id": "299b97d1",
   "metadata": {},
   "outputs": [
    {
     "data": {
      "text/plain": [
       "'jatin'"
      ]
     },
     "execution_count": 124,
     "metadata": {},
     "output_type": "execute_result"
    }
   ],
   "source": [
    "a"
   ]
  },
  {
   "cell_type": "markdown",
   "id": "15c1eaa1",
   "metadata": {},
   "source": [
    "Replace"
   ]
  },
  {
   "cell_type": "code",
   "execution_count": 125,
   "id": "5ee00133",
   "metadata": {},
   "outputs": [
    {
     "data": {
      "text/plain": [
       "'latin'"
      ]
     },
     "execution_count": 125,
     "metadata": {},
     "output_type": "execute_result"
    }
   ],
   "source": [
    "a.replace(\"j\",\"l\")"
   ]
  },
  {
   "cell_type": "code",
   "execution_count": 126,
   "id": "bce4f772",
   "metadata": {},
   "outputs": [
    {
     "data": {
      "text/plain": [
       "'zzzbbbccc'"
      ]
     },
     "execution_count": 126,
     "metadata": {},
     "output_type": "execute_result"
    }
   ],
   "source": [
    "a=\"aaabbbccc\"\n",
    "a.replace(\"a\",\"z\")"
   ]
  },
  {
   "cell_type": "markdown",
   "id": "70f1aabe",
   "metadata": {},
   "source": [
    "Count"
   ]
  },
  {
   "cell_type": "code",
   "execution_count": 127,
   "id": "0038d25b",
   "metadata": {},
   "outputs": [
    {
     "data": {
      "text/plain": [
       "3"
      ]
     },
     "execution_count": 127,
     "metadata": {},
     "output_type": "execute_result"
    }
   ],
   "source": [
    "a.count(\"a\")"
   ]
  },
  {
   "cell_type": "code",
   "execution_count": 128,
   "id": "5d4e215c",
   "metadata": {},
   "outputs": [
    {
     "data": {
      "text/plain": [
       "1"
      ]
     },
     "execution_count": 128,
     "metadata": {},
     "output_type": "execute_result"
    }
   ],
   "source": [
    "a.count(\"aa\")"
   ]
  },
  {
   "cell_type": "code",
   "execution_count": null,
   "id": "78ec6ffb",
   "metadata": {},
   "outputs": [],
   "source": []
  },
  {
   "cell_type": "code",
   "execution_count": null,
   "id": "617cd9d4",
   "metadata": {},
   "outputs": [],
   "source": []
  },
  {
   "cell_type": "markdown",
   "id": "03bd6d9f",
   "metadata": {},
   "source": [
    "### Lists"
   ]
  },
  {
   "cell_type": "code",
   "execution_count": 129,
   "id": "7386d353",
   "metadata": {},
   "outputs": [],
   "source": [
    "a=[1,2,3,4]"
   ]
  },
  {
   "cell_type": "code",
   "execution_count": 130,
   "id": "3cdfebfb",
   "metadata": {},
   "outputs": [
    {
     "data": {
      "text/plain": [
       "[1, 2, 3, 4]"
      ]
     },
     "execution_count": 130,
     "metadata": {},
     "output_type": "execute_result"
    }
   ],
   "source": [
    "a"
   ]
  },
  {
   "cell_type": "code",
   "execution_count": 131,
   "id": "6cc2cf0e",
   "metadata": {},
   "outputs": [
    {
     "data": {
      "text/plain": [
       "1"
      ]
     },
     "execution_count": 131,
     "metadata": {},
     "output_type": "execute_result"
    }
   ],
   "source": [
    "a[0]"
   ]
  },
  {
   "cell_type": "code",
   "execution_count": 132,
   "id": "7858e472",
   "metadata": {},
   "outputs": [],
   "source": [
    "a=[\"jatin\",1,1.6,print] # lists can be hetereogenous"
   ]
  },
  {
   "cell_type": "code",
   "execution_count": 133,
   "id": "166f3097",
   "metadata": {},
   "outputs": [
    {
     "data": {
      "text/plain": [
       "'jatin'"
      ]
     },
     "execution_count": 133,
     "metadata": {},
     "output_type": "execute_result"
    }
   ],
   "source": [
    "a[0]"
   ]
  },
  {
   "cell_type": "code",
   "execution_count": 134,
   "id": "438680f1",
   "metadata": {},
   "outputs": [
    {
     "name": "stdout",
     "output_type": "stream",
     "text": [
      "hello world\n"
     ]
    }
   ],
   "source": [
    "a[3](\"hello world\")"
   ]
  },
  {
   "cell_type": "code",
   "execution_count": 135,
   "id": "4c8a1cb9",
   "metadata": {},
   "outputs": [],
   "source": [
    "a=[1,2,3,4]"
   ]
  },
  {
   "cell_type": "code",
   "execution_count": 136,
   "id": "25e6d0a1",
   "metadata": {},
   "outputs": [
    {
     "data": {
      "text/plain": [
       "4"
      ]
     },
     "execution_count": 136,
     "metadata": {},
     "output_type": "execute_result"
    }
   ],
   "source": [
    "len(a)"
   ]
  },
  {
   "cell_type": "markdown",
   "id": "aa5a2d8d",
   "metadata": {},
   "source": [
    "Concatenation"
   ]
  },
  {
   "cell_type": "code",
   "execution_count": 137,
   "id": "ee4f6bed",
   "metadata": {},
   "outputs": [
    {
     "data": {
      "text/plain": [
       "[1, 2, 3, 4, 1, 2, 3, 4]"
      ]
     },
     "execution_count": 137,
     "metadata": {},
     "output_type": "execute_result"
    }
   ],
   "source": [
    "a+a"
   ]
  },
  {
   "cell_type": "code",
   "execution_count": 138,
   "id": "cf419a2e",
   "metadata": {},
   "outputs": [
    {
     "data": {
      "text/plain": [
       "[1, 2, 3, 4, 1, 2, 3, 4, 1, 2, 3, 4, 1, 2, 3, 4, 1, 2, 3, 4]"
      ]
     },
     "execution_count": 138,
     "metadata": {},
     "output_type": "execute_result"
    }
   ],
   "source": [
    "a*5"
   ]
  },
  {
   "cell_type": "code",
   "execution_count": 139,
   "id": "bd418e33",
   "metadata": {},
   "outputs": [
    {
     "data": {
      "text/plain": [
       "True"
      ]
     },
     "execution_count": 139,
     "metadata": {},
     "output_type": "execute_result"
    }
   ],
   "source": [
    "1 in a"
   ]
  },
  {
   "cell_type": "code",
   "execution_count": 140,
   "id": "0d03232c",
   "metadata": {},
   "outputs": [
    {
     "name": "stdout",
     "output_type": "stream",
     "text": [
      "1\n",
      "2\n",
      "3\n",
      "4\n"
     ]
    }
   ],
   "source": [
    "for x in a:\n",
    "    print(x)"
   ]
  },
  {
   "cell_type": "markdown",
   "id": "22148eb7",
   "metadata": {},
   "source": [
    "Reverse indexing"
   ]
  },
  {
   "cell_type": "code",
   "execution_count": 141,
   "id": "c6a07a55",
   "metadata": {},
   "outputs": [
    {
     "data": {
      "text/plain": [
       "4"
      ]
     },
     "execution_count": 141,
     "metadata": {},
     "output_type": "execute_result"
    }
   ],
   "source": [
    "a[-1]"
   ]
  },
  {
   "cell_type": "code",
   "execution_count": 142,
   "id": "4790961b",
   "metadata": {},
   "outputs": [],
   "source": [
    "a=[1,2,3,4,5]"
   ]
  },
  {
   "cell_type": "code",
   "execution_count": 143,
   "id": "27754eb2",
   "metadata": {},
   "outputs": [
    {
     "data": {
      "text/plain": [
       "[2, 3, 4]"
      ]
     },
     "execution_count": 143,
     "metadata": {},
     "output_type": "execute_result"
    }
   ],
   "source": [
    "a[1:4]"
   ]
  },
  {
   "cell_type": "code",
   "execution_count": 144,
   "id": "6e162e1c",
   "metadata": {},
   "outputs": [
    {
     "data": {
      "text/plain": [
       "[1, 3, 5]"
      ]
     },
     "execution_count": 144,
     "metadata": {},
     "output_type": "execute_result"
    }
   ],
   "source": [
    "a[0:5:2]"
   ]
  },
  {
   "cell_type": "code",
   "execution_count": 145,
   "id": "02b377a4",
   "metadata": {},
   "outputs": [
    {
     "data": {
      "text/plain": [
       "[5, 4, 3, 2, 1]"
      ]
     },
     "execution_count": 145,
     "metadata": {},
     "output_type": "execute_result"
    }
   ],
   "source": [
    "a[::-1]"
   ]
  },
  {
   "cell_type": "code",
   "execution_count": 146,
   "id": "34a461a3",
   "metadata": {},
   "outputs": [
    {
     "data": {
      "text/plain": [
       "False"
      ]
     },
     "execution_count": 146,
     "metadata": {},
     "output_type": "execute_result"
    }
   ],
   "source": [
    "a==a[::-1]"
   ]
  },
  {
   "cell_type": "markdown",
   "id": "f1097d64",
   "metadata": {},
   "source": [
    "Updating list\n",
    "- insert\n",
    "- append"
   ]
  },
  {
   "cell_type": "code",
   "execution_count": 147,
   "id": "6c12a1db",
   "metadata": {},
   "outputs": [],
   "source": [
    "a.insert(1,\"jatin\")"
   ]
  },
  {
   "cell_type": "code",
   "execution_count": 148,
   "id": "b1023096",
   "metadata": {},
   "outputs": [
    {
     "data": {
      "text/plain": [
       "[1, 'jatin', 2, 3, 4, 5]"
      ]
     },
     "execution_count": 148,
     "metadata": {},
     "output_type": "execute_result"
    }
   ],
   "source": [
    "a"
   ]
  },
  {
   "cell_type": "code",
   "execution_count": 149,
   "id": "87dbaaf5",
   "metadata": {},
   "outputs": [],
   "source": [
    "a.append(\"katyal\")"
   ]
  },
  {
   "cell_type": "code",
   "execution_count": 150,
   "id": "b20bfa73",
   "metadata": {},
   "outputs": [
    {
     "data": {
      "text/plain": [
       "[1, 'jatin', 2, 3, 4, 5, 'katyal']"
      ]
     },
     "execution_count": 150,
     "metadata": {},
     "output_type": "execute_result"
    }
   ],
   "source": [
    "a"
   ]
  },
  {
   "cell_type": "markdown",
   "id": "f37e7f8b",
   "metadata": {},
   "source": [
    "Deleting list elements\n",
    "- del\n",
    "- pop\n",
    "- remove"
   ]
  },
  {
   "cell_type": "code",
   "execution_count": 151,
   "id": "1b4f847e",
   "metadata": {},
   "outputs": [],
   "source": [
    "a=[1,2,3,4,5]"
   ]
  },
  {
   "cell_type": "code",
   "execution_count": 152,
   "id": "f1cea857",
   "metadata": {},
   "outputs": [
    {
     "data": {
      "text/plain": [
       "5"
      ]
     },
     "execution_count": 152,
     "metadata": {},
     "output_type": "execute_result"
    }
   ],
   "source": [
    "a.pop()"
   ]
  },
  {
   "cell_type": "code",
   "execution_count": 153,
   "id": "0c907f56",
   "metadata": {},
   "outputs": [
    {
     "data": {
      "text/plain": [
       "[1, 2, 3, 4]"
      ]
     },
     "execution_count": 153,
     "metadata": {},
     "output_type": "execute_result"
    }
   ],
   "source": [
    "a"
   ]
  },
  {
   "cell_type": "code",
   "execution_count": 154,
   "id": "a5109866",
   "metadata": {},
   "outputs": [
    {
     "data": {
      "text/plain": [
       "2"
      ]
     },
     "execution_count": 154,
     "metadata": {},
     "output_type": "execute_result"
    }
   ],
   "source": [
    "a.pop(1) # can also take index as an arguement"
   ]
  },
  {
   "cell_type": "code",
   "execution_count": 155,
   "id": "ad4675e5",
   "metadata": {},
   "outputs": [],
   "source": [
    "a=[\"jatin\", \"prateek\", \"bipin\"]"
   ]
  },
  {
   "cell_type": "code",
   "execution_count": 156,
   "id": "5c2ee852",
   "metadata": {},
   "outputs": [],
   "source": [
    "a.remove(\"bipin\") # takes object as an arguement and removes first occurence of that object"
   ]
  },
  {
   "cell_type": "code",
   "execution_count": 157,
   "id": "e20692b0",
   "metadata": {},
   "outputs": [
    {
     "data": {
      "text/plain": [
       "['jatin', 'prateek']"
      ]
     },
     "execution_count": 157,
     "metadata": {},
     "output_type": "execute_result"
    }
   ],
   "source": [
    "a"
   ]
  },
  {
   "cell_type": "code",
   "execution_count": 158,
   "id": "d59d6a37",
   "metadata": {},
   "outputs": [],
   "source": [
    "del a[1] # removes object from memory scope"
   ]
  },
  {
   "cell_type": "code",
   "execution_count": 159,
   "id": "e2b7a381",
   "metadata": {},
   "outputs": [
    {
     "data": {
      "text/plain": [
       "['jatin']"
      ]
     },
     "execution_count": 159,
     "metadata": {},
     "output_type": "execute_result"
    }
   ],
   "source": [
    "a"
   ]
  },
  {
   "cell_type": "markdown",
   "id": "50162271",
   "metadata": {},
   "source": [
    "Sorting and Reversing"
   ]
  },
  {
   "cell_type": "code",
   "execution_count": 160,
   "id": "3e685bb0",
   "metadata": {},
   "outputs": [],
   "source": [
    "a=[5,2,3,1,4]"
   ]
  },
  {
   "cell_type": "code",
   "execution_count": 161,
   "id": "fbfe2763",
   "metadata": {},
   "outputs": [
    {
     "data": {
      "text/plain": [
       "[1, 2, 3, 4, 5]"
      ]
     },
     "execution_count": 161,
     "metadata": {},
     "output_type": "execute_result"
    }
   ],
   "source": [
    "sorted(a) # returns the sorted list"
   ]
  },
  {
   "cell_type": "code",
   "execution_count": 162,
   "id": "ae7374b3",
   "metadata": {},
   "outputs": [],
   "source": [
    "a.sort() # sorts the list in place"
   ]
  },
  {
   "cell_type": "code",
   "execution_count": 163,
   "id": "2312cc9d",
   "metadata": {},
   "outputs": [
    {
     "data": {
      "text/plain": [
       "[1, 2, 3, 4, 5]"
      ]
     },
     "execution_count": 163,
     "metadata": {},
     "output_type": "execute_result"
    }
   ],
   "source": [
    "a"
   ]
  },
  {
   "cell_type": "code",
   "execution_count": 164,
   "id": "fbf141a7",
   "metadata": {},
   "outputs": [
    {
     "name": "stdout",
     "output_type": "stream",
     "text": [
      "5\n",
      "4\n",
      "3\n",
      "2\n",
      "1\n"
     ]
    }
   ],
   "source": [
    "for i in reversed(a):\n",
    "    print (i)"
   ]
  },
  {
   "cell_type": "code",
   "execution_count": 165,
   "id": "e9e2930b",
   "metadata": {},
   "outputs": [],
   "source": [
    "a.reverse() # reversing in place"
   ]
  },
  {
   "cell_type": "code",
   "execution_count": 166,
   "id": "006479ed",
   "metadata": {},
   "outputs": [
    {
     "data": {
      "text/plain": [
       "[5, 4, 3, 2, 1]"
      ]
     },
     "execution_count": 166,
     "metadata": {},
     "output_type": "execute_result"
    }
   ],
   "source": [
    "a"
   ]
  },
  {
   "cell_type": "code",
   "execution_count": null,
   "id": "55d6d4ff",
   "metadata": {},
   "outputs": [],
   "source": []
  },
  {
   "cell_type": "code",
   "execution_count": null,
   "id": "2ff7195b",
   "metadata": {},
   "outputs": [],
   "source": []
  },
  {
   "cell_type": "markdown",
   "id": "0d7e1fdb",
   "metadata": {},
   "source": [
    "### Tuples"
   ]
  },
  {
   "cell_type": "code",
   "execution_count": 167,
   "id": "fb5ec43f",
   "metadata": {},
   "outputs": [],
   "source": [
    "a=[1,2,3,4]"
   ]
  },
  {
   "cell_type": "code",
   "execution_count": 168,
   "id": "6c2863a9",
   "metadata": {},
   "outputs": [
    {
     "data": {
      "text/plain": [
       "1602994365184"
      ]
     },
     "execution_count": 168,
     "metadata": {},
     "output_type": "execute_result"
    }
   ],
   "source": [
    "id(a)"
   ]
  },
  {
   "cell_type": "code",
   "execution_count": 169,
   "id": "c17c0aee",
   "metadata": {},
   "outputs": [
    {
     "data": {
      "text/plain": [
       "1602994365184"
      ]
     },
     "execution_count": 169,
     "metadata": {},
     "output_type": "execute_result"
    }
   ],
   "source": [
    "a[0]=2\n",
    "id(a) # memory address of list doesn't change on changing element"
   ]
  },
  {
   "cell_type": "code",
   "execution_count": 170,
   "id": "7404f67f",
   "metadata": {},
   "outputs": [
    {
     "data": {
      "text/plain": [
       "tuple"
      ]
     },
     "execution_count": 170,
     "metadata": {},
     "output_type": "execute_result"
    }
   ],
   "source": [
    "a=1,2\n",
    "type(a)"
   ]
  },
  {
   "cell_type": "code",
   "execution_count": 171,
   "id": "6cd7651b",
   "metadata": {},
   "outputs": [],
   "source": [
    "a=5\n",
    "b=9"
   ]
  },
  {
   "cell_type": "code",
   "execution_count": 172,
   "id": "5fc61da5",
   "metadata": {},
   "outputs": [],
   "source": [
    "b,a=a,b"
   ]
  },
  {
   "cell_type": "code",
   "execution_count": 173,
   "id": "21d8a542",
   "metadata": {},
   "outputs": [
    {
     "name": "stdout",
     "output_type": "stream",
     "text": [
      "9 5\n"
     ]
    }
   ],
   "source": [
    "print(a,b)"
   ]
  },
  {
   "cell_type": "code",
   "execution_count": null,
   "id": "b557eb22",
   "metadata": {},
   "outputs": [],
   "source": []
  },
  {
   "cell_type": "markdown",
   "id": "85324fc2",
   "metadata": {},
   "source": [
    "List to Tuple and Tuple to List"
   ]
  },
  {
   "cell_type": "code",
   "execution_count": 174,
   "id": "da6620ff",
   "metadata": {},
   "outputs": [],
   "source": [
    "a=(1,2,3)"
   ]
  },
  {
   "cell_type": "code",
   "execution_count": 175,
   "id": "7ba5e730",
   "metadata": {},
   "outputs": [],
   "source": [
    "a=list(\"jatin\") # list() takes an iterable as an arguement"
   ]
  },
  {
   "cell_type": "code",
   "execution_count": 176,
   "id": "d8f72739",
   "metadata": {},
   "outputs": [
    {
     "name": "stdout",
     "output_type": "stream",
     "text": [
      "['j', 'a', 't', 'i', 'n']\n"
     ]
    }
   ],
   "source": [
    "print(a)"
   ]
  },
  {
   "cell_type": "code",
   "execution_count": 177,
   "id": "df975f1b",
   "metadata": {},
   "outputs": [],
   "source": [
    "a = list(range(15))"
   ]
  },
  {
   "cell_type": "code",
   "execution_count": 178,
   "id": "5cb84317",
   "metadata": {},
   "outputs": [
    {
     "name": "stdout",
     "output_type": "stream",
     "text": [
      "[0, 1, 2, 3, 4, 5, 6, 7, 8, 9, 10, 11, 12, 13, 14]\n"
     ]
    }
   ],
   "source": [
    "print(a)"
   ]
  },
  {
   "cell_type": "code",
   "execution_count": 179,
   "id": "f3b6f2e5",
   "metadata": {},
   "outputs": [],
   "source": [
    "a=tuple(a)"
   ]
  },
  {
   "cell_type": "code",
   "execution_count": 180,
   "id": "4498c837",
   "metadata": {},
   "outputs": [
    {
     "data": {
      "text/plain": [
       "15"
      ]
     },
     "execution_count": 180,
     "metadata": {},
     "output_type": "execute_result"
    }
   ],
   "source": [
    "len(a)"
   ]
  },
  {
   "cell_type": "code",
   "execution_count": 181,
   "id": "3939b7b9",
   "metadata": {},
   "outputs": [
    {
     "data": {
      "text/plain": [
       "(0, 1, 2, 3, 4, 5, 6, 7, 8, 9, 10, 11, 12, 13, 14)"
      ]
     },
     "execution_count": 181,
     "metadata": {},
     "output_type": "execute_result"
    }
   ],
   "source": [
    "a"
   ]
  },
  {
   "cell_type": "code",
   "execution_count": null,
   "id": "c1fe0985",
   "metadata": {},
   "outputs": [],
   "source": []
  },
  {
   "cell_type": "code",
   "execution_count": null,
   "id": "ab91da72",
   "metadata": {},
   "outputs": [],
   "source": []
  },
  {
   "cell_type": "markdown",
   "id": "19e763d7",
   "metadata": {},
   "source": [
    "### Dictionary"
   ]
  },
  {
   "cell_type": "code",
   "execution_count": 182,
   "id": "1d79de14",
   "metadata": {},
   "outputs": [],
   "source": [
    "a={\n",
    "    \"name\":\"jatin\",\n",
    "    \"marks\":90,\n",
    "    \"subjects\":[\"eng\",\"math\"],\n",
    "    \"friends\":{\n",
    "        \"pulkit\":\"android\"\n",
    "    }\n",
    "}"
   ]
  },
  {
   "cell_type": "code",
   "execution_count": 183,
   "id": "64431ec7",
   "metadata": {},
   "outputs": [
    {
     "data": {
      "text/plain": [
       "'jatin'"
      ]
     },
     "execution_count": 183,
     "metadata": {},
     "output_type": "execute_result"
    }
   ],
   "source": [
    "a[\"name\"]"
   ]
  },
  {
   "cell_type": "code",
   "execution_count": 184,
   "id": "eeca443b",
   "metadata": {},
   "outputs": [
    {
     "name": "stdout",
     "output_type": "stream",
     "text": [
      "name\n",
      "marks\n",
      "subjects\n",
      "friends\n"
     ]
    }
   ],
   "source": [
    "for key in a:\n",
    "    print(key)"
   ]
  },
  {
   "cell_type": "markdown",
   "id": "308ced72",
   "metadata": {},
   "source": [
    "Some important dict methods\n",
    "- get()\n",
    "- items()\n",
    "- keys()\n",
    "- values()\n",
    "- clear()"
   ]
  },
  {
   "cell_type": "code",
   "execution_count": 185,
   "id": "5d12cf42",
   "metadata": {},
   "outputs": [
    {
     "name": "stdout",
     "output_type": "stream",
     "text": [
      "('name', 'jatin')\n",
      "('marks', 90)\n",
      "('subjects', ['eng', 'math'])\n",
      "('friends', {'pulkit': 'android'})\n"
     ]
    }
   ],
   "source": [
    "for item in a.items():\n",
    "    print(item) # creates tuples"
   ]
  },
  {
   "cell_type": "code",
   "execution_count": 186,
   "id": "83a6f7c4",
   "metadata": {},
   "outputs": [
    {
     "name": "stdout",
     "output_type": "stream",
     "text": [
      "name => jatin\n",
      "marks => 90\n",
      "subjects => ['eng', 'math']\n",
      "friends => {'pulkit': 'android'}\n"
     ]
    }
   ],
   "source": [
    "for key,value in a.items():\n",
    "    print(key,\"=>\",value)"
   ]
  },
  {
   "cell_type": "code",
   "execution_count": 187,
   "id": "866e1a49",
   "metadata": {},
   "outputs": [
    {
     "name": "stdout",
     "output_type": "stream",
     "text": [
      "name\n",
      "marks\n",
      "subjects\n",
      "friends\n"
     ]
    }
   ],
   "source": [
    "for key in a.keys():\n",
    "    print(key)"
   ]
  },
  {
   "cell_type": "code",
   "execution_count": 188,
   "id": "103bb3aa",
   "metadata": {},
   "outputs": [
    {
     "name": "stdout",
     "output_type": "stream",
     "text": [
      "jatin\n",
      "90\n",
      "['eng', 'math']\n",
      "{'pulkit': 'android'}\n"
     ]
    }
   ],
   "source": [
    "for val in a.values():\n",
    "    print(val)"
   ]
  },
  {
   "cell_type": "code",
   "execution_count": 189,
   "id": "38bbd22e",
   "metadata": {},
   "outputs": [],
   "source": [
    "a.get(\"name1\") # doesn't give error when key isn't present in dictionary"
   ]
  },
  {
   "cell_type": "code",
   "execution_count": 190,
   "id": "063f84e4",
   "metadata": {},
   "outputs": [],
   "source": [
    "a.clear()"
   ]
  },
  {
   "cell_type": "code",
   "execution_count": 191,
   "id": "4e1467e7",
   "metadata": {},
   "outputs": [
    {
     "data": {
      "text/plain": [
       "{}"
      ]
     },
     "execution_count": 191,
     "metadata": {},
     "output_type": "execute_result"
    }
   ],
   "source": [
    "a"
   ]
  },
  {
   "cell_type": "code",
   "execution_count": null,
   "id": "5b363147",
   "metadata": {},
   "outputs": [],
   "source": []
  },
  {
   "cell_type": "code",
   "execution_count": 192,
   "id": "e9451f2d",
   "metadata": {},
   "outputs": [],
   "source": [
    "students=[]"
   ]
  },
  {
   "cell_type": "code",
   "execution_count": 193,
   "id": "1a729521",
   "metadata": {},
   "outputs": [
    {
     "name": "stdout",
     "output_type": "stream",
     "text": [
      "1\n"
     ]
    }
   ],
   "source": [
    "n=int(input())"
   ]
  },
  {
   "cell_type": "markdown",
   "id": "7d65d664",
   "metadata": {},
   "source": [
    "Keys in dictionary can be ANY immutable DS"
   ]
  },
  {
   "cell_type": "code",
   "execution_count": 194,
   "id": "91b1c40c",
   "metadata": {},
   "outputs": [
    {
     "name": "stdout",
     "output_type": "stream",
     "text": [
      "1211\n",
      "abhsihek\n",
      "cse\n"
     ]
    }
   ],
   "source": [
    "for _ in range(n):\n",
    "    roll=int(input())\n",
    "    name=input()\n",
    "    branch=input()\n",
    "    students.append({\n",
    "        \"roll-no\": roll,\n",
    "        \"name\": name,\n",
    "        \"branch\": branch\n",
    "    })"
   ]
  },
  {
   "cell_type": "code",
   "execution_count": null,
   "id": "38ace457",
   "metadata": {},
   "outputs": [],
   "source": []
  },
  {
   "cell_type": "code",
   "execution_count": null,
   "id": "3c4b6c50",
   "metadata": {},
   "outputs": [],
   "source": []
  },
  {
   "cell_type": "markdown",
   "id": "0c0fabc8",
   "metadata": {},
   "source": [
    "### Sets"
   ]
  },
  {
   "cell_type": "code",
   "execution_count": 197,
   "id": "271d5b8e",
   "metadata": {},
   "outputs": [],
   "source": [
    "a = set() # to create a blank set, as a = {} would create a blank dictionary"
   ]
  },
  {
   "cell_type": "code",
   "execution_count": 198,
   "id": "ab188d2e",
   "metadata": {},
   "outputs": [],
   "source": [
    "a = {1,2,3,4}"
   ]
  },
  {
   "cell_type": "code",
   "execution_count": 199,
   "id": "dec33f5d",
   "metadata": {},
   "outputs": [
    {
     "data": {
      "text/plain": [
       "set"
      ]
     },
     "execution_count": 199,
     "metadata": {},
     "output_type": "execute_result"
    }
   ],
   "source": [
    "type(a)"
   ]
  },
  {
   "cell_type": "code",
   "execution_count": 200,
   "id": "06aed28d",
   "metadata": {},
   "outputs": [],
   "source": [
    "b = {3,4,5,6}"
   ]
  },
  {
   "cell_type": "code",
   "execution_count": 201,
   "id": "4fad0976",
   "metadata": {},
   "outputs": [
    {
     "data": {
      "text/plain": [
       "{3, 4}"
      ]
     },
     "execution_count": 201,
     "metadata": {},
     "output_type": "execute_result"
    }
   ],
   "source": [
    "a.intersection(b)"
   ]
  },
  {
   "cell_type": "code",
   "execution_count": 202,
   "id": "21573c76",
   "metadata": {},
   "outputs": [
    {
     "data": {
      "text/plain": [
       "{1, 2, 3, 4, 5, 6}"
      ]
     },
     "execution_count": 202,
     "metadata": {},
     "output_type": "execute_result"
    }
   ],
   "source": [
    "a.union(b)"
   ]
  },
  {
   "cell_type": "code",
   "execution_count": 203,
   "id": "0456564e",
   "metadata": {},
   "outputs": [
    {
     "data": {
      "text/plain": [
       "{1, 2}"
      ]
     },
     "execution_count": 203,
     "metadata": {},
     "output_type": "execute_result"
    }
   ],
   "source": [
    "a - b"
   ]
  },
  {
   "cell_type": "code",
   "execution_count": 205,
   "id": "cc02c79f",
   "metadata": {},
   "outputs": [
    {
     "name": "stdout",
     "output_type": "stream",
     "text": [
      "1\n",
      "2\n",
      "3\n",
      "4\n"
     ]
    }
   ],
   "source": [
    "# Sets are not indexable, but can be iterated\n",
    "for i in a: \n",
    "    print(i)"
   ]
  },
  {
   "cell_type": "code",
   "execution_count": 206,
   "id": "ec862376",
   "metadata": {},
   "outputs": [],
   "source": [
    "a = {1,2,3,4,1,2,3,4}"
   ]
  },
  {
   "cell_type": "code",
   "execution_count": 207,
   "id": "0a7065de",
   "metadata": {},
   "outputs": [
    {
     "data": {
      "text/plain": [
       "{1, 2, 3, 4}"
      ]
     },
     "execution_count": 207,
     "metadata": {},
     "output_type": "execute_result"
    }
   ],
   "source": [
    "a # duplicates are removed"
   ]
  },
  {
   "cell_type": "code",
   "execution_count": 208,
   "id": "26e3793d",
   "metadata": {},
   "outputs": [
    {
     "data": {
      "text/plain": [
       "4"
      ]
     },
     "execution_count": 208,
     "metadata": {},
     "output_type": "execute_result"
    }
   ],
   "source": [
    "len(a)"
   ]
  },
  {
   "cell_type": "code",
   "execution_count": 209,
   "id": "83320568",
   "metadata": {},
   "outputs": [],
   "source": [
    "a = [1,2,1,1,2,1,2,2,1]"
   ]
  },
  {
   "cell_type": "code",
   "execution_count": 210,
   "id": "c5f16c8f",
   "metadata": {},
   "outputs": [
    {
     "data": {
      "text/plain": [
       "[1, 2]"
      ]
     },
     "execution_count": 210,
     "metadata": {},
     "output_type": "execute_result"
    }
   ],
   "source": [
    "list(set(a)) # in this we cannot ensure the relative ordering of elements "
   ]
  },
  {
   "cell_type": "code",
   "execution_count": null,
   "id": "519f243f",
   "metadata": {},
   "outputs": [],
   "source": []
  },
  {
   "cell_type": "code",
   "execution_count": null,
   "id": "ab69335d",
   "metadata": {},
   "outputs": [],
   "source": []
  },
  {
   "cell_type": "markdown",
   "id": "b839b162",
   "metadata": {},
   "source": [
    "### Comprehension"
   ]
  },
  {
   "cell_type": "code",
   "execution_count": 211,
   "id": "97dfc5dd",
   "metadata": {},
   "outputs": [],
   "source": [
    "a = []\n",
    "for i in range(10):\n",
    "    a.append(i**2)"
   ]
  },
  {
   "cell_type": "code",
   "execution_count": 212,
   "id": "94347639",
   "metadata": {},
   "outputs": [
    {
     "data": {
      "text/plain": [
       "[0, 1, 4, 9, 16, 25, 36, 49, 64, 81]"
      ]
     },
     "execution_count": 212,
     "metadata": {},
     "output_type": "execute_result"
    }
   ],
   "source": [
    "a"
   ]
  },
  {
   "cell_type": "markdown",
   "id": "f9ab6e1f",
   "metadata": {},
   "source": [
    "List Comprehension"
   ]
  },
  {
   "cell_type": "code",
   "execution_count": 213,
   "id": "358b532e",
   "metadata": {},
   "outputs": [
    {
     "data": {
      "text/plain": [
       "[0, 1, 4, 9, 16, 25, 36, 49, 64, 81]"
      ]
     },
     "execution_count": 213,
     "metadata": {},
     "output_type": "execute_result"
    }
   ],
   "source": [
    "[i**2 for i in range(10)]"
   ]
  },
  {
   "cell_type": "code",
   "execution_count": 215,
   "id": "888484fa",
   "metadata": {},
   "outputs": [
    {
     "data": {
      "text/plain": [
       "[0, 4, 16, 36, 64]"
      ]
     },
     "execution_count": 215,
     "metadata": {},
     "output_type": "execute_result"
    }
   ],
   "source": [
    "[i**2 for i in range(10) if i%2 == 0]"
   ]
  },
  {
   "cell_type": "markdown",
   "id": "cfa167c2",
   "metadata": {},
   "source": [
    "Dict Comprehension"
   ]
  },
  {
   "cell_type": "code",
   "execution_count": 217,
   "id": "90775c2f",
   "metadata": {},
   "outputs": [
    {
     "data": {
      "text/plain": [
       "{0: 0, 1: 1, 2: 4, 3: 9, 4: 16, 5: 25, 6: 36, 7: 49, 8: 64, 9: 81}"
      ]
     },
     "execution_count": 217,
     "metadata": {},
     "output_type": "execute_result"
    }
   ],
   "source": [
    "{i:i**2 for i in range(10)} # can also have conditionals and nested for loops"
   ]
  },
  {
   "cell_type": "markdown",
   "id": "b4d78c6d",
   "metadata": {},
   "source": [
    "Set Comprehension"
   ]
  },
  {
   "cell_type": "code",
   "execution_count": 218,
   "id": "ff06cdcd",
   "metadata": {},
   "outputs": [
    {
     "data": {
      "text/plain": [
       "{0, 4, 16, 36, 64}"
      ]
     },
     "execution_count": 218,
     "metadata": {},
     "output_type": "execute_result"
    }
   ],
   "source": [
    "{i**2 for i in range(10) if i%2 == 0}"
   ]
  },
  {
   "cell_type": "markdown",
   "id": "f383e4d1",
   "metadata": {},
   "source": [
    "NOT Tuple Comprehension"
   ]
  },
  {
   "cell_type": "code",
   "execution_count": 219,
   "id": "55f4ec57",
   "metadata": {},
   "outputs": [],
   "source": [
    "a = (i**2 for i in range(10))"
   ]
  },
  {
   "cell_type": "code",
   "execution_count": 220,
   "id": "db2a6f26",
   "metadata": {},
   "outputs": [
    {
     "data": {
      "text/plain": [
       "<generator object <genexpr> at 0x0000017539E7EE40>"
      ]
     },
     "execution_count": 220,
     "metadata": {},
     "output_type": "execute_result"
    }
   ],
   "source": [
    "a"
   ]
  },
  {
   "cell_type": "code",
   "execution_count": null,
   "id": "c070a955",
   "metadata": {},
   "outputs": [],
   "source": []
  }
 ],
 "metadata": {
  "kernelspec": {
   "display_name": "Python 3 (ipykernel)",
   "language": "python",
   "name": "python3"
  },
  "language_info": {
   "codemirror_mode": {
    "name": "ipython",
    "version": 3
   },
   "file_extension": ".py",
   "mimetype": "text/x-python",
   "name": "python",
   "nbconvert_exporter": "python",
   "pygments_lexer": "ipython3",
   "version": "3.9.9"
  }
 },
 "nbformat": 4,
 "nbformat_minor": 5
}
