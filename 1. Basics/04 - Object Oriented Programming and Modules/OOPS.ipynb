{
 "cells": [
  {
   "cell_type": "code",
   "execution_count": 1,
   "id": "83535cac",
   "metadata": {},
   "outputs": [
    {
     "name": "stdout",
     "output_type": "stream",
     "text": [
      "True\n",
      "True\n",
      "True\n"
     ]
    }
   ],
   "source": [
    "#python treates everything as an object\n",
    "a = 1\n",
    "print(isinstance(a,object))\n",
    "a = 'jatin'\n",
    "print(isinstance(a,object))\n",
    "a = print\n",
    "print(isinstance(a,object))"
   ]
  },
  {
   "cell_type": "markdown",
   "id": "1f5c6358",
   "metadata": {},
   "source": [
    "##### A minimal example of class\n"
   ]
  },
  {
   "cell_type": "code",
   "execution_count": 2,
   "id": "a8f81481",
   "metadata": {},
   "outputs": [
    {
     "name": "stdout",
     "output_type": "stream",
     "text": [
      "<__main__.Person object at 0x000001E8B2FECA00>\n"
     ]
    }
   ],
   "source": [
    "class Person:\n",
    "    pass # empty class\n",
    "p = Person()\n",
    "print(p)"
   ]
  },
  {
   "cell_type": "markdown",
   "id": "0782b0e3",
   "metadata": {},
   "source": [
    "#### Class with a method\n",
    "> Class methods have only one specific difference from ordinary functions - they must have an extra first name that has to be added to the beginning of the parameter list, but you do not give a value for this parameter when you call the method, Pyhton will provide it. This particular variable refers to the objects itself, and by convention, it is given the name self."
   ]
  },
  {
   "cell_type": "code",
   "execution_count": 3,
   "id": "1cd23875",
   "metadata": {},
   "outputs": [
    {
     "name": "stdout",
     "output_type": "stream",
     "text": [
      "Hello, my name is jatin\n",
      "Hello, my name is jatin\n"
     ]
    }
   ],
   "source": [
    "class Person:\n",
    "    name = 'jatin'\n",
    "    def say_hi(self):\n",
    "        print('Hello, my name is',self.name)\n",
    "        \n",
    "p = Person()\n",
    "p.say_hi()\n",
    "\n",
    "Person.say_hi(p)"
   ]
  },
  {
   "cell_type": "markdown",
   "id": "adb41254",
   "metadata": {},
   "source": [
    "#### The init method"
   ]
  },
  {
   "cell_type": "code",
   "execution_count": 4,
   "id": "1bfdd973",
   "metadata": {},
   "outputs": [
    {
     "name": "stdout",
     "output_type": "stream",
     "text": [
      "Hello, my name is abhishek\n",
      "Hello, my name is abhishek\n"
     ]
    }
   ],
   "source": [
    "class Person:\n",
    "    # not a constructor\n",
    "    def __init__(self,name): # called whenever an object is created\n",
    "        self.name = name\n",
    "    def say_hi(self):\n",
    "        print('Hello, my name is',self.name)\n",
    "        \n",
    "p = Person('abhishek')\n",
    "p.say_hi()\n",
    "\n",
    "Person.say_hi(p)"
   ]
  },
  {
   "cell_type": "code",
   "execution_count": null,
   "id": "7bdfc920",
   "metadata": {},
   "outputs": [],
   "source": []
  },
  {
   "cell_type": "code",
   "execution_count": null,
   "id": "dfb31270",
   "metadata": {},
   "outputs": [],
   "source": []
  },
  {
   "cell_type": "markdown",
   "id": "24a5adc6",
   "metadata": {},
   "source": [
    "#### Dunders and Magic functions"
   ]
  },
  {
   "cell_type": "code",
   "execution_count": 5,
   "id": "d7fde93b",
   "metadata": {},
   "outputs": [],
   "source": [
    "class Car:\n",
    "    def  __init__(self, model, mileage):\n",
    "        self.model = model\n",
    "        self.mileage = mileage\n",
    "    def __str__(self):\n",
    "        return \"{}{}\".format(self.model,self.mileage) # this method is called whenever str() or print() \n",
    "#     is used on an object\n",
    "    def __repr__(self):\n",
    "        return \"{}\".format(self.model)\n",
    "    def __eq__(self,other):\n",
    "        return self.mileage == other.mileage\n",
    "    def __add__(self,other):\n",
    "        return self.mileage + other.mileage"
   ]
  },
  {
   "cell_type": "code",
   "execution_count": 6,
   "id": "e1a09930",
   "metadata": {},
   "outputs": [],
   "source": [
    "c1 = Car('a',2)\n",
    "c2 = Car('b',2)"
   ]
  },
  {
   "cell_type": "code",
   "execution_count": 7,
   "id": "004498d8",
   "metadata": {},
   "outputs": [
    {
     "data": {
      "text/plain": [
       "4"
      ]
     },
     "execution_count": 7,
     "metadata": {},
     "output_type": "execute_result"
    }
   ],
   "source": [
    "c1 + c2"
   ]
  },
  {
   "cell_type": "code",
   "execution_count": 8,
   "id": "04acb5a0",
   "metadata": {},
   "outputs": [
    {
     "data": {
      "text/plain": [
       "True"
      ]
     },
     "execution_count": 8,
     "metadata": {},
     "output_type": "execute_result"
    }
   ],
   "source": [
    "c1 == c2"
   ]
  },
  {
   "cell_type": "code",
   "execution_count": 9,
   "id": "086f2dc9",
   "metadata": {},
   "outputs": [
    {
     "data": {
      "text/plain": [
       "'a'"
      ]
     },
     "execution_count": 9,
     "metadata": {},
     "output_type": "execute_result"
    }
   ],
   "source": [
    "repr(c1)"
   ]
  },
  {
   "cell_type": "code",
   "execution_count": 10,
   "id": "762bc430",
   "metadata": {},
   "outputs": [],
   "source": [
    "class Ostream:\n",
    "    def __lshift__(self,other):\n",
    "        print(other, end = '')\n",
    "        return self\n",
    "cout = Ostream()"
   ]
  },
  {
   "cell_type": "code",
   "execution_count": 11,
   "id": "d04c7d5c",
   "metadata": {},
   "outputs": [
    {
     "name": "stdout",
     "output_type": "stream",
     "text": [
      "jatinkatyal"
     ]
    },
    {
     "data": {
      "text/plain": [
       "<__main__.Ostream at 0x1e8b30385b0>"
      ]
     },
     "execution_count": 11,
     "metadata": {},
     "output_type": "execute_result"
    }
   ],
   "source": [
    "cout << 'jatin' << 'katyal'"
   ]
  },
  {
   "cell_type": "code",
   "execution_count": null,
   "id": "53c0a870",
   "metadata": {},
   "outputs": [],
   "source": []
  },
  {
   "cell_type": "code",
   "execution_count": null,
   "id": "ba01ee1a",
   "metadata": {},
   "outputs": [],
   "source": []
  },
  {
   "cell_type": "code",
   "execution_count": 12,
   "id": "978fc4c7",
   "metadata": {},
   "outputs": [],
   "source": [
    "class Dog:\n",
    "    kind = 'canine' #class variable shared by all instances\n",
    "    def __init__(self,name):\n",
    "        self.name = name #instance variable unique to each instance"
   ]
  },
  {
   "cell_type": "code",
   "execution_count": 13,
   "id": "5dc576d3",
   "metadata": {},
   "outputs": [],
   "source": [
    "a = Dog('tuffy')"
   ]
  },
  {
   "cell_type": "code",
   "execution_count": 14,
   "id": "404ed801",
   "metadata": {},
   "outputs": [
    {
     "data": {
      "text/plain": [
       "'canine'"
      ]
     },
     "execution_count": 14,
     "metadata": {},
     "output_type": "execute_result"
    }
   ],
   "source": [
    "a.kind"
   ]
  },
  {
   "cell_type": "code",
   "execution_count": 15,
   "id": "63f3636c",
   "metadata": {},
   "outputs": [],
   "source": [
    "b = Dog('maxx')"
   ]
  },
  {
   "cell_type": "code",
   "execution_count": 16,
   "id": "1b17bfa1",
   "metadata": {},
   "outputs": [],
   "source": [
    "b.kind = 'something'"
   ]
  },
  {
   "cell_type": "code",
   "execution_count": 17,
   "id": "3fbcedee",
   "metadata": {},
   "outputs": [
    {
     "data": {
      "text/plain": [
       "'something'"
      ]
     },
     "execution_count": 17,
     "metadata": {},
     "output_type": "execute_result"
    }
   ],
   "source": [
    "b.kind"
   ]
  },
  {
   "cell_type": "code",
   "execution_count": 18,
   "id": "5e04234d",
   "metadata": {},
   "outputs": [
    {
     "data": {
      "text/plain": [
       "'canine'"
      ]
     },
     "execution_count": 18,
     "metadata": {},
     "output_type": "execute_result"
    }
   ],
   "source": [
    "a.kind"
   ]
  },
  {
   "cell_type": "code",
   "execution_count": null,
   "id": "640a5f82",
   "metadata": {},
   "outputs": [],
   "source": []
  },
  {
   "cell_type": "code",
   "execution_count": 19,
   "id": "75fa6ed9",
   "metadata": {},
   "outputs": [],
   "source": [
    "class Dog:\n",
    "    #tricks = [] #mistaken use of a class variable\n",
    "    def __init__(self,name):\n",
    "        self.name = name\n",
    "        self.tricks = []\n",
    "    def add_trick(self, trick):\n",
    "        self.tricks.append(trick)"
   ]
  },
  {
   "cell_type": "code",
   "execution_count": 20,
   "id": "a2bc50b4",
   "metadata": {},
   "outputs": [],
   "source": [
    "a = Dog('bruno')"
   ]
  },
  {
   "cell_type": "code",
   "execution_count": 21,
   "id": "88bbc395",
   "metadata": {},
   "outputs": [],
   "source": [
    "b = Dog('maxx')"
   ]
  },
  {
   "cell_type": "code",
   "execution_count": 22,
   "id": "f0f73b41",
   "metadata": {},
   "outputs": [],
   "source": [
    "a.add_trick('fetch')"
   ]
  },
  {
   "cell_type": "code",
   "execution_count": 23,
   "id": "35ba0ee0",
   "metadata": {},
   "outputs": [],
   "source": [
    "a.add_trick('talk')"
   ]
  },
  {
   "cell_type": "code",
   "execution_count": 24,
   "id": "aeaa3dce",
   "metadata": {},
   "outputs": [
    {
     "data": {
      "text/plain": [
       "['fetch', 'talk']"
      ]
     },
     "execution_count": 24,
     "metadata": {},
     "output_type": "execute_result"
    }
   ],
   "source": [
    "a.tricks"
   ]
  },
  {
   "cell_type": "code",
   "execution_count": 25,
   "id": "b74f48e2",
   "metadata": {},
   "outputs": [
    {
     "data": {
      "text/plain": [
       "[]"
      ]
     },
     "execution_count": 25,
     "metadata": {},
     "output_type": "execute_result"
    }
   ],
   "source": [
    "b.tricks"
   ]
  },
  {
   "cell_type": "code",
   "execution_count": 26,
   "id": "ece54009",
   "metadata": {},
   "outputs": [
    {
     "data": {
      "text/plain": [
       "2098947324032"
      ]
     },
     "execution_count": 26,
     "metadata": {},
     "output_type": "execute_result"
    }
   ],
   "source": [
    "id(a.tricks)"
   ]
  },
  {
   "cell_type": "code",
   "execution_count": 27,
   "id": "beed2972",
   "metadata": {},
   "outputs": [
    {
     "data": {
      "text/plain": [
       "2098947367744"
      ]
     },
     "execution_count": 27,
     "metadata": {},
     "output_type": "execute_result"
    }
   ],
   "source": [
    "id(b.tricks)"
   ]
  },
  {
   "cell_type": "code",
   "execution_count": null,
   "id": "ab0a4f39",
   "metadata": {},
   "outputs": [],
   "source": []
  },
  {
   "cell_type": "code",
   "execution_count": null,
   "id": "d19fea86",
   "metadata": {},
   "outputs": [],
   "source": []
  },
  {
   "cell_type": "markdown",
   "id": "87b581ed",
   "metadata": {},
   "source": [
    "#### Inheritance"
   ]
  },
  {
   "cell_type": "code",
   "execution_count": 28,
   "id": "d98c39b1",
   "metadata": {},
   "outputs": [],
   "source": [
    "class SchoolMember:\n",
    "    def __init__(self,name,age):\n",
    "        '''Represents any school member'''\n",
    "        self.name = name\n",
    "        self.age = age\n",
    "        print('(Initialsed school member : {})'.format(self.name))\n",
    "    \n",
    "    def tell(self):\n",
    "        '''Tell my details'''\n",
    "        print('Name : \"{}\" Age : \"{}\"'.format(self.name,self.age),end = \" \")"
   ]
  },
  {
   "cell_type": "code",
   "execution_count": 29,
   "id": "6f16ca53",
   "metadata": {},
   "outputs": [],
   "source": [
    "class Teacher(SchoolMember):\n",
    "    '''Represents a teacher'''\n",
    "    def __init__(self, name, age, salary):\n",
    "        super().__init__(name,age) #  super can also be used to access base class \n",
    "        self.salary = salary\n",
    "        print('(Initialised teacher : {})'.format(self.name))\n",
    "    \n",
    "    def tell(self):\n",
    "        SchoolMember.tell(self)\n",
    "        print('Salary : \"{:d}'.format(self.salary))"
   ]
  },
  {
   "cell_type": "code",
   "execution_count": 30,
   "id": "595d0b38",
   "metadata": {},
   "outputs": [],
   "source": [
    "\n",
    "class Student(SchoolMember):\n",
    "    '''Represents a student'''\n",
    "    def __init__(self, name, age, marks):\n",
    "        SchoolMember.__init__(self,name,age)\n",
    "        self.marks = marks\n",
    "        print('(Initialised student : {})'.format(self.name))\n",
    "    \n",
    "    def tell (self):\n",
    "        SchoolMember.tell(self)\n",
    "        print('Marks : \"{:d}\"'.format(self.marks))"
   ]
  },
  {
   "cell_type": "code",
   "execution_count": 31,
   "id": "e3cfea5c",
   "metadata": {},
   "outputs": [
    {
     "name": "stdout",
     "output_type": "stream",
     "text": [
      "(Initialsed school member : Mr. Ujjwal)\n",
      "(Initialised teacher : Mr. Ujjwal)\n",
      "Name : \"Mr. Ujjwal\" Age : \"40\" Salary : \"30000\n",
      "(Initialsed school member : Nikhil)\n",
      "(Initialised student : Nikhil)\n",
      "Name : \"Nikhil\" Age : \"25\" Marks : \"75\"\n"
     ]
    }
   ],
   "source": [
    "t = Teacher('Mr. Ujjwal',40,30000)\n",
    "t.tell()\n",
    "s = Student('Nikhil',25,75)\n",
    "s.tell()"
   ]
  },
  {
   "cell_type": "code",
   "execution_count": null,
   "id": "63879b3a",
   "metadata": {},
   "outputs": [],
   "source": []
  },
  {
   "cell_type": "markdown",
   "id": "0b531d74",
   "metadata": {},
   "source": [
    "#### Method Resolution Order uses C3 Linearization\n",
    "Always start from left and go to maximum depth (Depth First Search)\n",
    "Example shown below denotes the inheritance A->B->E and A->C->D->E\n",
    "First it will search B\n",
    "Then it will reach A; it can only access A when all children of A have been searched \n",
    "So it backtracks and first searches D followed by C , then it goes to A"
   ]
  },
  {
   "cell_type": "code",
   "execution_count": 32,
   "id": "b7bacad1",
   "metadata": {},
   "outputs": [],
   "source": [
    "class A:\n",
    "    x = 10\n",
    "class B(A):\n",
    "    pass\n",
    "class C(A):\n",
    "    x = 5\n",
    "class D(C):\n",
    "    pass\n",
    "class E(B,D):\n",
    "    pass"
   ]
  },
  {
   "cell_type": "code",
   "execution_count": 33,
   "id": "bda9dfc0",
   "metadata": {},
   "outputs": [
    {
     "data": {
      "text/plain": [
       "5"
      ]
     },
     "execution_count": 33,
     "metadata": {},
     "output_type": "execute_result"
    }
   ],
   "source": [
    "E.x"
   ]
  },
  {
   "cell_type": "code",
   "execution_count": 34,
   "id": "e1747ae3",
   "metadata": {},
   "outputs": [
    {
     "data": {
      "text/plain": [
       "(__main__.E, __main__.B, __main__.D, __main__.C, __main__.A, object)"
      ]
     },
     "execution_count": 34,
     "metadata": {},
     "output_type": "execute_result"
    }
   ],
   "source": [
    "E.__mro__"
   ]
  }
 ],
 "metadata": {
  "kernelspec": {
   "display_name": "Python 3 (ipykernel)",
   "language": "python",
   "name": "python3"
  },
  "language_info": {
   "codemirror_mode": {
    "name": "ipython",
    "version": 3
   },
   "file_extension": ".py",
   "mimetype": "text/x-python",
   "name": "python",
   "nbconvert_exporter": "python",
   "pygments_lexer": "ipython3",
   "version": "3.9.9"
  }
 },
 "nbformat": 4,
 "nbformat_minor": 5
}
