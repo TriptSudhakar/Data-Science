{
 "cells": [
  {
   "cell_type": "code",
   "execution_count": 1,
   "id": "6aa26ad1",
   "metadata": {},
   "outputs": [],
   "source": [
    "import pandas as pd\n",
    "import numpy as np\n",
    "import matplotlib.pyplot as plt"
   ]
  },
  {
   "cell_type": "code",
   "execution_count": 2,
   "id": "c6da503e",
   "metadata": {},
   "outputs": [],
   "source": [
    "x = pd.read_csv(\"xdata.csv\")\n",
    "y = pd.read_csv(\"ydata.csv\")"
   ]
  },
  {
   "cell_type": "code",
   "execution_count": 3,
   "id": "d25d711a",
   "metadata": {},
   "outputs": [
    {
     "data": {
      "text/html": [
       "<div>\n",
       "<style scoped>\n",
       "    .dataframe tbody tr th:only-of-type {\n",
       "        vertical-align: middle;\n",
       "    }\n",
       "\n",
       "    .dataframe tbody tr th {\n",
       "        vertical-align: top;\n",
       "    }\n",
       "\n",
       "    .dataframe thead th {\n",
       "        text-align: right;\n",
       "    }\n",
       "</style>\n",
       "<table border=\"1\" class=\"dataframe\">\n",
       "  <thead>\n",
       "    <tr style=\"text-align: right;\">\n",
       "      <th></th>\n",
       "      <th>0</th>\n",
       "      <th>3.4821055700010444</th>\n",
       "      <th>2.4203917879404533</th>\n",
       "    </tr>\n",
       "  </thead>\n",
       "  <tbody>\n",
       "    <tr>\n",
       "      <th>0</th>\n",
       "      <td>1</td>\n",
       "      <td>3.516279</td>\n",
       "      <td>3.719750</td>\n",
       "    </tr>\n",
       "    <tr>\n",
       "      <th>1</th>\n",
       "      <td>2</td>\n",
       "      <td>4.606496</td>\n",
       "      <td>3.414379</td>\n",
       "    </tr>\n",
       "    <tr>\n",
       "      <th>2</th>\n",
       "      <td>3</td>\n",
       "      <td>4.677011</td>\n",
       "      <td>3.047244</td>\n",
       "    </tr>\n",
       "    <tr>\n",
       "      <th>3</th>\n",
       "      <td>4</td>\n",
       "      <td>4.157725</td>\n",
       "      <td>3.138677</td>\n",
       "    </tr>\n",
       "    <tr>\n",
       "      <th>4</th>\n",
       "      <td>5</td>\n",
       "      <td>3.154431</td>\n",
       "      <td>3.619858</td>\n",
       "    </tr>\n",
       "    <tr>\n",
       "      <th>...</th>\n",
       "      <td>...</td>\n",
       "      <td>...</td>\n",
       "      <td>...</td>\n",
       "    </tr>\n",
       "    <tr>\n",
       "      <th>394</th>\n",
       "      <td>395</td>\n",
       "      <td>1.389231</td>\n",
       "      <td>2.592584</td>\n",
       "    </tr>\n",
       "    <tr>\n",
       "      <th>395</th>\n",
       "      <td>396</td>\n",
       "      <td>-0.352768</td>\n",
       "      <td>0.136461</td>\n",
       "    </tr>\n",
       "    <tr>\n",
       "      <th>396</th>\n",
       "      <td>397</td>\n",
       "      <td>0.789626</td>\n",
       "      <td>0.931670</td>\n",
       "    </tr>\n",
       "    <tr>\n",
       "      <th>397</th>\n",
       "      <td>398</td>\n",
       "      <td>-1.002530</td>\n",
       "      <td>-0.676162</td>\n",
       "    </tr>\n",
       "    <tr>\n",
       "      <th>398</th>\n",
       "      <td>399</td>\n",
       "      <td>0.292387</td>\n",
       "      <td>0.561178</td>\n",
       "    </tr>\n",
       "  </tbody>\n",
       "</table>\n",
       "<p>399 rows × 3 columns</p>\n",
       "</div>"
      ],
      "text/plain": [
       "       0  3.4821055700010444  2.4203917879404533\n",
       "0      1            3.516279            3.719750\n",
       "1      2            4.606496            3.414379\n",
       "2      3            4.677011            3.047244\n",
       "3      4            4.157725            3.138677\n",
       "4      5            3.154431            3.619858\n",
       "..   ...                 ...                 ...\n",
       "394  395            1.389231            2.592584\n",
       "395  396           -0.352768            0.136461\n",
       "396  397            0.789626            0.931670\n",
       "397  398           -1.002530           -0.676162\n",
       "398  399            0.292387            0.561178\n",
       "\n",
       "[399 rows x 3 columns]"
      ]
     },
     "execution_count": 3,
     "metadata": {},
     "output_type": "execute_result"
    }
   ],
   "source": [
    "x"
   ]
  },
  {
   "cell_type": "code",
   "execution_count": 4,
   "id": "ad4125ed",
   "metadata": {},
   "outputs": [
    {
     "data": {
      "text/html": [
       "<div>\n",
       "<style scoped>\n",
       "    .dataframe tbody tr th:only-of-type {\n",
       "        vertical-align: middle;\n",
       "    }\n",
       "\n",
       "    .dataframe tbody tr th {\n",
       "        vertical-align: top;\n",
       "    }\n",
       "\n",
       "    .dataframe thead th {\n",
       "        text-align: right;\n",
       "    }\n",
       "</style>\n",
       "<table border=\"1\" class=\"dataframe\">\n",
       "  <thead>\n",
       "    <tr style=\"text-align: right;\">\n",
       "      <th></th>\n",
       "      <th>0</th>\n",
       "      <th>0.0</th>\n",
       "    </tr>\n",
       "  </thead>\n",
       "  <tbody>\n",
       "    <tr>\n",
       "      <th>0</th>\n",
       "      <td>1</td>\n",
       "      <td>0.0</td>\n",
       "    </tr>\n",
       "    <tr>\n",
       "      <th>1</th>\n",
       "      <td>2</td>\n",
       "      <td>0.0</td>\n",
       "    </tr>\n",
       "    <tr>\n",
       "      <th>2</th>\n",
       "      <td>3</td>\n",
       "      <td>0.0</td>\n",
       "    </tr>\n",
       "    <tr>\n",
       "      <th>3</th>\n",
       "      <td>4</td>\n",
       "      <td>0.0</td>\n",
       "    </tr>\n",
       "    <tr>\n",
       "      <th>4</th>\n",
       "      <td>5</td>\n",
       "      <td>0.0</td>\n",
       "    </tr>\n",
       "    <tr>\n",
       "      <th>...</th>\n",
       "      <td>...</td>\n",
       "      <td>...</td>\n",
       "    </tr>\n",
       "    <tr>\n",
       "      <th>394</th>\n",
       "      <td>395</td>\n",
       "      <td>1.0</td>\n",
       "    </tr>\n",
       "    <tr>\n",
       "      <th>395</th>\n",
       "      <td>396</td>\n",
       "      <td>1.0</td>\n",
       "    </tr>\n",
       "    <tr>\n",
       "      <th>396</th>\n",
       "      <td>397</td>\n",
       "      <td>1.0</td>\n",
       "    </tr>\n",
       "    <tr>\n",
       "      <th>397</th>\n",
       "      <td>398</td>\n",
       "      <td>1.0</td>\n",
       "    </tr>\n",
       "    <tr>\n",
       "      <th>398</th>\n",
       "      <td>399</td>\n",
       "      <td>1.0</td>\n",
       "    </tr>\n",
       "  </tbody>\n",
       "</table>\n",
       "<p>399 rows × 2 columns</p>\n",
       "</div>"
      ],
      "text/plain": [
       "       0  0.0\n",
       "0      1  0.0\n",
       "1      2  0.0\n",
       "2      3  0.0\n",
       "3      4  0.0\n",
       "4      5  0.0\n",
       "..   ...  ...\n",
       "394  395  1.0\n",
       "395  396  1.0\n",
       "396  397  1.0\n",
       "397  398  1.0\n",
       "398  399  1.0\n",
       "\n",
       "[399 rows x 2 columns]"
      ]
     },
     "execution_count": 4,
     "metadata": {},
     "output_type": "execute_result"
    }
   ],
   "source": [
    "y"
   ]
  },
  {
   "cell_type": "code",
   "execution_count": 5,
   "id": "d7131650",
   "metadata": {},
   "outputs": [
    {
     "data": {
      "text/plain": [
       "((399, 3), (399, 2))"
      ]
     },
     "execution_count": 5,
     "metadata": {},
     "output_type": "execute_result"
    }
   ],
   "source": [
    "x.shape,y.shape"
   ]
  },
  {
   "cell_type": "code",
   "execution_count": 6,
   "id": "00f9dcf2",
   "metadata": {},
   "outputs": [],
   "source": [
    "x_data,y_data = x.values,y.values"
   ]
  },
  {
   "cell_type": "code",
   "execution_count": 7,
   "id": "2d40e41b",
   "metadata": {},
   "outputs": [
    {
     "data": {
      "text/plain": [
       "(399, 2)"
      ]
     },
     "execution_count": 7,
     "metadata": {},
     "output_type": "execute_result"
    }
   ],
   "source": [
    "y_data.shape"
   ]
  },
  {
   "cell_type": "code",
   "execution_count": 8,
   "id": "de676787",
   "metadata": {},
   "outputs": [
    {
     "data": {
      "text/plain": [
       "array([[ 1.00000000e+00,  3.51627900e+00,  3.71975047e+00],\n",
       "       [ 2.00000000e+00,  4.60649561e+00,  3.41437943e+00],\n",
       "       [ 3.00000000e+00,  4.67701056e+00,  3.04724443e+00],\n",
       "       ...,\n",
       "       [ 3.97000000e+02,  7.89625683e-01,  9.31669806e-01],\n",
       "       [ 3.98000000e+02, -1.00253042e+00, -6.76162472e-01],\n",
       "       [ 3.99000000e+02,  2.92386778e-01,  5.61177823e-01]])"
      ]
     },
     "execution_count": 8,
     "metadata": {},
     "output_type": "execute_result"
    }
   ],
   "source": [
    "x_data"
   ]
  },
  {
   "cell_type": "code",
   "execution_count": 11,
   "id": "75a10860",
   "metadata": {},
   "outputs": [
    {
     "data": {
      "text/plain": [
       "(399, 2)"
      ]
     },
     "execution_count": 11,
     "metadata": {},
     "output_type": "execute_result"
    }
   ],
   "source": [
    "x_data[:,1:].shape"
   ]
  },
  {
   "cell_type": "code",
   "execution_count": 12,
   "id": "8fc0d96e",
   "metadata": {},
   "outputs": [
    {
     "name": "stdout",
     "output_type": "stream",
     "text": [
      "<class 'numpy.ndarray'>\n"
     ]
    }
   ],
   "source": [
    "print(type(x_data))"
   ]
  },
  {
   "cell_type": "code",
   "execution_count": 14,
   "id": "71db7d17",
   "metadata": {},
   "outputs": [
    {
     "data": {
      "image/png": "[encoded data removed]",
      "text/plain": [
       "<Figure size 432x288 with 1 Axes>"
      ]
     },
     "metadata": {
      "needs_background": "light"
     },
     "output_type": "display_data"
    }
   ],
   "source": [
    "plt.scatter(x_data[:,0],x_data[:,1],c = y_data[:,1].reshape(-1))\n",
    "plt.show()"
   ]
  },
  {
   "cell_type": "code",
   "execution_count": 17,
   "id": "28d40159",
   "metadata": {},
   "outputs": [],
   "source": [
    "def distance_formula(p1,p2):\n",
    "    return ((p1[0]-p2[0])**2 + (p1[1]-p2[1])**2)**0.5"
   ]
  },
  {
   "cell_type": "code",
   "execution_count": 18,
   "id": "45efa5d0",
   "metadata": {},
   "outputs": [
    {
     "data": {
      "text/plain": [
       "1.479382391210793"
      ]
     },
     "execution_count": 18,
     "metadata": {},
     "output_type": "execute_result"
    }
   ],
   "source": [
    "distance_formula(x_data[0],x_data[1])"
   ]
  },
  {
   "cell_type": "code",
   "execution_count": 60,
   "id": "35f89242",
   "metadata": {},
   "outputs": [],
   "source": [
    "class KNNclassifier:\n",
    "    def __init__(self,k=5):\n",
    "        self.k = k\n",
    "    \n",
    "    def fit(self,x,y):\n",
    "        self.x = x\n",
    "        self.y = y\n",
    "    \n",
    "    def distance_formula(p1,p2):\n",
    "        return ((p1[0]-p2[0])**2 + (p1[1]-p2[1])**2)**0.5\n",
    "    \n",
    "    def predict(self,p):\n",
    "        distances = []\n",
    "        for i in range(len(self.x)):\n",
    "                distances.append((distance_formula(self.x[i],p),i))\n",
    "        \n",
    "        distances = sorted(distances,key = lambda x:x[0])\n",
    "        points_with_distances = distances[:self.k]\n",
    "        \n",
    "        classes = []\n",
    "        \n",
    "        for dist,i in points_with_distances:\n",
    "            classes.append(self.y[i][1])\n",
    "            \n",
    "        class_,counts = np.unique(classes, return_counts = True)\n",
    "#         counts = counts[1:]\n",
    "        ix = np.argmax(counts)\n",
    "        pred = {\"class\":class_[ix] , \"prob\": np.max(counts)/np.sum(counts)}\n",
    "#         print(points_with_distances)\n",
    "#         print(classes)\n",
    "#         print(class_)\n",
    "#         print(counts)\n",
    "#         print(np.max(counts),np.sum(counts))\n",
    "        return pred"
   ]
  },
  {
   "cell_type": "code",
   "execution_count": 67,
   "id": "0e7430c5",
   "metadata": {},
   "outputs": [
    {
     "name": "stdout",
     "output_type": "stream",
     "text": [
      "[(0.0, 200), (1.3637197429713974, 201), (1.426389398577114, 199), (2.822579148470978, 198), (3.044632759313519, 202)]\n",
      "[1.0, 1.0, 1.0, 0.0, 1.0]\n",
      "[0. 1.]\n",
      "[1 4]\n",
      "4 5\n"
     ]
    },
    {
     "data": {
      "text/plain": [
       "{'class': 1.0, 'prob': 0.8}"
      ]
     },
     "execution_count": 67,
     "metadata": {},
     "output_type": "execute_result"
    }
   ],
   "source": [
    "knn_model = KNNclassifier()\n",
    "knn_model.fit(x_data,y_data)\n",
    "knn_model.predict(x_data[200])"
   ]
  },
  {
   "cell_type": "code",
   "execution_count": null,
   "id": "e93ff4c1",
   "metadata": {},
   "outputs": [],
   "source": [
    "# Splitting\n",
    "x_train,y_train"
   ]
  }
 ],
 "metadata": {
  "kernelspec": {
   "display_name": "Python 3 (ipykernel)",
   "language": "python",
   "name": "python3"
  },
  "language_info": {
   "codemirror_mode": {
    "name": "ipython",
    "version": 3
   },
   "file_extension": ".py",
   "mimetype": "text/x-python",
   "name": "python",
   "nbconvert_exporter": "python",
   "pygments_lexer": "ipython3",
   "version": "3.9.9"
  }
 },
 "nbformat": 4,
 "nbformat_minor": 5
}
