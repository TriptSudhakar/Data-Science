{
 "cells": [
  {
   "cell_type": "code",
   "execution_count": 1,
   "id": "3584b823",
   "metadata": {},
   "outputs": [],
   "source": [
    "import numpy as np\n",
    "import matplotlib.pyplot as plt\n",
    "from sklearn.datasets import load_boston\n",
    "from sklearn.datasets import make_regression"
   ]
  },
  {
   "cell_type": "code",
   "execution_count": 2,
   "id": "36470a6d",
   "metadata": {},
   "outputs": [],
   "source": [
    "# Get or create a dataset\n",
    "X,y = make_regression(n_samples=10000, n_features=20, n_informative=20, noise=10, random_state=1)\n",
    "\n",
    "# normalisation\n",
    "u = np.mean(X,axis=0)\n",
    "std = np.std(X,axis=0)\n",
    "X = (X-u)/std"
   ]
  },
  {
   "cell_type": "code",
   "execution_count": 3,
   "id": "682f573e",
   "metadata": {},
   "outputs": [
    {
     "name": "stdout",
     "output_type": "stream",
     "text": [
      "(10000, 21)\n",
      "(10000,)\n"
     ]
    }
   ],
   "source": [
    "# Add a columns of 1s for vectorization\n",
    "ones = np.ones((X.shape[0],1))\n",
    "X = np.hstack((ones,X))\n",
    "print(X.shape)\n",
    "print(y.shape)"
   ]
  },
  {
   "cell_type": "code",
   "execution_count": 4,
   "id": "d3e1e234",
   "metadata": {},
   "outputs": [],
   "source": [
    "def hypothesis(X,theta):\n",
    "    return np.dot(X,theta)\n",
    "\n",
    "def error (X,y,theta):\n",
    "    e = 0.0\n",
    "    m = X.shape[0]\n",
    "    y_ = hypothesis(X,theta)\n",
    "    e = np.sum((y-y_)**2)\n",
    "    return e/m\n",
    "\n",
    "def gradient(X,y,theta):\n",
    "    y_ = hypothesis(X,theta)\n",
    "    grad = np.dot(X.T,(y_ - y))\n",
    "    m = X.shape[0]\n",
    "    return grad/m\n",
    "\n",
    "def gradient_descent(X, y, learning_rate =0.01, max_iters=300):\n",
    "    n = X.shape[1]    # number of features\n",
    "    theta = np.zeros((n,))\n",
    "    error_list = []\n",
    "    \n",
    "    for i in range(max_iters):\n",
    "        e = error(X,y,theta)\n",
    "        error_list.append(e)\n",
    "        # Batch Gradient Descent -> Compute the Gradient wrt to entire dataset\n",
    "        grad = gradient(X,y,theta)\n",
    "        theta = theta - learning_rate*grad\n",
    "    \n",
    "    return theta, error_list"
   ]
  },
  {
   "cell_type": "code",
   "execution_count": 5,
   "id": "98e977e6",
   "metadata": {},
   "outputs": [
    {
     "data": {
      "image/png": "[encoded data removed]",
      "text/plain": [
       "<Figure size 432x288 with 1 Axes>"
      ]
     },
     "metadata": {
      "needs_background": "light"
     },
     "output_type": "display_data"
    },
    {
     "name": "stdout",
     "output_type": "stream",
     "text": [
      "264.0832954333876\n"
     ]
    }
   ],
   "source": [
    "# Batch gradient descent for 300 iterations with learning rate 0.01\n",
    "theta, error_list = gradient_descent(X,y)\n",
    "\n",
    "plt.figure()\n",
    "plt.plot(np.arange(len(error_list)),error_list)\n",
    "plt.show()\n",
    "\n",
    "final_error = error_list[-1]\n",
    "print(final_error)"
   ]
  },
  {
   "cell_type": "code",
   "execution_count": 6,
   "id": "16eebc83",
   "metadata": {},
   "outputs": [],
   "source": [
    "# if batch size is 1, it becomes stochastic gradient descent\n",
    "# if batch size is m, it becomes batch gradient descent\n",
    "\n",
    "def batch_gradient_descent(X,y,batch_size=200,learning_rate=0.01,max_iters=10):\n",
    "    n = X.shape[1]\n",
    "    theta = np.zeros((n,))\n",
    "    error_list = []\n",
    "    data = np.hstack((X,y.reshape(-1,1)))     # stacking X and y in the same array\n",
    "\n",
    "    for i in range(max_iters):\n",
    "        # Mini Batch Gradient Descent \n",
    "        np.random.shuffle(data)   # shuffling the data to maintain randomness in the subset\n",
    "        m = data.shape[0]  # total number of examples\n",
    "        total_batches = m//batch_size\n",
    "    \n",
    "        # iterating over all the batches\n",
    "        for i in range(total_batches):\n",
    "        # picking one part of the data (i is batch_id)\n",
    "            batch_data = data[i*batch_size : (i+1)*batch_size,:] \n",
    "        # extracting x values (will be all rows and columns except last column) from batch data \n",
    "            x_batch = batch_data[:,:-1]\n",
    "        # extracting y values (will be all rows and last column) from batch data \n",
    "            y_batch = batch_data[:,-1]\n",
    "            batch_gradient = gradient(x_batch,y_batch,theta)\n",
    "            theta = theta - learning_rate*batch_gradient\n",
    "            \n",
    "            e = error(x_batch,y_batch,theta)\n",
    "            error_list.append(e)\n",
    "        \n",
    "    return theta, error_list"
   ]
  },
  {
   "cell_type": "code",
   "execution_count": 7,
   "id": "81e0b4b1",
   "metadata": {},
   "outputs": [
    {
     "data": {
      "image/png": "[encoded data removed]",
      "text/plain": [
       "<Figure size 432x288 with 1 Axes>"
      ]
     },
     "metadata": {
      "needs_background": "light"
     },
     "output_type": "display_data"
    }
   ],
   "source": [
    "theta, error_list = batch_gradient_descent(X,y)\n",
    "\n",
    "plt.figure()\n",
    "plt.plot(np.arange(len(error_list)),error_list)\n",
    "plt.show()\n",
    "# the curve is noisy but convergence is really fast"
   ]
  },
  {
   "cell_type": "code",
   "execution_count": 8,
   "id": "2f070bd8",
   "metadata": {},
   "outputs": [
    {
     "name": "stdout",
     "output_type": "stream",
     "text": [
      "103.67149239769937\n"
     ]
    }
   ],
   "source": [
    "final_error = error_list[-1]\n",
    "print(final_error)"
   ]
  },
  {
   "cell_type": "code",
   "execution_count": 9,
   "id": "d40d9a3f",
   "metadata": {},
   "outputs": [],
   "source": [
    "def stochastic_gradient_descent(X,y,batch_size=1,learning_rate=0.01,max_iters=10):\n",
    "    n = X.shape[1]\n",
    "    theta = np.zeros((n,))\n",
    "    error_list = []\n",
    "    data = np.hstack((X,y.reshape(-1,1)))     # stacking X and y in the same array\n",
    "\n",
    "    for i in range(max_iters):\n",
    "        # Mini Batch Gradient Descent \n",
    "        np.random.shuffle(data)   # shuffling the data to maintain randomness in the subset\n",
    "        m = data.shape[0]  # total number of examples\n",
    "        total_batches = m//batch_size\n",
    "    \n",
    "        # iterating over all the batches\n",
    "        for i in range(total_batches):\n",
    "        # picking one part of the data (i is batch_id)\n",
    "            batch_data = data[i*batch_size : (i+1)*batch_size,:] \n",
    "        # extracting x values (will be all rows and columns except last column) from batch data \n",
    "            x_batch = batch_data[:,:-1]\n",
    "        # extracting y values (will be all rows and last column) from batch data \n",
    "            y_batch = batch_data[:,-1]\n",
    "            batch_gradient = gradient(x_batch,y_batch,theta)\n",
    "            theta = theta - learning_rate*batch_gradient\n",
    "            \n",
    "            e = error(x_batch,y_batch,theta)\n",
    "            error_list.append(e)\n",
    "        \n",
    "    return theta, error_list"
   ]
  },
  {
   "cell_type": "code",
   "execution_count": 10,
   "id": "6713115e",
   "metadata": {},
   "outputs": [
    {
     "data": {
      "image/png": "[encoded data removed]",
      "text/plain": [
       "<Figure size 432x288 with 1 Axes>"
      ]
     },
     "metadata": {
      "needs_background": "light"
     },
     "output_type": "display_data"
    },
    {
     "name": "stdout",
     "output_type": "stream",
     "text": [
      "34.830355146596055\n"
     ]
    }
   ],
   "source": [
    "theta, error_list = stochastic_gradient_descent(X,y)\n",
    "\n",
    "plt.figure()\n",
    "plt.plot(np.arange(len(error_list)),error_list)\n",
    "plt.show()\n",
    "\n",
    "final_error = error_list[-1]\n",
    "print(final_error)"
   ]
  },
  {
   "cell_type": "code",
   "execution_count": null,
   "id": "cf78d9cd",
   "metadata": {},
   "outputs": [],
   "source": []
  }
 ],
 "metadata": {
  "kernelspec": {
   "display_name": "Python 3 (ipykernel)",
   "language": "python",
   "name": "python3"
  },
  "language_info": {
   "codemirror_mode": {
    "name": "ipython",
    "version": 3
   },
   "file_extension": ".py",
   "mimetype": "text/x-python",
   "name": "python",
   "nbconvert_exporter": "python",
   "pygments_lexer": "ipython3",
   "version": "3.9.9"
  }
 },
 "nbformat": 4,
 "nbformat_minor": 5
}
