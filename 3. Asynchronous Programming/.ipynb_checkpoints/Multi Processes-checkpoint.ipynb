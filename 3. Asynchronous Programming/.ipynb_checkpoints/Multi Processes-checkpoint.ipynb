{
 "cells": [
  {
   "cell_type": "code",
   "execution_count": 1,
   "id": "68ce2931",
   "metadata": {},
   "outputs": [],
   "source": [
    "def func2():\n",
    "    return 5\n",
    "def func():\n",
    "    yield func2()\n",
    "def main():\n",
    "    pass"
   ]
  },
  {
   "cell_type": "markdown",
   "id": "565c2c54",
   "metadata": {},
   "source": [
    "## Multi Processes"
   ]
  },
  {
   "cell_type": "code",
   "execution_count": 2,
   "id": "133d01d1",
   "metadata": {},
   "outputs": [],
   "source": [
    "from multiprocessing import Process"
   ]
  },
  {
   "cell_type": "code",
   "execution_count": 15,
   "id": "5ef4072b",
   "metadata": {},
   "outputs": [],
   "source": [
    "def showSquare(num = 2):\n",
    "    print(num**2)"
   ]
  },
  {
   "cell_type": "code",
   "execution_count": null,
   "id": "8b2e9654",
   "metadata": {},
   "outputs": [],
   "source": []
  },
  {
   "cell_type": "code",
   "execution_count": 23,
   "id": "6a6f02b0",
   "metadata": {},
   "outputs": [],
   "source": [
    "procs = []"
   ]
  },
  {
   "cell_type": "code",
   "execution_count": 24,
   "id": "fb64979d",
   "metadata": {},
   "outputs": [],
   "source": [
    "for i in range(5):\n",
    "    procs.append(Process(target = showSquare))"
   ]
  },
  {
   "cell_type": "code",
   "execution_count": 25,
   "id": "4e6b3b3d",
   "metadata": {},
   "outputs": [
    {
     "name": "stdout",
     "output_type": "stream",
     "text": [
      "Hello\n"
     ]
    }
   ],
   "source": [
    "for proc in procs:\n",
    "    proc.start()\n",
    "print(\"Hello\")"
   ]
  },
  {
   "cell_type": "code",
   "execution_count": 26,
   "id": "a6948a09",
   "metadata": {},
   "outputs": [],
   "source": [
    "for proc in procs:\n",
    "    proc.join()"
   ]
  },
  {
   "cell_type": "code",
   "execution_count": null,
   "id": "f561ccb9",
   "metadata": {},
   "outputs": [],
   "source": []
  },
  {
   "cell_type": "code",
   "execution_count": null,
   "id": "fd98e7e7",
   "metadata": {},
   "outputs": [],
   "source": []
  },
  {
   "cell_type": "markdown",
   "id": "b3952f29",
   "metadata": {},
   "source": [
    "## Multi Threading "
   ]
  },
  {
   "cell_type": "code",
   "execution_count": 34,
   "id": "9edbd61d",
   "metadata": {},
   "outputs": [],
   "source": [
    "from threading import Thread"
   ]
  },
  {
   "cell_type": "code",
   "execution_count": 35,
   "id": "9d50192f",
   "metadata": {},
   "outputs": [],
   "source": [
    "def square(n):\n",
    "    print(\"square is\",n**2)\n",
    "def cube(n):\n",
    "    print(\"cube is\",n**3)"
   ]
  },
  {
   "cell_type": "code",
   "execution_count": 38,
   "id": "967a5c98",
   "metadata": {},
   "outputs": [
    {
     "name": "stdout",
     "output_type": "stream",
     "text": [
      "square is 16\n",
      "cube is 27\n"
     ]
    }
   ],
   "source": [
    "t1 = Thread(target = square(4,))\n",
    "t2 = Thread(target = cube(3,))"
   ]
  },
  {
   "cell_type": "code",
   "execution_count": 39,
   "id": "4cdb5c88",
   "metadata": {},
   "outputs": [
    {
     "name": "stdout",
     "output_type": "stream",
     "text": [
      "hello\n"
     ]
    }
   ],
   "source": [
    "t1.start()\n",
    "t2.start()\n",
    "print(\"hello\")"
   ]
  },
  {
   "cell_type": "code",
   "execution_count": 40,
   "id": "ea1ace45",
   "metadata": {},
   "outputs": [],
   "source": [
    "t1.join()"
   ]
  },
  {
   "cell_type": "code",
   "execution_count": 41,
   "id": "6a70fe2e",
   "metadata": {},
   "outputs": [],
   "source": [
    "t2.join()"
   ]
  },
  {
   "cell_type": "code",
   "execution_count": null,
   "id": "c160e6de",
   "metadata": {},
   "outputs": [],
   "source": []
  },
  {
   "cell_type": "code",
   "execution_count": 43,
   "id": "705ce5b2",
   "metadata": {},
   "outputs": [],
   "source": [
    "from queue import Queue"
   ]
  },
  {
   "cell_type": "code",
   "execution_count": 44,
   "id": "1e5bfcce",
   "metadata": {},
   "outputs": [],
   "source": [
    "def producer(q):\n",
    "    for i in range(5):\n",
    "        q.put(i)\n",
    "        print(\"published\",i)\n",
    "def consumer(q):\n",
    "    while True:\n",
    "        data = q.get()\n",
    "        print(\"consumed\",data)"
   ]
  },
  {
   "cell_type": "code",
   "execution_count": 52,
   "id": "7b9a8c72",
   "metadata": {},
   "outputs": [],
   "source": [
    "q = Queue()"
   ]
  },
  {
   "cell_type": "code",
   "execution_count": 53,
   "id": "4a490b8e",
   "metadata": {},
   "outputs": [],
   "source": [
    "producer_thread = Thread(target = producer, args = (q,))\n",
    "consumer_thread = Thread(target = consumer, args = (q,))"
   ]
  },
  {
   "cell_type": "code",
   "execution_count": 54,
   "id": "35461f46",
   "metadata": {},
   "outputs": [],
   "source": [
    "consumer_thread.start()"
   ]
  },
  {
   "cell_type": "code",
   "execution_count": 55,
   "id": "29567f57",
   "metadata": {},
   "outputs": [
    {
     "name": "stdout",
     "output_type": "stream",
     "text": [
      "published 0\n",
      "published 1\n",
      "published 2\n",
      "published consumed 0\n",
      "consumed 1\n",
      "consumed 2\n",
      "consumed 3\n",
      "3\n",
      "published 4\n",
      "consumed 4\n"
     ]
    }
   ],
   "source": [
    "producer_thread.start()"
   ]
  },
  {
   "cell_type": "code",
   "execution_count": 56,
   "id": "fb36ed62",
   "metadata": {},
   "outputs": [],
   "source": [
    "producer_thread.join()"
   ]
  },
  {
   "cell_type": "code",
   "execution_count": null,
   "id": "bee21be8",
   "metadata": {},
   "outputs": [],
   "source": [
    "consumer_thread.join()"
   ]
  },
  {
   "cell_type": "code",
   "execution_count": null,
   "id": "a6139cd8",
   "metadata": {},
   "outputs": [],
   "source": []
  },
  {
   "cell_type": "markdown",
   "id": "d878a1f0",
   "metadata": {},
   "source": [
    "## Coroutines"
   ]
  },
  {
   "cell_type": "code",
   "execution_count": 1,
   "id": "7a501d85",
   "metadata": {},
   "outputs": [],
   "source": [
    "def print_fancy_name(prefix):\n",
    "    try:\n",
    "        while True:\n",
    "            name = (yield)\n",
    "            print(prefix + ':' + name)\n",
    "    except GeneratorExit:\n",
    "        print(\"Done!\")"
   ]
  },
  {
   "cell_type": "code",
   "execution_count": 2,
   "id": "c5b49a32",
   "metadata": {},
   "outputs": [],
   "source": [
    "co = print_fancy_name(\"Cool\")"
   ]
  },
  {
   "cell_type": "code",
   "execution_count": 3,
   "id": "a10db20f",
   "metadata": {},
   "outputs": [
    {
     "data": {
      "text/plain": [
       "generator"
      ]
     },
     "execution_count": 3,
     "metadata": {},
     "output_type": "execute_result"
    }
   ],
   "source": [
    "type(co)"
   ]
  },
  {
   "cell_type": "markdown",
   "id": "dd7061c8",
   "metadata": {},
   "source": [
    "Initialization"
   ]
  },
  {
   "cell_type": "code",
   "execution_count": 4,
   "id": "486c63d6",
   "metadata": {},
   "outputs": [],
   "source": [
    "next(co)"
   ]
  },
  {
   "cell_type": "markdown",
   "id": "9fed5265",
   "metadata": {},
   "source": [
    "Sending data and control"
   ]
  },
  {
   "cell_type": "code",
   "execution_count": 5,
   "id": "b153a93f",
   "metadata": {},
   "outputs": [
    {
     "name": "stdout",
     "output_type": "stream",
     "text": [
      "Cool:jatin\n"
     ]
    }
   ],
   "source": [
    "co.send(\"jatin\")"
   ]
  },
  {
   "cell_type": "code",
   "execution_count": 6,
   "id": "cba38baa",
   "metadata": {},
   "outputs": [
    {
     "name": "stdout",
     "output_type": "stream",
     "text": [
      "Cool:prateek\n"
     ]
    }
   ],
   "source": [
    "co.send(\"prateek\")"
   ]
  },
  {
   "cell_type": "code",
   "execution_count": 7,
   "id": "59159860",
   "metadata": {},
   "outputs": [
    {
     "name": "stdout",
     "output_type": "stream",
     "text": [
      "Done!\n"
     ]
    }
   ],
   "source": [
    "co.close()"
   ]
  },
  {
   "cell_type": "code",
   "execution_count": null,
   "id": "296e7956",
   "metadata": {},
   "outputs": [],
   "source": []
  },
  {
   "cell_type": "code",
   "execution_count": null,
   "id": "327caccd",
   "metadata": {},
   "outputs": [],
   "source": []
  },
  {
   "cell_type": "markdown",
   "id": "f4252d83",
   "metadata": {},
   "source": [
    "## AsyncIO"
   ]
  },
  {
   "cell_type": "code",
   "execution_count": 8,
   "id": "565c626a",
   "metadata": {},
   "outputs": [],
   "source": [
    "import asyncio"
   ]
  },
  {
   "cell_type": "code",
   "execution_count": 9,
   "id": "176dd7d9",
   "metadata": {},
   "outputs": [],
   "source": [
    "async def main():\n",
    "    print(\"Hello World!\") # async will cause function to return coroutine"
   ]
  },
  {
   "cell_type": "code",
   "execution_count": 10,
   "id": "753cd14b",
   "metadata": {},
   "outputs": [
    {
     "name": "stdout",
     "output_type": "stream",
     "text": [
      "Hello World!\n"
     ]
    }
   ],
   "source": [
    "if __name__ == \"__main__\":\n",
    "    main()"
   ]
  },
  {
   "cell_type": "code",
   "execution_count": null,
   "id": "b7dfd369",
   "metadata": {},
   "outputs": [],
   "source": []
  },
  {
   "cell_type": "code",
   "execution_count": null,
   "id": "fc9937d5",
   "metadata": {},
   "outputs": [],
   "source": []
  },
  {
   "cell_type": "code",
   "execution_count": null,
   "id": "8ff67b4a",
   "metadata": {},
   "outputs": [],
   "source": []
  },
  {
   "cell_type": "code",
   "execution_count": null,
   "id": "41eff74f",
   "metadata": {},
   "outputs": [],
   "source": []
  },
  {
   "cell_type": "code",
   "execution_count": null,
   "id": "3914fe9b",
   "metadata": {},
   "outputs": [],
   "source": []
  },
  {
   "cell_type": "code",
   "execution_count": null,
   "id": "9c78b7b3",
   "metadata": {},
   "outputs": [],
   "source": []
  },
  {
   "cell_type": "code",
   "execution_count": null,
   "id": "5fc41a35",
   "metadata": {},
   "outputs": [],
   "source": []
  },
  {
   "cell_type": "code",
   "execution_count": null,
   "id": "6e4154c8",
   "metadata": {},
   "outputs": [],
   "source": []
  },
  {
   "cell_type": "code",
   "execution_count": null,
   "id": "6599ebc2",
   "metadata": {},
   "outputs": [],
   "source": []
  },
  {
   "cell_type": "code",
   "execution_count": null,
   "id": "21a59fa7",
   "metadata": {},
   "outputs": [],
   "source": []
  },
  {
   "cell_type": "code",
   "execution_count": null,
   "id": "d8860066",
   "metadata": {},
   "outputs": [],
   "source": []
  }
 ],
 "metadata": {
  "kernelspec": {
   "display_name": "Python 3 (ipykernel)",
   "language": "python",
   "name": "python3"
  },
  "language_info": {
   "codemirror_mode": {
    "name": "ipython",
    "version": 3
   },
   "file_extension": ".py",
   "mimetype": "text/x-python",
   "name": "python",
   "nbconvert_exporter": "python",
   "pygments_lexer": "ipython3",
   "version": "3.9.9"
  }
 },
 "nbformat": 4,
 "nbformat_minor": 5
}
