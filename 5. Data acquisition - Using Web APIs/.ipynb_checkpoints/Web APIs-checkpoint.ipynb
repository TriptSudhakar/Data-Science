{
 "cells": [
  {
   "cell_type": "markdown",
   "id": "a13c2d00",
   "metadata": {},
   "source": [
    "### Data Acquisition - Web APIs\n",
    "- Application Programming Interface - Set of routines running over the web server.\n",
    "- Connects Application & Database\n",
    "- Specify Data with URL\n",
    "- Retrive Data and parse it\n",
    "- API may return data in JSON or XML data formats\n",
    "\n",
    "### JSON\n",
    "- Javascript Object Notation\n",
    "- Dictionary like data-structure : key value pairs\n",
    "- Keys are strings, values can be anything\n",
    "- Easy to read and write\n",
    "\n",
    "### XML\n",
    "- eXtensible Markup Language\n",
    "- Structure similar to HTML\n",
    "- Custom Tags\n",
    "- No style"
   ]
  },
  {
   "cell_type": "markdown",
   "id": "34252a6e",
   "metadata": {},
   "source": [
    "### Types of Requests\n",
    "- GET\n",
    "- POSH\n",
    "- DELETE\n",
    "- PUT\n",
    "- PATCH"
   ]
  },
  {
   "cell_type": "markdown",
   "id": "9647578f",
   "metadata": {},
   "source": [
    "- Urlib\n",
    "- Requests"
   ]
  },
  {
   "cell_type": "code",
   "execution_count": 1,
   "id": "477a5580",
   "metadata": {},
   "outputs": [],
   "source": [
    "from urllib.request import urlopen"
   ]
  },
  {
   "cell_type": "code",
   "execution_count": null,
   "id": "e51f367c",
   "metadata": {},
   "outputs": [],
   "source": []
  }
 ],
 "metadata": {
  "kernelspec": {
   "display_name": "Python 3 (ipykernel)",
   "language": "python",
   "name": "python3"
  },
  "language_info": {
   "codemirror_mode": {
    "name": "ipython",
    "version": 3
   },
   "file_extension": ".py",
   "mimetype": "text/x-python",
   "name": "python",
   "nbconvert_exporter": "python",
   "pygments_lexer": "ipython3",
   "version": "3.9.9"
  }
 },
 "nbformat": 4,
 "nbformat_minor": 5
}
