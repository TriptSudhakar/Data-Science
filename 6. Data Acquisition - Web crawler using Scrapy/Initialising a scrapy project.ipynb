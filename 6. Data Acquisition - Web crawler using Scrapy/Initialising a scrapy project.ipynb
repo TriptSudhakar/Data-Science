{
 "cells": [
  {
   "cell_type": "code",
   "execution_count": 1,
   "id": "16d1e4b5",
   "metadata": {},
   "outputs": [
    {
     "name": "stdout",
     "output_type": "stream",
     "text": [
      "New Scrapy project 'myfirstproject', using template directory 'C:\\Users\\DELL INDIA\\AppData\\Local\\Programs\\Python\\Python39\\lib\\site-packages\\scrapy\\templates\\project', created in:\n",
      "    C:\\Users\\DELL INDIA\\Desktop\\Coding\\Jupyter\\Data Acquisition - Web crawler using Scrappy\\myfirstproject\n",
      "\n",
      "You can start your first spider with:\n",
      "    cd myfirstproject\n",
      "    scrapy genspider example example.com\n"
     ]
    }
   ],
   "source": [
    "!scrapy startproject myfirstproject"
   ]
  },
  {
   "cell_type": "code",
   "execution_count": null,
   "id": "ba9937d7",
   "metadata": {},
   "outputs": [],
   "source": []
  }
 ],
 "metadata": {
  "kernelspec": {
   "display_name": "Python 3 (ipykernel)",
   "language": "python",
   "name": "python3"
  },
  "language_info": {
   "codemirror_mode": {
    "name": "ipython",
    "version": 3
   },
   "file_extension": ".py",
   "mimetype": "text/x-python",
   "name": "python",
   "nbconvert_exporter": "python",
   "pygments_lexer": "ipython3",
   "version": "3.9.9"
  }
 },
 "nbformat": 4,
 "nbformat_minor": 5
}
