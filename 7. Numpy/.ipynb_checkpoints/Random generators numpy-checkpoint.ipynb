{
 "cells": [
  {
   "cell_type": "markdown",
   "id": "5cd2c43d",
   "metadata": {},
   "source": [
    "### Numpy Random Module\n",
    "- rand : Random values in a given shape\n",
    "- randn : Returns a sample (or samples) from the \"standard normal\" distribution\n",
    "- randint : Returns random integers from low (inclusive) to high(exclusive)\n",
    "- random : Returns random floats in the half-open interval [0.0, 1.0)\n",
    "- choice : Generates a random sample fomr a given 1-D arrray\n",
    "- Shuffle : shuffles the contents of a sequence"
   ]
  },
  {
   "cell_type": "code",
   "execution_count": 2,
   "id": "3ec119c0",
   "metadata": {},
   "outputs": [],
   "source": [
    "import numpy as np"
   ]
  },
  {
   "cell_type": "code",
   "execution_count": 15,
   "id": "8ebea964",
   "metadata": {},
   "outputs": [
    {
     "name": "stdout",
     "output_type": "stream",
     "text": [
      "[0 1 2 3 4 5 6 7 8 9]\n",
      "<class 'numpy.ndarray'>\n"
     ]
    }
   ],
   "source": [
    "a = np.arange(10)\n",
    "print(a)\n",
    "print(type(a))"
   ]
  },
  {
   "cell_type": "code",
   "execution_count": 18,
   "id": "1e2590fb",
   "metadata": {},
   "outputs": [
    {
     "name": "stdout",
     "output_type": "stream",
     "text": [
      "[0 5 6 1 8 3 9 2 4 7]\n"
     ]
    }
   ],
   "source": [
    "np.random.shuffle(a)\n",
    "print(a)"
   ]
  },
  {
   "cell_type": "code",
   "execution_count": 19,
   "id": "f32f0c8c",
   "metadata": {},
   "outputs": [
    {
     "name": "stdout",
     "output_type": "stream",
     "text": [
      "[[0.91678623 0.28885338 0.38358341]\n",
      " [0.14468592 0.52479446 0.26808703]]\n"
     ]
    }
   ],
   "source": [
    "x = np.random.rand(2,3)\n",
    "print(x)"
   ]
  },
  {
   "cell_type": "code",
   "execution_count": 20,
   "id": "446d40a7",
   "metadata": {},
   "outputs": [],
   "source": [
    "y = np.random.randint(5,10,3)"
   ]
  },
  {
   "cell_type": "code",
   "execution_count": 21,
   "id": "aabce046",
   "metadata": {},
   "outputs": [
    {
     "name": "stdout",
     "output_type": "stream",
     "text": [
      "[5 7 6]\n"
     ]
    }
   ],
   "source": [
    "print(y)"
   ]
  },
  {
   "cell_type": "code",
   "execution_count": 35,
   "id": "1bfe9af8",
   "metadata": {},
   "outputs": [
    {
     "name": "stdout",
     "output_type": "stream",
     "text": [
      "7\n"
     ]
    }
   ],
   "source": [
    "np.random.seed(1) # replicate results\n",
    "print(np.random.choice(y))"
   ]
  },
  {
   "cell_type": "code",
   "execution_count": null,
   "id": "09d20d74",
   "metadata": {},
   "outputs": [],
   "source": []
  }
 ],
 "metadata": {
  "kernelspec": {
   "display_name": "Python 3 (ipykernel)",
   "language": "python",
   "name": "python3"
  },
  "language_info": {
   "codemirror_mode": {
    "name": "ipython",
    "version": 3
   },
   "file_extension": ".py",
   "mimetype": "text/x-python",
   "name": "python",
   "nbconvert_exporter": "python",
   "pygments_lexer": "ipython3",
   "version": "3.9.9"
  }
 },
 "nbformat": 4,
 "nbformat_minor": 5
}
