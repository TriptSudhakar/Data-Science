{
 "cells": [
  {
   "cell_type": "code",
   "execution_count": 1,
   "id": "2cd5f58b",
   "metadata": {},
   "outputs": [],
   "source": [
    "import numpy as np"
   ]
  },
  {
   "cell_type": "code",
   "execution_count": 4,
   "id": "da9fa002",
   "metadata": {},
   "outputs": [
    {
     "name": "stdout",
     "output_type": "stream",
     "text": [
      "[[4]\n",
      " [5]\n",
      " [6]]\n",
      "(3, 1)\n"
     ]
    }
   ],
   "source": [
    "x = np.array([[4],[5],[6]])\n",
    "print(x)\n",
    "print(x.shape)"
   ]
  },
  {
   "cell_type": "code",
   "execution_count": 11,
   "id": "b5164121",
   "metadata": {},
   "outputs": [
    {
     "name": "stdout",
     "output_type": "stream",
     "text": [
      "(3, 4)\n",
      "[[ 4  5  7 10 10 11]\n",
      " [13 11 56 80 90 12]]\n",
      "[[ 4  5]\n",
      " [ 7 10]\n",
      " [10 11]\n",
      " [13 11]\n",
      " [56 80]\n",
      " [90 12]]\n",
      "(6, 2)\n"
     ]
    }
   ],
   "source": [
    "y = np.array([[4,5,7,10],[10,11,13,11],[56,80,90,12]])\n",
    "print(y.shape)\n",
    "y = y.reshape((2,6))\n",
    "# y = y.reshape((2,-1))\n",
    "print(y)\n",
    "y = y.reshape((-1,2))\n",
    "print(y)\n",
    "print(y.shape)"
   ]
  },
  {
   "cell_type": "code",
   "execution_count": 19,
   "id": "516d9d08",
   "metadata": {},
   "outputs": [
    {
     "data": {
      "image/png": "[encoded data removed]",
      "text/plain": [
       "<Figure size 432x288 with 1 Axes>"
      ]
     },
     "metadata": {
      "needs_background": "light"
     },
     "output_type": "display_data"
    }
   ],
   "source": [
    "T = np.zeros((5,5,3),dtype = 'uint8')\n",
    "# print(T)\n",
    "T[:,:,2] = 255\n",
    "import matplotlib.pyplot as plt\n",
    "plt.imshow(T)\n",
    "plt.show()"
   ]
  },
  {
   "cell_type": "code",
   "execution_count": 22,
   "id": "181dbddf",
   "metadata": {},
   "outputs": [],
   "source": [
    "y = y.reshape((-1,1))"
   ]
  },
  {
   "cell_type": "code",
   "execution_count": 23,
   "id": "b949c727",
   "metadata": {},
   "outputs": [
    {
     "data": {
      "text/plain": [
       "array([[ 4,  5,  7, 10, 10, 11, 13, 11, 56, 80, 90, 12]])"
      ]
     },
     "execution_count": 23,
     "metadata": {},
     "output_type": "execute_result"
    }
   ],
   "source": [
    "y.T"
   ]
  },
  {
   "cell_type": "code",
   "execution_count": 28,
   "id": "eefa6c2d",
   "metadata": {},
   "outputs": [
    {
     "name": "stdout",
     "output_type": "stream",
     "text": [
      "(50, 25, 3)\n",
      "(3, 25, 50)\n",
      "(50, 3, 25)\n"
     ]
    }
   ],
   "source": [
    "#Transpose of Tensor\n",
    "T = np.zeros((50,25,3),dtype = 'uint8')\n",
    "T[:,:,2] = 255\n",
    "\n",
    "# print(T[0][0])\n",
    "print(T.shape)\n",
    "T1 = np.transpose(T)\n",
    "print(T1.shape) # order of axes is reversed by default\n",
    "T1 = np.transpose(T,axes = (0,2,1))\n",
    "print(T1.shape)"
   ]
  },
  {
   "cell_type": "code",
   "execution_count": null,
   "id": "e46ffc0c",
   "metadata": {},
   "outputs": [],
   "source": []
  }
 ],
 "metadata": {
  "kernelspec": {
   "display_name": "Python 3 (ipykernel)",
   "language": "python",
   "name": "python3"
  },
  "language_info": {
   "codemirror_mode": {
    "name": "ipython",
    "version": 3
   },
   "file_extension": ".py",
   "mimetype": "text/x-python",
   "name": "python",
   "nbconvert_exporter": "python",
   "pygments_lexer": "ipython3",
   "version": "3.9.9"
  }
 },
 "nbformat": 4,
 "nbformat_minor": 5
}
