{
 "cells": [
  {
   "cell_type": "code",
   "execution_count": 1,
   "id": "c59e2257",
   "metadata": {},
   "outputs": [],
   "source": [
    "import numpy as np"
   ]
  },
  {
   "cell_type": "markdown",
   "id": "1efdf01d",
   "metadata": {},
   "source": [
    "### Norm"
   ]
  },
  {
   "cell_type": "code",
   "execution_count": 2,
   "id": "2247386f",
   "metadata": {},
   "outputs": [
    {
     "name": "stdout",
     "output_type": "stream",
     "text": [
      "5.0\n"
     ]
    }
   ],
   "source": [
    "x = np.array([3,4])\n",
    "\n",
    "lp2 = np.linalg.norm(x)\n",
    "print(lp2)"
   ]
  },
  {
   "cell_type": "code",
   "execution_count": 4,
   "id": "165a9281",
   "metadata": {},
   "outputs": [
    {
     "name": "stdout",
     "output_type": "stream",
     "text": [
      "7.0\n"
     ]
    }
   ],
   "source": [
    "lp1 = np.linalg.norm(x,ord = 1)\n",
    "print(lp1)"
   ]
  },
  {
   "cell_type": "code",
   "execution_count": 5,
   "id": "4b17e82d",
   "metadata": {},
   "outputs": [
    {
     "name": "stdout",
     "output_type": "stream",
     "text": [
      "4.0\n"
     ]
    }
   ],
   "source": [
    "lpinf = np.linalg.norm(x,ord = np.inf)\n",
    "print(lpinf)"
   ]
  },
  {
   "cell_type": "markdown",
   "id": "3c8f390d",
   "metadata": {},
   "source": [
    "### Determinant"
   ]
  },
  {
   "cell_type": "code",
   "execution_count": 7,
   "id": "57120f36",
   "metadata": {},
   "outputs": [
    {
     "name": "stdout",
     "output_type": "stream",
     "text": [
      "-2.0000000000000004\n"
     ]
    }
   ],
   "source": [
    "A = np.array([[1,2],\n",
    "             [3,4]])\n",
    "print(np.linalg.det(A))"
   ]
  },
  {
   "cell_type": "markdown",
   "id": "ccdd7223",
   "metadata": {},
   "source": [
    "### Inverse"
   ]
  },
  {
   "cell_type": "code",
   "execution_count": 10,
   "id": "d1a23784",
   "metadata": {},
   "outputs": [
    {
     "name": "stdout",
     "output_type": "stream",
     "text": [
      "[[1.0000000e+00 0.0000000e+00]\n",
      " [8.8817842e-16 1.0000000e+00]]\n"
     ]
    }
   ],
   "source": [
    "Ainv = np.linalg.inv(A)\n",
    "# print(Ainv)\n",
    "print(np.dot(A,Ainv))"
   ]
  },
  {
   "cell_type": "code",
   "execution_count": 13,
   "id": "1ac8aacd",
   "metadata": {},
   "outputs": [
    {
     "name": "stdout",
     "output_type": "stream",
     "text": [
      "[[0.048 0.024]\n",
      " [0.064 0.032]]\n"
     ]
    }
   ],
   "source": [
    "B = np.array([[6,8],\n",
    "             [3,4]])\n",
    "\n",
    "pinv = np.linalg.pinv(B)\n",
    "print(pinv)"
   ]
  },
  {
   "cell_type": "markdown",
   "id": "9af38780",
   "metadata": {},
   "source": [
    ">When matrix is invertible, pseudo inverse is equal to the inverse of the matrix. Pseudo inverse can also be defined for non-invertible matrices"
   ]
  },
  {
   "cell_type": "code",
   "execution_count": 14,
   "id": "c2a4fa6a",
   "metadata": {},
   "outputs": [
    {
     "name": "stdout",
     "output_type": "stream",
     "text": [
      "[[0.8 0.4]\n",
      " [0.4 0.2]]\n"
     ]
    }
   ],
   "source": [
    "print(np.dot(B,pinv))"
   ]
  },
  {
   "cell_type": "markdown",
   "id": "8e2ca1bb",
   "metadata": {},
   "source": [
    "### Solve a system of equations"
   ]
  },
  {
   "cell_type": "code",
   "execution_count": 15,
   "id": "6caa58e0",
   "metadata": {},
   "outputs": [],
   "source": [
    "a = np.array([[2,3],[3,1]])\n",
    "b = np.array([8,5])"
   ]
  },
  {
   "cell_type": "code",
   "execution_count": 16,
   "id": "025c1bba",
   "metadata": {},
   "outputs": [
    {
     "data": {
      "text/plain": [
       "array([1., 2.])"
      ]
     },
     "execution_count": 16,
     "metadata": {},
     "output_type": "execute_result"
    }
   ],
   "source": [
    "np.linalg.solve(a,b)"
   ]
  },
  {
   "cell_type": "code",
   "execution_count": null,
   "id": "0085d5c3",
   "metadata": {},
   "outputs": [],
   "source": []
  }
 ],
 "metadata": {
  "kernelspec": {
   "display_name": "Python 3 (ipykernel)",
   "language": "python",
   "name": "python3"
  },
  "language_info": {
   "codemirror_mode": {
    "name": "ipython",
    "version": 3
   },
   "file_extension": ".py",
   "mimetype": "text/x-python",
   "name": "python",
   "nbconvert_exporter": "python",
   "pygments_lexer": "ipython3",
   "version": "3.9.9"
  }
 },
 "nbformat": 4,
 "nbformat_minor": 5
}
