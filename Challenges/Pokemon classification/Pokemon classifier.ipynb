{
 "cells": [
  {
   "cell_type": "code",
   "execution_count": 1,
   "id": "a5b7731f",
   "metadata": {},
   "outputs": [],
   "source": [
    "import os\n",
    "from pathlib import Path\n",
    "from tensorflow.keras.preprocessing import image\n",
    "import numpy as np"
   ]
  },
  {
   "cell_type": "code",
   "execution_count": 2,
   "id": "59fedda0",
   "metadata": {},
   "outputs": [],
   "source": [
    "import pandas as pd"
   ]
  },
  {
   "cell_type": "code",
   "execution_count": 3,
   "id": "6dcdb8ed",
   "metadata": {},
   "outputs": [
    {
     "data": {
      "text/html": [
       "<div>\n",
       "<style scoped>\n",
       "    .dataframe tbody tr th:only-of-type {\n",
       "        vertical-align: middle;\n",
       "    }\n",
       "\n",
       "    .dataframe tbody tr th {\n",
       "        vertical-align: top;\n",
       "    }\n",
       "\n",
       "    .dataframe thead th {\n",
       "        text-align: right;\n",
       "    }\n",
       "</style>\n",
       "<table border=\"1\" class=\"dataframe\">\n",
       "  <thead>\n",
       "    <tr style=\"text-align: right;\">\n",
       "      <th></th>\n",
       "      <th>ImageId</th>\n",
       "      <th>NameOfPokemon</th>\n",
       "    </tr>\n",
       "  </thead>\n",
       "  <tbody>\n",
       "    <tr>\n",
       "      <th>0</th>\n",
       "      <td>296.jpg</td>\n",
       "      <td>Pikachu</td>\n",
       "    </tr>\n",
       "    <tr>\n",
       "      <th>1</th>\n",
       "      <td>297.jpg</td>\n",
       "      <td>Pikachu</td>\n",
       "    </tr>\n",
       "    <tr>\n",
       "      <th>2</th>\n",
       "      <td>298.jpg</td>\n",
       "      <td>Pikachu</td>\n",
       "    </tr>\n",
       "    <tr>\n",
       "      <th>3</th>\n",
       "      <td>299.jpg</td>\n",
       "      <td>Pikachu</td>\n",
       "    </tr>\n",
       "    <tr>\n",
       "      <th>4</th>\n",
       "      <td>300.jpg</td>\n",
       "      <td>Pikachu</td>\n",
       "    </tr>\n",
       "  </tbody>\n",
       "</table>\n",
       "</div>"
      ],
      "text/plain": [
       "   ImageId NameOfPokemon\n",
       "0  296.jpg       Pikachu\n",
       "1  297.jpg       Pikachu\n",
       "2  298.jpg       Pikachu\n",
       "3  299.jpg       Pikachu\n",
       "4  300.jpg       Pikachu"
      ]
     },
     "execution_count": 3,
     "metadata": {},
     "output_type": "execute_result"
    }
   ],
   "source": [
    "X_train = pd.read_csv(\"train.csv\")\n",
    "X_train.head()"
   ]
  },
  {
   "cell_type": "code",
   "execution_count": 4,
   "id": "6c3efdf0",
   "metadata": {},
   "outputs": [
    {
     "name": "stdout",
     "output_type": "stream",
     "text": [
      "(304,)\n"
     ]
    }
   ],
   "source": [
    "labels = X_train['NameOfPokemon'].values\n",
    "print(labels.shape)"
   ]
  },
  {
   "cell_type": "code",
   "execution_count": 5,
   "id": "873d9d19",
   "metadata": {},
   "outputs": [
    {
     "name": "stdout",
     "output_type": "stream",
     "text": [
      "['Pikachu' 'Pikachu' 'Pikachu' 'Pikachu' 'Pikachu' 'Pikachu' 'Pikachu'\n",
      " 'Pikachu' 'Pikachu' 'Pikachu' 'Pikachu' 'Pikachu' 'Pikachu' 'Pikachu'\n",
      " 'Pikachu' 'Pikachu' 'Pikachu' 'Pikachu' 'Pikachu' 'Pikachu' 'Pikachu'\n",
      " 'Pikachu' 'Pikachu' 'Pikachu' 'Pikachu' 'Pikachu' 'Pikachu' 'Pikachu'\n",
      " 'Pikachu' 'Pikachu' 'Pikachu' 'Pikachu' 'Pikachu' 'Pikachu' 'Pikachu'\n",
      " 'Pikachu' 'Pikachu' 'Pikachu' 'Pikachu' 'Pikachu' 'Pikachu' 'Pikachu'\n",
      " 'Pikachu' 'Pikachu' 'Pikachu' 'Pikachu' 'Pikachu' 'Pikachu' 'Pikachu'\n",
      " 'Pikachu' 'Pikachu' 'Pikachu' 'Pikachu' 'Pikachu' 'Pikachu' 'Pikachu'\n",
      " 'Pikachu' 'Pikachu' 'Pikachu' 'Pikachu' 'Pikachu' 'Pikachu' 'Pikachu'\n",
      " 'Pikachu' 'Pikachu' 'Pikachu' 'Pikachu' 'Pikachu' 'Pikachu' 'Pikachu'\n",
      " 'Pikachu' 'Pikachu' 'Pikachu' 'Pikachu' 'Pikachu' 'Pikachu' 'Pikachu'\n",
      " 'Pikachu' 'Pikachu' 'Pikachu' 'Pikachu' 'Pikachu' 'Pikachu' 'Pikachu'\n",
      " 'Pikachu' 'Pikachu' 'Pikachu' 'Pikachu' 'Pikachu' 'Pikachu' 'Pikachu'\n",
      " 'Pikachu' 'Pikachu' 'Pikachu' 'Pikachu' 'Pikachu' 'Pikachu' 'Pikachu'\n",
      " 'Pikachu' 'Pikachu' 'Pikachu' 'Bulbasaur' 'Bulbasaur' 'Bulbasaur'\n",
      " 'Bulbasaur' 'Bulbasaur' 'Bulbasaur' 'Bulbasaur' 'Bulbasaur' 'Bulbasaur'\n",
      " 'Bulbasaur' 'Bulbasaur' 'Bulbasaur' 'Bulbasaur' 'Bulbasaur' 'Bulbasaur'\n",
      " 'Bulbasaur' 'Bulbasaur' 'Bulbasaur' 'Bulbasaur' 'Bulbasaur' 'Bulbasaur'\n",
      " 'Bulbasaur' 'Bulbasaur' 'Bulbasaur' 'Bulbasaur' 'Bulbasaur' 'Bulbasaur'\n",
      " 'Bulbasaur' 'Bulbasaur' 'Bulbasaur' 'Bulbasaur' 'Bulbasaur' 'Bulbasaur'\n",
      " 'Bulbasaur' 'Bulbasaur' 'Bulbasaur' 'Bulbasaur' 'Bulbasaur' 'Bulbasaur'\n",
      " 'Bulbasaur' 'Bulbasaur' 'Bulbasaur' 'Bulbasaur' 'Bulbasaur' 'Bulbasaur'\n",
      " 'Bulbasaur' 'Bulbasaur' 'Bulbasaur' 'Bulbasaur' 'Bulbasaur' 'Bulbasaur'\n",
      " 'Bulbasaur' 'Bulbasaur' 'Bulbasaur' 'Bulbasaur' 'Bulbasaur' 'Bulbasaur'\n",
      " 'Bulbasaur' 'Bulbasaur' 'Bulbasaur' 'Bulbasaur' 'Bulbasaur' 'Bulbasaur'\n",
      " 'Bulbasaur' 'Bulbasaur' 'Bulbasaur' 'Bulbasaur' 'Bulbasaur' 'Bulbasaur'\n",
      " 'Bulbasaur' 'Bulbasaur' 'Bulbasaur' 'Bulbasaur' 'Bulbasaur' 'Bulbasaur'\n",
      " 'Bulbasaur' 'Bulbasaur' 'Bulbasaur' 'Bulbasaur' 'Bulbasaur' 'Bulbasaur'\n",
      " 'Bulbasaur' 'Bulbasaur' 'Bulbasaur' 'Bulbasaur' 'Bulbasaur' 'Bulbasaur'\n",
      " 'Bulbasaur' 'Bulbasaur' 'Bulbasaur' 'Bulbasaur' 'Bulbasaur' 'Bulbasaur'\n",
      " 'Bulbasaur' 'Bulbasaur' 'Bulbasaur' 'Bulbasaur' 'Bulbasaur' 'Bulbasaur'\n",
      " 'Bulbasaur' 'Bulbasaur' 'Charmander' 'Charmander' 'Charmander'\n",
      " 'Charmander' 'Charmander' 'Charmander' 'Charmander' 'Charmander'\n",
      " 'Charmander' 'Charmander' 'Charmander' 'Charmander' 'Charmander'\n",
      " 'Charmander' 'Charmander' 'Charmander' 'Charmander' 'Charmander'\n",
      " 'Charmander' 'Charmander' 'Charmander' 'Charmander' 'Charmander'\n",
      " 'Charmander' 'Charmander' 'Charmander' 'Charmander' 'Charmander'\n",
      " 'Charmander' 'Charmander' 'Charmander' 'Charmander' 'Charmander'\n",
      " 'Charmander' 'Charmander' 'Charmander' 'Charmander' 'Charmander'\n",
      " 'Charmander' 'Charmander' 'Charmander' 'Charmander' 'Charmander'\n",
      " 'Charmander' 'Charmander' 'Charmander' 'Charmander' 'Charmander'\n",
      " 'Charmander' 'Charmander' 'Charmander' 'Charmander' 'Charmander'\n",
      " 'Charmander' 'Charmander' 'Charmander' 'Charmander' 'Charmander'\n",
      " 'Charmander' 'Charmander' 'Charmander' 'Charmander' 'Charmander'\n",
      " 'Charmander' 'Charmander' 'Charmander' 'Charmander' 'Charmander'\n",
      " 'Charmander' 'Charmander' 'Charmander' 'Charmander' 'Charmander'\n",
      " 'Charmander' 'Charmander' 'Charmander' 'Charmander' 'Charmander'\n",
      " 'Charmander' 'Charmander' 'Charmander' 'Charmander' 'Charmander'\n",
      " 'Charmander' 'Charmander' 'Charmander' 'Charmander' 'Charmander'\n",
      " 'Charmander' 'Charmander' 'Charmander' 'Charmander' 'Charmander'\n",
      " 'Charmander' 'Charmander' 'Charmander' 'Charmander' 'Charmander'\n",
      " 'Charmander' 'Charmander' 'Charmander' 'Charmander']\n"
     ]
    }
   ],
   "source": [
    "print(labels)"
   ]
  },
  {
   "cell_type": "code",
   "execution_count": 6,
   "id": "3b158bc0",
   "metadata": {},
   "outputs": [],
   "source": [
    "l = np.zeros((labels.shape[0],))\n",
    "l[labels=='Pikachu'] = 0\n",
    "l[labels=='Bulbasaur'] = 1\n",
    "l[labels=='Charmander'] = 2"
   ]
  },
  {
   "cell_type": "code",
   "execution_count": 7,
   "id": "2d0d4961",
   "metadata": {},
   "outputs": [
    {
     "name": "stdout",
     "output_type": "stream",
     "text": [
      "[0. 0. 0. 0. 0. 0. 0. 0. 0. 0. 0. 0. 0. 0. 0. 0. 0. 0. 0. 0. 0. 0. 0. 0.\n",
      " 0. 0. 0. 0. 0. 0. 0. 0. 0. 0. 0. 0. 0. 0. 0. 0. 0. 0. 0. 0. 0. 0. 0. 0.\n",
      " 0. 0. 0. 0. 0. 0. 0. 0. 0. 0. 0. 0. 0. 0. 0. 0. 0. 0. 0. 0. 0. 0. 0. 0.\n",
      " 0. 0. 0. 0. 0. 0. 0. 0. 0. 0. 0. 0. 0. 0. 0. 0. 0. 0. 0. 0. 0. 0. 0. 0.\n",
      " 0. 0. 0. 0. 0. 1. 1. 1. 1. 1. 1. 1. 1. 1. 1. 1. 1. 1. 1. 1. 1. 1. 1. 1.\n",
      " 1. 1. 1. 1. 1. 1. 1. 1. 1. 1. 1. 1. 1. 1. 1. 1. 1. 1. 1. 1. 1. 1. 1. 1.\n",
      " 1. 1. 1. 1. 1. 1. 1. 1. 1. 1. 1. 1. 1. 1. 1. 1. 1. 1. 1. 1. 1. 1. 1. 1.\n",
      " 1. 1. 1. 1. 1. 1. 1. 1. 1. 1. 1. 1. 1. 1. 1. 1. 1. 1. 1. 1. 1. 1. 1. 1.\n",
      " 1. 1. 1. 1. 1. 1. 1. 1. 1. 1. 2. 2. 2. 2. 2. 2. 2. 2. 2. 2. 2. 2. 2. 2.\n",
      " 2. 2. 2. 2. 2. 2. 2. 2. 2. 2. 2. 2. 2. 2. 2. 2. 2. 2. 2. 2. 2. 2. 2. 2.\n",
      " 2. 2. 2. 2. 2. 2. 2. 2. 2. 2. 2. 2. 2. 2. 2. 2. 2. 2. 2. 2. 2. 2. 2. 2.\n",
      " 2. 2. 2. 2. 2. 2. 2. 2. 2. 2. 2. 2. 2. 2. 2. 2. 2. 2. 2. 2. 2. 2. 2. 2.\n",
      " 2. 2. 2. 2. 2. 2. 2. 2. 2. 2. 2. 2. 2. 2. 2. 2.]\n"
     ]
    }
   ],
   "source": [
    "print(l)"
   ]
  },
  {
   "cell_type": "code",
   "execution_count": 8,
   "id": "9325b979",
   "metadata": {},
   "outputs": [
    {
     "name": "stderr",
     "output_type": "stream",
     "text": [
      "C:\\Users\\DELL INDIA\\AppData\\Local\\Programs\\Python\\Python39\\lib\\site-packages\\PIL\\Image.py:975: UserWarning: Palette images with Transparency expressed in bytes should be converted to RGBA images\n",
      "  warnings.warn(\n"
     ]
    }
   ],
   "source": [
    "p = Path(\"Images_train/\")\n",
    "\n",
    "labels_dict = {'Pikachu':0,'Bulbasaur':1,'Charmander':2}\n",
    "image_data = []\n",
    "\n",
    "for img_path in p.glob('*.jpg'):\n",
    "    img = image.load_img(img_path,target_size = (20,20))\n",
    "    img_array = image.img_to_array(img)\n",
    "    image_data.append(img_array)"
   ]
  },
  {
   "cell_type": "code",
   "execution_count": 9,
   "id": "1d93f285",
   "metadata": {},
   "outputs": [
    {
     "data": {
      "text/plain": [
       "304"
      ]
     },
     "execution_count": 9,
     "metadata": {},
     "output_type": "execute_result"
    }
   ],
   "source": [
    "len(image_data)"
   ]
  },
  {
   "cell_type": "code",
   "execution_count": 10,
   "id": "a79240dc",
   "metadata": {},
   "outputs": [],
   "source": [
    "import matplotlib.pyplot as plt\n",
    "\n",
    "def drawImg(img):\n",
    "    plt.imshow(img)\n",
    "    plt.axis(\"off\")\n",
    "    plt.show()\n",
    "    return"
   ]
  },
  {
   "cell_type": "code",
   "execution_count": 11,
   "id": "6b04cc71",
   "metadata": {},
   "outputs": [],
   "source": [
    "image_data = np.array(image_data).astype('float32')\n",
    "image_data = image_data/255.0"
   ]
  },
  {
   "cell_type": "code",
   "execution_count": 12,
   "id": "1e71c45c",
   "metadata": {},
   "outputs": [
    {
     "data": {
      "image/png": "[encoded data removed]",
      "text/plain": [
       "<Figure size 432x288 with 1 Axes>"
      ]
     },
     "metadata": {
      "needs_background": "light"
     },
     "output_type": "display_data"
    }
   ],
   "source": [
    "drawImg(image_data[0])"
   ]
  },
  {
   "cell_type": "code",
   "execution_count": 13,
   "id": "ad03e320",
   "metadata": {},
   "outputs": [
    {
     "name": "stdout",
     "output_type": "stream",
     "text": [
      "(304, 20, 20, 3)\n"
     ]
    }
   ],
   "source": [
    "print(image_data.shape)"
   ]
  },
  {
   "cell_type": "code",
   "execution_count": 14,
   "id": "a6504d65",
   "metadata": {},
   "outputs": [],
   "source": [
    "import random\n",
    "\n",
    "combined = list(zip(image_data,l))\n",
    "random.shuffle(combined)\n",
    "\n",
    "# Unzip\n",
    "image_data[:],l[:] = zip(*combined)"
   ]
  },
  {
   "cell_type": "code",
   "execution_count": 15,
   "id": "47b7c7d7",
   "metadata": {},
   "outputs": [
    {
     "data": {
      "image/png": "[encoded data removed]",
      "text/plain": [
       "<Figure size 432x288 with 1 Axes>"
      ]
     },
     "metadata": {
      "needs_background": "light"
     },
     "output_type": "display_data"
    }
   ],
   "source": [
    "drawImg(image_data[0])"
   ]
  },
  {
   "cell_type": "code",
   "execution_count": 16,
   "id": "089b01ff",
   "metadata": {},
   "outputs": [
    {
     "data": {
      "text/plain": [
       "0"
      ]
     },
     "execution_count": 16,
     "metadata": {},
     "output_type": "execute_result"
    }
   ],
   "source": [
    "l = l.astype('int32')\n",
    "l[0]"
   ]
  },
  {
   "cell_type": "code",
   "execution_count": 17,
   "id": "369cee38",
   "metadata": {},
   "outputs": [
    {
     "name": "stdout",
     "output_type": "stream",
     "text": [
      "[0 1 0 0 2 0 1 0 2 1 0 1 2 2 0 1 0 0 0 2 1 2 1 0 1 2 1 2 1 2 1 2 0 1 0 2 1\n",
      " 2 1 0 2 0 1 0 0 2 0 2 2 0 1 1 1 2 0 0 2 0 0 2 0 2 1 2 2 1 0 1 0 0 2 1 0 0\n",
      " 0 1 1 2 0 0 0 0 0 0 0 0 1 0 2 1 1 0 1 0 0 0 2 2 1 2 1 0 0 1 0 0 2 2 1 1 2\n",
      " 2 1 2 1 1 2 2 1 2 1 2 1 2 2 2 1 0 0 2 0 1 1 1 0 0 1 0 0 0 2 1 1 1 2 1 2 1\n",
      " 0 2 2 1 2 2 1 2 1 1 0 0 2 1 2 0 2 0 0 0 2 1 2 1 2 0 0 0 1 2 0 1 1 2 1 1 2\n",
      " 2 1 1 0 0 0 2 2 0 2 0 0 2 2 1 1 2 0 1 1 2 1 2 2 2 2 1 0 2 2 0 2 2 2 1 2 2\n",
      " 2 1 1 1 0 1 0 0 1 0 1 0 1 1 0 1 1 0 2 2 1 0 0 2 2 1 0 2 0 1 0 2 0 2 1 1 2\n",
      " 0 2 2 1 1 0 2 1 1 2 0 1 0 1 1 1 2 0 1 2 0 0 2 1 1 0 0 0 1 2 1 2 1 2 2 2 1\n",
      " 2 0 1 2 0 2 0 2]\n"
     ]
    }
   ],
   "source": [
    "print(l)"
   ]
  },
  {
   "cell_type": "code",
   "execution_count": 18,
   "id": "f4d78599",
   "metadata": {},
   "outputs": [],
   "source": [
    "class SVM:\n",
    "    \"\"\"SVM Class, Author : Prateek Narang\"\"\"\n",
    "    def __init__(self,C=1.0):\n",
    "        self.C = C\n",
    "        self.W = 0\n",
    "        self.b = 0\n",
    "        \n",
    "    def hingeLoss(self,W,b,X,Y):\n",
    "        loss  = 0.0\n",
    "        loss += .5*np.dot(W,W.T)\n",
    "        m = X.shape[0]\n",
    "        \n",
    "        for i in range(m):\n",
    "            ti = Y[i]*(np.dot(W,X[i].T)+b)\n",
    "            loss += self.C *max(0,(1-ti))\n",
    "            \n",
    "        return loss[0][0]\n",
    "    \n",
    "    def fit(self,X,Y,batch_size=50,learning_rate=0.001,maxItr=1000):\n",
    "        \n",
    "        no_of_features = X.shape[1]\n",
    "        no_of_samples = X.shape[0]\n",
    "        \n",
    "        n = learning_rate\n",
    "        c = self.C\n",
    "        \n",
    "        #Init the model parameters\n",
    "        W = np.zeros((1,no_of_features))\n",
    "        bias = 0\n",
    "        \n",
    "        #Training from here...\n",
    "        losses = []\n",
    "        \n",
    "        for i in range(maxItr):\n",
    "            #Training Loop\n",
    "            \n",
    "            l = self.hingeLoss(W,bias,X,Y)\n",
    "            losses.append(l)\n",
    "            ids = np.arange(no_of_samples)\n",
    "            np.random.shuffle(ids)\n",
    "            \n",
    "            #Batch Gradient Descent(Paper) with random shuffling\n",
    "            for batch_start in range(0,no_of_samples,batch_size):\n",
    "                #Assume 0 gradient for the batch\n",
    "                gradw = 0\n",
    "                gradb = 0\n",
    "                \n",
    "                #Iterate over all examples in the mini batch\n",
    "                for j in range(batch_start,batch_start+batch_size):\n",
    "                    if j<no_of_samples:\n",
    "                        i = ids[j]\n",
    "                        ti =  Y[i]*(np.dot(W,X[i].T)+bias)\n",
    "                        \n",
    "                        if ti>1:\n",
    "                            gradw += 0\n",
    "                            gradb += 0\n",
    "                        else:\n",
    "                            gradw += c*Y[i]*X[i]\n",
    "                            gradb += c*Y[i]\n",
    "                            \n",
    "                #Gradient for the batch is ready! Update W,B\n",
    "                W = W - n*W + n*gradw\n",
    "                bias = bias + n*gradb\n",
    "                \n",
    "        self.W = W\n",
    "        self.b = bias\n",
    "        return W,bias,losses"
   ]
  },
  {
   "cell_type": "code",
   "execution_count": 19,
   "id": "60d3636e",
   "metadata": {},
   "outputs": [
    {
     "name": "stdout",
     "output_type": "stream",
     "text": [
      "(304, 1200)\n",
      "(304,)\n"
     ]
    }
   ],
   "source": [
    "M = image_data.shape[0]\n",
    "image_data = image_data.reshape((M,-1))\n",
    "print(image_data.shape)\n",
    "print(l.shape)"
   ]
  },
  {
   "cell_type": "code",
   "execution_count": 20,
   "id": "a49ebb71",
   "metadata": {},
   "outputs": [
    {
     "name": "stdout",
     "output_type": "stream",
     "text": [
      "3\n"
     ]
    }
   ],
   "source": [
    "classes = len(np.unique(labels))\n",
    "print(classes)"
   ]
  },
  {
   "cell_type": "code",
   "execution_count": 21,
   "id": "740c366a",
   "metadata": {},
   "outputs": [],
   "source": [
    "def classWiseData(x,y):\n",
    "    data = {}\n",
    "    \n",
    "    for i in range(classes):\n",
    "        data[i] = []\n",
    "        \n",
    "    for i in range(x.shape[0]):\n",
    "        data[y[i]].append(x[i])\n",
    "    \n",
    "    for k in data.keys():\n",
    "        data[k] = np.array(data[k])\n",
    "        \n",
    "    return data"
   ]
  },
  {
   "cell_type": "code",
   "execution_count": 22,
   "id": "5e94bcc0",
   "metadata": {},
   "outputs": [],
   "source": [
    "data = classWiseData(image_data,l)"
   ]
  },
  {
   "cell_type": "code",
   "execution_count": 23,
   "id": "c3657ab4",
   "metadata": {},
   "outputs": [
    {
     "data": {
      "text/plain": [
       "(101, 101, 102)"
      ]
     },
     "execution_count": 23,
     "metadata": {},
     "output_type": "execute_result"
    }
   ],
   "source": [
    "data[0].shape[0],data[1].shape[0],data[2].shape[0]"
   ]
  },
  {
   "cell_type": "code",
   "execution_count": 24,
   "id": "855e3c24",
   "metadata": {},
   "outputs": [],
   "source": [
    "def getDataPairForSVM(d1,d2):\n",
    "    \"\"\"Combines Data of two classes into a single matrix\"\"\"\n",
    "    \n",
    "    l1,l2 = d1.shape[0],d2.shape[0]\n",
    "    \n",
    "    samples = l1+l2\n",
    "    features = d1.shape[1]\n",
    "    \n",
    "    data_pair = np.zeros((samples,features))\n",
    "    data_labels = np.zeros((samples,))\n",
    "    \n",
    "    data_pair[:l1,:] = d1\n",
    "    data_pair[l1:,:] = d2\n",
    "    \n",
    "    data_labels[:l1] = -1\n",
    "    data_labels[l1:] = +1\n",
    "    \n",
    "    return data_pair,data_labels"
   ]
  },
  {
   "cell_type": "code",
   "execution_count": 25,
   "id": "3bbb0dc1",
   "metadata": {},
   "outputs": [],
   "source": [
    "mySVM = SVM()"
   ]
  },
  {
   "cell_type": "code",
   "execution_count": 26,
   "id": "4ff64e05",
   "metadata": {},
   "outputs": [],
   "source": [
    "def trainSVMs(x,y):\n",
    "    \n",
    "    svm_classifiers = {}\n",
    "    for i in range(classes):\n",
    "        svm_classifiers[i] = {}\n",
    "        for j in range(i+1,classes):\n",
    "            xpair,ypair = getDataPairForSVM(data[i],data[j])\n",
    "            wts,b,loss = mySVM.fit(xpair,ypair,learning_rate=0.00001,maxItr=12500)\n",
    "            svm_classifiers[i][j] = (wts,b)\n",
    "            \n",
    "            plt.plot(loss)\n",
    "            plt.show()\n",
    "    \n",
    "    return svm_classifiers"
   ]
  },
  {
   "cell_type": "code",
   "execution_count": 27,
   "id": "adeef1f7",
   "metadata": {},
   "outputs": [],
   "source": [
    "def binaryPredict(x,w,b):\n",
    "    z  = np.dot(x,w.T) + b\n",
    "    if z>=0:\n",
    "        return 1\n",
    "    else:\n",
    "        return -1"
   ]
  },
  {
   "cell_type": "code",
   "execution_count": 28,
   "id": "0ea6a70a",
   "metadata": {},
   "outputs": [],
   "source": [
    "def predict(x):\n",
    "    \n",
    "    count = np.zeros((classes,))\n",
    "    \n",
    "    for i in range(classes):\n",
    "        for j in range(i+1,classes):\n",
    "            w,b = svm_classifiers[i][j]\n",
    "            #Take a majority prediction \n",
    "            z = binaryPredict(x,w,b)\n",
    "            \n",
    "            if(z==1):\n",
    "                count[j] += 1\n",
    "            else:\n",
    "                count[i] += 1\n",
    "    \n",
    "    final_prediction = np.argmax(count)\n",
    "    #print(count)\n",
    "    return final_prediction"
   ]
  },
  {
   "cell_type": "code",
   "execution_count": 29,
   "id": "417037c9",
   "metadata": {},
   "outputs": [],
   "source": [
    "def accuracy(x,y):\n",
    "    \n",
    "    count = 0\n",
    "    for i in range(x.shape[0]):\n",
    "        prediction = predict(x[i])\n",
    "        if(prediction==y[i]):\n",
    "            count += 1\n",
    "            \n",
    "    return count/x.shape[0]"
   ]
  },
  {
   "cell_type": "code",
   "execution_count": 30,
   "id": "0b1c0c3e",
   "metadata": {},
   "outputs": [
    {
     "data": {
      "image/png": "[encoded data removed]",
      "text/plain": [
       "<Figure size 432x288 with 1 Axes>"
      ]
     },
     "metadata": {
      "needs_background": "light"
     },
     "output_type": "display_data"
    },
    {
     "data": {
      "image/png": "[encoded data removed]",
      "text/plain": [
       "<Figure size 432x288 with 1 Axes>"
      ]
     },
     "metadata": {
      "needs_background": "light"
     },
     "output_type": "display_data"
    },
    {
     "data": {
      "image/png": "[encoded data removed]",
      "text/plain": [
       "<Figure size 432x288 with 1 Axes>"
      ]
     },
     "metadata": {
      "needs_background": "light"
     },
     "output_type": "display_data"
    }
   ],
   "source": [
    "svm_classifiers = trainSVMs(image_data,l)"
   ]
  },
  {
   "cell_type": "code",
   "execution_count": 31,
   "id": "04b8af20",
   "metadata": {},
   "outputs": [
    {
     "data": {
      "text/plain": [
       "0.7236842105263158"
      ]
     },
     "execution_count": 31,
     "metadata": {},
     "output_type": "execute_result"
    }
   ],
   "source": [
    "accuracy(image_data,l)"
   ]
  },
  {
   "cell_type": "code",
   "execution_count": 32,
   "id": "7f704578",
   "metadata": {},
   "outputs": [
    {
     "data": {
      "text/html": [
       "<div>\n",
       "<style scoped>\n",
       "    .dataframe tbody tr th:only-of-type {\n",
       "        vertical-align: middle;\n",
       "    }\n",
       "\n",
       "    .dataframe tbody tr th {\n",
       "        vertical-align: top;\n",
       "    }\n",
       "\n",
       "    .dataframe thead th {\n",
       "        text-align: right;\n",
       "    }\n",
       "</style>\n",
       "<table border=\"1\" class=\"dataframe\">\n",
       "  <thead>\n",
       "    <tr style=\"text-align: right;\">\n",
       "      <th></th>\n",
       "      <th>ImageId</th>\n",
       "    </tr>\n",
       "  </thead>\n",
       "  <tbody>\n",
       "    <tr>\n",
       "      <th>0</th>\n",
       "      <td>1106.jpg</td>\n",
       "    </tr>\n",
       "    <tr>\n",
       "      <th>1</th>\n",
       "      <td>2236.jpg</td>\n",
       "    </tr>\n",
       "    <tr>\n",
       "      <th>2</th>\n",
       "      <td>1131.jpg</td>\n",
       "    </tr>\n",
       "    <tr>\n",
       "      <th>3</th>\n",
       "      <td>2221.jpg</td>\n",
       "    </tr>\n",
       "    <tr>\n",
       "      <th>4</th>\n",
       "      <td>2011.jpg</td>\n",
       "    </tr>\n",
       "  </tbody>\n",
       "</table>\n",
       "</div>"
      ],
      "text/plain": [
       "    ImageId\n",
       "0  1106.jpg\n",
       "1  2236.jpg\n",
       "2  1131.jpg\n",
       "3  2221.jpg\n",
       "4  2011.jpg"
      ]
     },
     "execution_count": 32,
     "metadata": {},
     "output_type": "execute_result"
    }
   ],
   "source": [
    "X_test = pd.read_csv('test.csv')\n",
    "X_test.head()"
   ]
  },
  {
   "cell_type": "code",
   "execution_count": 36,
   "id": "f4341e4e",
   "metadata": {},
   "outputs": [
    {
     "name": "stdout",
     "output_type": "stream",
     "text": [
      "['1106.jpg' '2236.jpg' '1131.jpg' '2221.jpg' '2011.jpg' '2030.jpg'\n",
      " '2035.jpg' '1110.jpg' '1104.jpg' '2217.jpg' '1111.jpg' '1100.jpg'\n",
      " '1112.jpg' '1138.jpg' '2238.jpg' '2009.jpg' '2225.jpg' '2240.jpg'\n",
      " '2020.jpg' '2209.jpg' '2029.jpg' '1114.jpg' '2201.jpg' '1118.jpg'\n",
      " '2025.jpg' '2202.jpg' '1117.jpg' '1119.jpg' '2000.jpg' '2007.jpg'\n",
      " '2039.jpg' '2017.jpg' '2215.jpg' '1120.jpg' '2006.jpg' '1116.jpg'\n",
      " '1128.jpg' '1125.jpg' '2203.jpg' '1133.jpg' '1137.jpg' '2220.jpg'\n",
      " '2012.jpg' '2224.jpg' '2206.jpg' '1122.jpg' '2223.jpg' '1102.jpg'\n",
      " '2234.jpg' '2216.jpg' '2016.jpg' '2227.jpg' '2013.jpg' '1113.jpg'\n",
      " '2204.jpg' '1101.jpg' '2208.jpg' '2024.jpg' '2031.jpg' '2222.jpg'\n",
      " '2211.jpg' '2033.jpg' '2213.jpg' '2231.jpg' '2001.jpg' '2040.jpg'\n",
      " '1127.jpg' '2023.jpg' '2015.jpg' '1121.jpg' '2232.jpg' '1139.jpg'\n",
      " '1103.jpg' '2018.jpg' '2233.jpg' '2212.jpg' '2210.jpg' '2228.jpg'\n",
      " '2026.jpg' '1132.jpg' '2003.jpg' '1129.jpg' '2214.jpg' '1123.jpg'\n",
      " '2004.jpg' '1136.jpg' '1140.jpg' '2226.jpg' '2230.jpg' '1135.jpg'\n",
      " '1105.jpg' '2237.jpg' '1109.jpg' '2022.jpg' '2005.jpg' '2218.jpg'\n",
      " '2036.jpg' '1115.jpg' '2032.jpg' '2200.jpg' '1134.jpg' '1130.jpg'\n",
      " '1107.jpg' '2034.jpg' '2205.jpg' '2008.jpg' '2027.jpg' '2028.jpg'\n",
      " '2239.jpg' '1108.jpg' '2010.jpg' '2229.jpg' '2219.jpg' '2019.jpg'\n",
      " '2207.jpg' '2002.jpg' '2037.jpg' '2038.jpg' '1124.jpg' '2014.jpg'\n",
      " '2235.jpg' '1126.jpg' '2021.jpg']\n"
     ]
    }
   ],
   "source": [
    "# X_test = X_test.values\n",
    "X_test = X_test.reshape((-1,))\n",
    "print(X_test)"
   ]
  },
  {
   "cell_type": "code",
   "execution_count": 37,
   "id": "56b6bd98",
   "metadata": {},
   "outputs": [
    {
     "data": {
      "text/plain": [
       "(123,)"
      ]
     },
     "execution_count": 37,
     "metadata": {},
     "output_type": "execute_result"
    }
   ],
   "source": [
    "X_test.shape"
   ]
  },
  {
   "cell_type": "code",
   "execution_count": 39,
   "id": "b1a793fd",
   "metadata": {},
   "outputs": [],
   "source": [
    "test_data = []\n",
    "for i in range(X_test.shape[0]):\n",
    "    filename = \"Images_test/\" + X_test[i]\n",
    "    img = image.load_img(filename,target_size=(20,20))\n",
    "    img_array = image.img_to_array(img)\n",
    "    test_data.append(img_array)"
   ]
  },
  {
   "cell_type": "code",
   "execution_count": 40,
   "id": "ad74a719",
   "metadata": {},
   "outputs": [],
   "source": [
    "test_data = np.array(test_data)"
   ]
  },
  {
   "cell_type": "code",
   "execution_count": 41,
   "id": "0bb79117",
   "metadata": {},
   "outputs": [
    {
     "data": {
      "text/plain": [
       "(123, 20, 20, 3)"
      ]
     },
     "execution_count": 41,
     "metadata": {},
     "output_type": "execute_result"
    }
   ],
   "source": [
    "test_data.shape"
   ]
  },
  {
   "cell_type": "code",
   "execution_count": 42,
   "id": "29b81532",
   "metadata": {},
   "outputs": [
    {
     "name": "stdout",
     "output_type": "stream",
     "text": [
      "(123, 1200)\n"
     ]
    }
   ],
   "source": [
    "m = test_data.shape[0]\n",
    "test_data = test_data.reshape((m,-1))\n",
    "print(test_data.shape)"
   ]
  },
  {
   "cell_type": "code",
   "execution_count": 50,
   "id": "6cb550e5",
   "metadata": {},
   "outputs": [],
   "source": [
    "d = {0:'Pikachu',1:'Bulbasaur',2:'Charmander'}\n",
    "Y_test = []\n",
    "for i in range(m):\n",
    "    prediction = predict(test_data[i])\n",
    "    Y_test.append(d[prediction])"
   ]
  },
  {
   "cell_type": "code",
   "execution_count": 51,
   "id": "c69abbc7",
   "metadata": {},
   "outputs": [
    {
     "data": {
      "text/plain": [
       "123"
      ]
     },
     "execution_count": 51,
     "metadata": {},
     "output_type": "execute_result"
    }
   ],
   "source": [
    "len(Y_test)"
   ]
  },
  {
   "cell_type": "code",
   "execution_count": 52,
   "id": "8fc82b32",
   "metadata": {},
   "outputs": [
    {
     "name": "stdout",
     "output_type": "stream",
     "text": [
      "['Bulbasaur', 'Charmander', 'Bulbasaur', 'Charmander', 'Pikachu', 'Pikachu', 'Charmander', 'Bulbasaur', 'Bulbasaur', 'Charmander', 'Pikachu', 'Pikachu', 'Charmander', 'Bulbasaur', 'Charmander', 'Bulbasaur', 'Charmander', 'Charmander', 'Pikachu', 'Charmander', 'Pikachu', 'Bulbasaur', 'Charmander', 'Bulbasaur', 'Charmander', 'Charmander', 'Bulbasaur', 'Bulbasaur', 'Pikachu', 'Pikachu', 'Pikachu', 'Charmander', 'Charmander', 'Pikachu', 'Charmander', 'Pikachu', 'Pikachu', 'Bulbasaur', 'Charmander', 'Bulbasaur', 'Bulbasaur', 'Charmander', 'Pikachu', 'Pikachu', 'Charmander', 'Bulbasaur', 'Charmander', 'Bulbasaur', 'Charmander', 'Charmander', 'Pikachu', 'Pikachu', 'Pikachu', 'Pikachu', 'Charmander', 'Bulbasaur', 'Charmander', 'Pikachu', 'Pikachu', 'Charmander', 'Charmander', 'Pikachu', 'Charmander', 'Bulbasaur', 'Pikachu', 'Pikachu', 'Pikachu', 'Charmander', 'Charmander', 'Bulbasaur', 'Charmander', 'Pikachu', 'Bulbasaur', 'Pikachu', 'Charmander', 'Charmander', 'Charmander', 'Charmander', 'Pikachu', 'Bulbasaur', 'Pikachu', 'Bulbasaur', 'Charmander', 'Bulbasaur', 'Charmander', 'Bulbasaur', 'Bulbasaur', 'Charmander', 'Charmander', 'Bulbasaur', 'Bulbasaur', 'Bulbasaur', 'Bulbasaur', 'Pikachu', 'Pikachu', 'Charmander', 'Pikachu', 'Bulbasaur', 'Pikachu', 'Charmander', 'Bulbasaur', 'Bulbasaur', 'Bulbasaur', 'Pikachu', 'Charmander', 'Pikachu', 'Pikachu', 'Pikachu', 'Charmander', 'Bulbasaur', 'Pikachu', 'Charmander', 'Charmander', 'Charmander', 'Charmander', 'Pikachu', 'Pikachu', 'Pikachu', 'Bulbasaur', 'Pikachu', 'Charmander', 'Bulbasaur', 'Pikachu']\n"
     ]
    }
   ],
   "source": [
    "print(Y_test)"
   ]
  },
  {
   "cell_type": "code",
   "execution_count": 53,
   "id": "0d4962c1",
   "metadata": {},
   "outputs": [],
   "source": [
    "Y_test = np.array(Y_test)"
   ]
  },
  {
   "cell_type": "code",
   "execution_count": 54,
   "id": "513a394d",
   "metadata": {},
   "outputs": [],
   "source": [
    "Y_test = Y_test.reshape((-1,1))\n",
    "X_test = X_test.reshape((-1,1))"
   ]
  },
  {
   "cell_type": "code",
   "execution_count": 55,
   "id": "60a32478",
   "metadata": {},
   "outputs": [],
   "source": [
    "test_result = np.hstack((X_test,Y_test))"
   ]
  },
  {
   "cell_type": "code",
   "execution_count": 56,
   "id": "87de188a",
   "metadata": {},
   "outputs": [],
   "source": [
    "df = pd.DataFrame(test_result,columns = [\"ImageId\",\"NameOfPokemon\"])"
   ]
  },
  {
   "cell_type": "code",
   "execution_count": 57,
   "id": "fd00b06f",
   "metadata": {},
   "outputs": [
    {
     "data": {
      "text/html": [
       "<div>\n",
       "<style scoped>\n",
       "    .dataframe tbody tr th:only-of-type {\n",
       "        vertical-align: middle;\n",
       "    }\n",
       "\n",
       "    .dataframe tbody tr th {\n",
       "        vertical-align: top;\n",
       "    }\n",
       "\n",
       "    .dataframe thead th {\n",
       "        text-align: right;\n",
       "    }\n",
       "</style>\n",
       "<table border=\"1\" class=\"dataframe\">\n",
       "  <thead>\n",
       "    <tr style=\"text-align: right;\">\n",
       "      <th></th>\n",
       "      <th>ImageId</th>\n",
       "      <th>NameOfPokemon</th>\n",
       "    </tr>\n",
       "  </thead>\n",
       "  <tbody>\n",
       "    <tr>\n",
       "      <th>0</th>\n",
       "      <td>1106.jpg</td>\n",
       "      <td>Bulbasaur</td>\n",
       "    </tr>\n",
       "    <tr>\n",
       "      <th>1</th>\n",
       "      <td>2236.jpg</td>\n",
       "      <td>Charmander</td>\n",
       "    </tr>\n",
       "    <tr>\n",
       "      <th>2</th>\n",
       "      <td>1131.jpg</td>\n",
       "      <td>Bulbasaur</td>\n",
       "    </tr>\n",
       "    <tr>\n",
       "      <th>3</th>\n",
       "      <td>2221.jpg</td>\n",
       "      <td>Charmander</td>\n",
       "    </tr>\n",
       "    <tr>\n",
       "      <th>4</th>\n",
       "      <td>2011.jpg</td>\n",
       "      <td>Pikachu</td>\n",
       "    </tr>\n",
       "    <tr>\n",
       "      <th>5</th>\n",
       "      <td>2030.jpg</td>\n",
       "      <td>Pikachu</td>\n",
       "    </tr>\n",
       "    <tr>\n",
       "      <th>6</th>\n",
       "      <td>2035.jpg</td>\n",
       "      <td>Charmander</td>\n",
       "    </tr>\n",
       "    <tr>\n",
       "      <th>7</th>\n",
       "      <td>1110.jpg</td>\n",
       "      <td>Bulbasaur</td>\n",
       "    </tr>\n",
       "    <tr>\n",
       "      <th>8</th>\n",
       "      <td>1104.jpg</td>\n",
       "      <td>Bulbasaur</td>\n",
       "    </tr>\n",
       "    <tr>\n",
       "      <th>9</th>\n",
       "      <td>2217.jpg</td>\n",
       "      <td>Charmander</td>\n",
       "    </tr>\n",
       "  </tbody>\n",
       "</table>\n",
       "</div>"
      ],
      "text/plain": [
       "    ImageId NameOfPokemon\n",
       "0  1106.jpg     Bulbasaur\n",
       "1  2236.jpg    Charmander\n",
       "2  1131.jpg     Bulbasaur\n",
       "3  2221.jpg    Charmander\n",
       "4  2011.jpg       Pikachu\n",
       "5  2030.jpg       Pikachu\n",
       "6  2035.jpg    Charmander\n",
       "7  1110.jpg     Bulbasaur\n",
       "8  1104.jpg     Bulbasaur\n",
       "9  2217.jpg    Charmander"
      ]
     },
     "execution_count": 57,
     "metadata": {},
     "output_type": "execute_result"
    }
   ],
   "source": [
    "df.head(n=10)"
   ]
  },
  {
   "cell_type": "code",
   "execution_count": 58,
   "id": "4ab393dd",
   "metadata": {},
   "outputs": [],
   "source": [
    "df.to_csv(\"Pokemon_prediction.csv\",index = False)"
   ]
  },
  {
   "cell_type": "code",
   "execution_count": null,
   "id": "0a462ece",
   "metadata": {},
   "outputs": [],
   "source": []
  }
 ],
 "metadata": {
  "kernelspec": {
   "display_name": "Python 3 (ipykernel)",
   "language": "python",
   "name": "python3"
  },
  "language_info": {
   "codemirror_mode": {
    "name": "ipython",
    "version": 3
   },
   "file_extension": ".py",
   "mimetype": "text/x-python",
   "name": "python",
   "nbconvert_exporter": "python",
   "pygments_lexer": "ipython3",
   "version": "3.9.9"
  }
 },
 "nbformat": 4,
 "nbformat_minor": 5
}
