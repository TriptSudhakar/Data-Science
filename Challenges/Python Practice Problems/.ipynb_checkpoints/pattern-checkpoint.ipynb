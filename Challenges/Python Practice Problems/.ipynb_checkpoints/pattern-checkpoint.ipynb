{
 "cells": [
  {
   "cell_type": "code",
   "execution_count": 1,
   "id": "bb6b872d",
   "metadata": {},
   "outputs": [],
   "source": [
    "def pattern(n):\n",
    "    for i in range (1,n+1):\n",
    "        for j in range (1,n-i+2):\n",
    "            print(j,end = \" \")\n",
    "        if i>1:\n",
    "            for j in range (0,2*i-3):\n",
    "                print(\"*\",end = \" \")\n",
    "        print()"
   ]
  },
  {
   "cell_type": "code",
   "execution_count": 2,
   "id": "31fac1c9",
   "metadata": {},
   "outputs": [
    {
     "name": "stdout",
     "output_type": "stream",
     "text": [
      "9\n",
      "1 2 3 4 5 6 7 8 9 \n",
      "1 2 3 4 5 6 7 8 * \n",
      "1 2 3 4 5 6 7 * * * \n",
      "1 2 3 4 5 6 * * * * * \n",
      "1 2 3 4 5 * * * * * * * \n",
      "1 2 3 4 * * * * * * * * * \n",
      "1 2 3 * * * * * * * * * * * \n",
      "1 2 * * * * * * * * * * * * * \n",
      "1 * * * * * * * * * * * * * * * \n"
     ]
    }
   ],
   "source": [
    "n = int(input())\n",
    "pattern(n)"
   ]
  }
 ],
 "metadata": {
  "kernelspec": {
   "display_name": "Python 3 (ipykernel)",
   "language": "python",
   "name": "python3"
  },
  "language_info": {
   "codemirror_mode": {
    "name": "ipython",
    "version": 3
   },
   "file_extension": ".py",
   "mimetype": "text/x-python",
   "name": "python",
   "nbconvert_exporter": "python",
   "pygments_lexer": "ipython3",
   "version": "3.9.9"
  }
 },
 "nbformat": 4,
 "nbformat_minor": 5
}
