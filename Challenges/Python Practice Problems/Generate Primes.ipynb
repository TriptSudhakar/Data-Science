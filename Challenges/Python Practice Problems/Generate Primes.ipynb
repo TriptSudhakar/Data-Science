{
 "cells": [
  {
   "cell_type": "code",
   "execution_count": 1,
   "id": "59ba239c",
   "metadata": {},
   "outputs": [
    {
     "name": "stdout",
     "output_type": "stream",
     "text": [
      "2\n",
      "1 10\n",
      "2 3 5 7 \n",
      "3 5\n",
      "3 5 \n"
     ]
    }
   ],
   "source": [
    "t = int(input())\n",
    "for t in range (0,t):\n",
    "    inp = input().split()\n",
    "    m = int(inp[0])\n",
    "    n = int(inp[1])\n",
    "    l = []\n",
    "    l.append(0)\n",
    "    l.append(0)\n",
    "    for i in range(2,n+1):\n",
    "        l.append(1)\n",
    "    prime = 2\n",
    "    while prime < n:\n",
    "        mul = n//prime\n",
    "        for j in range(2,mul+1):\n",
    "            if l[j*prime]:\n",
    "                l[j*prime] = 0\n",
    "        prime += 1\n",
    "        while prime < n and l[prime] == 0 :\n",
    "            prime += 1\n",
    "    \n",
    "    for y in range (m,n+1):\n",
    "        if l[y] == 1:\n",
    "            print(y,end = \" \")\n",
    "    print()"
   ]
  },
  {
   "cell_type": "code",
   "execution_count": null,
   "id": "28403029",
   "metadata": {},
   "outputs": [],
   "source": []
  }
 ],
 "metadata": {
  "kernelspec": {
   "display_name": "Python 3 (ipykernel)",
   "language": "python",
   "name": "python3"
  },
  "language_info": {
   "codemirror_mode": {
    "name": "ipython",
    "version": 3
   },
   "file_extension": ".py",
   "mimetype": "text/x-python",
   "name": "python",
   "nbconvert_exporter": "python",
   "pygments_lexer": "ipython3",
   "version": "3.9.9"
  }
 },
 "nbformat": 4,
 "nbformat_minor": 5
}
