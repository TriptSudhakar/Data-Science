{
 "cells": [
  {
   "cell_type": "code",
   "execution_count": 5,
   "id": "ffd4ea25",
   "metadata": {},
   "outputs": [
    {
     "name": "stdout",
     "output_type": "stream",
     "text": [
      "3\n",
      "1\n",
      "(0,1) \n",
      "9\n",
      "(0,3) \n",
      "25\n",
      "(0,5) (3,4) \n"
     ]
    }
   ],
   "source": [
    "import math\n",
    "t = int(input())\n",
    "for x in range(0,t):\n",
    "    n = int(input())\n",
    "    if n<=1:\n",
    "        print(f\"(0,{n})\",end = \" \")\n",
    "        print()\n",
    "        continue\n",
    "    r = math.sqrt(n)\n",
    "    i = 0\n",
    "    temp = None\n",
    "    while i*i <= n//2:\n",
    "        temp = math.sqrt(n - i*i)\n",
    "        if int(temp)**2 == n - i*i:\n",
    "            print(f\"({i},{int(temp)})\",end = \" \")\n",
    "        i+=1\n",
    "    print()"
   ]
  },
  {
   "cell_type": "code",
   "execution_count": null,
   "id": "1088a1ad",
   "metadata": {},
   "outputs": [],
   "source": []
  }
 ],
 "metadata": {
  "kernelspec": {
   "display_name": "Python 3 (ipykernel)",
   "language": "python",
   "name": "python3"
  },
  "language_info": {
   "codemirror_mode": {
    "name": "ipython",
    "version": 3
   },
   "file_extension": ".py",
   "mimetype": "text/x-python",
   "name": "python",
   "nbconvert_exporter": "python",
   "pygments_lexer": "ipython3",
   "version": "3.9.9"
  }
 },
 "nbformat": 4,
 "nbformat_minor": 5
}
