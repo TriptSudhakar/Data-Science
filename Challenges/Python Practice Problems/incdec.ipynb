{
 "cells": [
  {
   "cell_type": "code",
   "execution_count": 2,
   "id": "2bc15d34",
   "metadata": {},
   "outputs": [
    {
     "name": "stdout",
     "output_type": "stream",
     "text": [
      "5\n",
      "5\n",
      "4\n",
      "3\n",
      "2\n",
      "1\n",
      "true\n"
     ]
    }
   ],
   "source": [
    "n = int(input())\n",
    "prev = 0\n",
    "curr = 0\n",
    "asc = True\n",
    "desc = True\n",
    "i = 1\n",
    "while i <= n:\n",
    "    if i == 1:\n",
    "        curr = int(input())\n",
    "    else:\n",
    "        prev = curr\n",
    "        curr = int(input())\n",
    "        if desc:\n",
    "            if not curr < prev:\n",
    "                desc = False\n",
    "        else:\n",
    "            if not prev < curr:\n",
    "                asc = False\n",
    "    i+=1\n",
    "if desc:\n",
    "    print (\"true\")\n",
    "else:\n",
    "    if asc:\n",
    "        print(\"true\")\n",
    "    else:\n",
    "        print(\"false\")"
   ]
  },
  {
   "cell_type": "code",
   "execution_count": null,
   "id": "1f1f75fa",
   "metadata": {},
   "outputs": [],
   "source": []
  }
 ],
 "metadata": {
  "kernelspec": {
   "display_name": "Python 3 (ipykernel)",
   "language": "python",
   "name": "python3"
  },
  "language_info": {
   "codemirror_mode": {
    "name": "ipython",
    "version": 3
   },
   "file_extension": ".py",
   "mimetype": "text/x-python",
   "name": "python",
   "nbconvert_exporter": "python",
   "pygments_lexer": "ipython3",
   "version": "3.9.9"
  }
 },
 "nbformat": 4,
 "nbformat_minor": 5
}
