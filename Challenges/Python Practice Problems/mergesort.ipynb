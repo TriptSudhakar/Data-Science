{
 "cells": [
  {
   "cell_type": "code",
   "execution_count": 1,
   "id": "cfac7fef",
   "metadata": {},
   "outputs": [],
   "source": [
    "def merge (p,q):\n",
    "    S = []\n",
    "    x,y = len(p),len(q)\n",
    "    i = 0\n",
    "    j = 0\n",
    "    while i < x and j < y:\n",
    "        if p[i] == q[j]:\n",
    "            S.append(p[i])\n",
    "            S.append(p[i])\n",
    "            i += 1\n",
    "            j += 1\n",
    "        elif p[i]>q[j]:\n",
    "            S.append(q[j])\n",
    "            j += 1\n",
    "        else:\n",
    "            S.append(p[i])\n",
    "            i += 1\n",
    "    if j < y and i == x:\n",
    "        while j < y:\n",
    "            S.append(q[j])\n",
    "            j += 1\n",
    "    if i < x and j == y:\n",
    "        while i < x:\n",
    "            S.append(p[i])\n",
    "            i += 1\n",
    "    return S"
   ]
  },
  {
   "cell_type": "code",
   "execution_count": 2,
   "id": "acc01559",
   "metadata": {},
   "outputs": [],
   "source": [
    "def mergesort(l):\n",
    "    if len(l) == 1:\n",
    "        return l\n",
    "    else:\n",
    "        n = len(l)\n",
    "        l1 = mergesort(l[0:n//2])\n",
    "        l2 = mergesort(l[n//2:n])\n",
    "        return merge(l1,l2)"
   ]
  },
  {
   "cell_type": "code",
   "execution_count": 4,
   "id": "da20a73b",
   "metadata": {},
   "outputs": [
    {
     "name": "stdout",
     "output_type": "stream",
     "text": [
      "6\n",
      "2 8 7 3 1 4\n",
      "[1, 2, 3, 4, 7, 8]\n"
     ]
    }
   ],
   "source": [
    "n = int(input())\n",
    "L = input().split()\n",
    "Array = [int(x) for x in L]\n",
    "print(mergesort(Array))"
   ]
  },
  {
   "cell_type": "code",
   "execution_count": null,
   "id": "529b4948",
   "metadata": {},
   "outputs": [],
   "source": []
  }
 ],
 "metadata": {
  "kernelspec": {
   "display_name": "Python 3 (ipykernel)",
   "language": "python",
   "name": "python3"
  },
  "language_info": {
   "codemirror_mode": {
    "name": "ipython",
    "version": 3
   },
   "file_extension": ".py",
   "mimetype": "text/x-python",
   "name": "python",
   "nbconvert_exporter": "python",
   "pygments_lexer": "ipython3",
   "version": "3.9.9"
  }
 },
 "nbformat": 4,
 "nbformat_minor": 5
}
