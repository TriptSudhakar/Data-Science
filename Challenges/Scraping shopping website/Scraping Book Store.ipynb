{
 "cells": [
  {
   "cell_type": "code",
   "execution_count": 1,
   "id": "b227b86e",
   "metadata": {},
   "outputs": [
    {
     "name": "stdout",
     "output_type": "stream",
     "text": [
      "New Scrapy project 'book_store', using template directory 'C:\\Users\\DELL INDIA\\AppData\\Local\\Programs\\Python\\Python39\\lib\\site-packages\\scrapy\\templates\\project', created in:\n",
      "    C:\\Users\\DELL INDIA\\Desktop\\Coding\\Jupyter\\Scraping shopping website\\book_store\n",
      "\n",
      "You can start your first spider with:\n",
      "    cd book_store\n",
      "    scrapy genspider example example.com\n"
     ]
    }
   ],
   "source": [
    "!scrapy startproject book_store "
   ]
  },
  {
   "cell_type": "code",
   "execution_count": null,
   "id": "9123a324",
   "metadata": {},
   "outputs": [],
   "source": []
  }
 ],
 "metadata": {
  "kernelspec": {
   "display_name": "Python 3 (ipykernel)",
   "language": "python",
   "name": "python3"
  },
  "language_info": {
   "codemirror_mode": {
    "name": "ipython",
    "version": 3
   },
   "file_extension": ".py",
   "mimetype": "text/x-python",
   "name": "python",
   "nbconvert_exporter": "python",
   "pygments_lexer": "ipython3",
   "version": "3.9.9"
  }
 },
 "nbformat": 4,
 "nbformat_minor": 5
}
