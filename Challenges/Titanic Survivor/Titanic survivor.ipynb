{
 "cells": [
  {
   "cell_type": "code",
   "execution_count": 1,
   "id": "0d0bb8ab",
   "metadata": {},
   "outputs": [],
   "source": [
    "import numpy as np\n",
    "import pandas as pd\n",
    "import matplotlib.pyplot as plt\n",
    "from sklearn.ensemble import RandomForestClassifier"
   ]
  },
  {
   "cell_type": "code",
   "execution_count": 3,
   "id": "d71607c1",
   "metadata": {},
   "outputs": [],
   "source": [
    "train_data = pd.read_csv(\"Train.csv\")\n",
    "test_data = pd.read_csv(\"Test.csv\")"
   ]
  },
  {
   "cell_type": "code",
   "execution_count": 7,
   "id": "0bcecfd9",
   "metadata": {},
   "outputs": [],
   "source": [
    "input_cols = [\"pclass\",\"sex\",\"age\",\"sibsp\",\"parch\",\"fare\"]\n",
    "output_cols = [\"survived\"]"
   ]
  },
  {
   "cell_type": "code",
   "execution_count": 8,
   "id": "3468c8c0",
   "metadata": {},
   "outputs": [
    {
     "data": {
      "text/html": [
       "<div>\n",
       "<style scoped>\n",
       "    .dataframe tbody tr th:only-of-type {\n",
       "        vertical-align: middle;\n",
       "    }\n",
       "\n",
       "    .dataframe tbody tr th {\n",
       "        vertical-align: top;\n",
       "    }\n",
       "\n",
       "    .dataframe thead th {\n",
       "        text-align: right;\n",
       "    }\n",
       "</style>\n",
       "<table border=\"1\" class=\"dataframe\">\n",
       "  <thead>\n",
       "    <tr style=\"text-align: right;\">\n",
       "      <th></th>\n",
       "      <th>pclass</th>\n",
       "      <th>survived</th>\n",
       "      <th>name</th>\n",
       "      <th>sex</th>\n",
       "      <th>age</th>\n",
       "      <th>sibsp</th>\n",
       "      <th>parch</th>\n",
       "      <th>ticket</th>\n",
       "      <th>fare</th>\n",
       "      <th>cabin</th>\n",
       "      <th>embarked</th>\n",
       "      <th>boat</th>\n",
       "      <th>body</th>\n",
       "      <th>home.dest</th>\n",
       "    </tr>\n",
       "  </thead>\n",
       "  <tbody>\n",
       "    <tr>\n",
       "      <th>0</th>\n",
       "      <td>3.0</td>\n",
       "      <td>0.0</td>\n",
       "      <td>O'Donoghue, Ms. Bridget</td>\n",
       "      <td>female</td>\n",
       "      <td>NaN</td>\n",
       "      <td>0.0</td>\n",
       "      <td>0.0</td>\n",
       "      <td>364856</td>\n",
       "      <td>7.750</td>\n",
       "      <td>NaN</td>\n",
       "      <td>Q</td>\n",
       "      <td>NaN</td>\n",
       "      <td>NaN</td>\n",
       "      <td>NaN</td>\n",
       "    </tr>\n",
       "    <tr>\n",
       "      <th>1</th>\n",
       "      <td>2.0</td>\n",
       "      <td>0.0</td>\n",
       "      <td>Morley, Mr. Henry Samuel (\"Mr Henry Marshall\")</td>\n",
       "      <td>male</td>\n",
       "      <td>39.0</td>\n",
       "      <td>0.0</td>\n",
       "      <td>0.0</td>\n",
       "      <td>250655</td>\n",
       "      <td>26.000</td>\n",
       "      <td>NaN</td>\n",
       "      <td>S</td>\n",
       "      <td>NaN</td>\n",
       "      <td>NaN</td>\n",
       "      <td>NaN</td>\n",
       "    </tr>\n",
       "    <tr>\n",
       "      <th>2</th>\n",
       "      <td>2.0</td>\n",
       "      <td>1.0</td>\n",
       "      <td>Smith, Miss. Marion Elsie</td>\n",
       "      <td>female</td>\n",
       "      <td>40.0</td>\n",
       "      <td>0.0</td>\n",
       "      <td>0.0</td>\n",
       "      <td>31418</td>\n",
       "      <td>13.000</td>\n",
       "      <td>NaN</td>\n",
       "      <td>S</td>\n",
       "      <td>9</td>\n",
       "      <td>NaN</td>\n",
       "      <td>NaN</td>\n",
       "    </tr>\n",
       "    <tr>\n",
       "      <th>3</th>\n",
       "      <td>3.0</td>\n",
       "      <td>1.0</td>\n",
       "      <td>Goldsmith, Mrs. Frank John (Emily Alice Brown)</td>\n",
       "      <td>female</td>\n",
       "      <td>31.0</td>\n",
       "      <td>1.0</td>\n",
       "      <td>1.0</td>\n",
       "      <td>363291</td>\n",
       "      <td>20.525</td>\n",
       "      <td>NaN</td>\n",
       "      <td>S</td>\n",
       "      <td>C D</td>\n",
       "      <td>NaN</td>\n",
       "      <td>Strood, Kent, England Detroit, MI</td>\n",
       "    </tr>\n",
       "    <tr>\n",
       "      <th>4</th>\n",
       "      <td>3.0</td>\n",
       "      <td>1.0</td>\n",
       "      <td>McCoy, Miss. Agnes</td>\n",
       "      <td>female</td>\n",
       "      <td>NaN</td>\n",
       "      <td>2.0</td>\n",
       "      <td>0.0</td>\n",
       "      <td>367226</td>\n",
       "      <td>23.250</td>\n",
       "      <td>NaN</td>\n",
       "      <td>Q</td>\n",
       "      <td>16</td>\n",
       "      <td>NaN</td>\n",
       "      <td>NaN</td>\n",
       "    </tr>\n",
       "  </tbody>\n",
       "</table>\n",
       "</div>"
      ],
      "text/plain": [
       "   pclass  survived                                            name     sex  \\\n",
       "0     3.0       0.0                         O'Donoghue, Ms. Bridget  female   \n",
       "1     2.0       0.0  Morley, Mr. Henry Samuel (\"Mr Henry Marshall\")    male   \n",
       "2     2.0       1.0                       Smith, Miss. Marion Elsie  female   \n",
       "3     3.0       1.0  Goldsmith, Mrs. Frank John (Emily Alice Brown)  female   \n",
       "4     3.0       1.0                              McCoy, Miss. Agnes  female   \n",
       "\n",
       "    age  sibsp  parch  ticket    fare cabin embarked boat  body  \\\n",
       "0   NaN    0.0    0.0  364856   7.750   NaN        Q  NaN   NaN   \n",
       "1  39.0    0.0    0.0  250655  26.000   NaN        S  NaN   NaN   \n",
       "2  40.0    0.0    0.0   31418  13.000   NaN        S    9   NaN   \n",
       "3  31.0    1.0    1.0  363291  20.525   NaN        S  C D   NaN   \n",
       "4   NaN    2.0    0.0  367226  23.250   NaN        Q   16   NaN   \n",
       "\n",
       "                           home.dest  \n",
       "0                                NaN  \n",
       "1                                NaN  \n",
       "2                                NaN  \n",
       "3  Strood, Kent, England Detroit, MI  \n",
       "4                                NaN  "
      ]
     },
     "execution_count": 8,
     "metadata": {},
     "output_type": "execute_result"
    }
   ],
   "source": [
    "train_data.head()"
   ]
  },
  {
   "cell_type": "code",
   "execution_count": 9,
   "id": "6d38dd04",
   "metadata": {},
   "outputs": [],
   "source": [
    "X_train = train_data[input_cols]\n",
    "Y_train = train_data[output_cols]\n",
    "X_test = test_data[input_cols]"
   ]
  },
  {
   "cell_type": "code",
   "execution_count": 10,
   "id": "39d0a278",
   "metadata": {},
   "outputs": [
    {
     "name": "stdout",
     "output_type": "stream",
     "text": [
      "<class 'pandas.core.frame.DataFrame'>\n",
      "RangeIndex: 1009 entries, 0 to 1008\n",
      "Data columns (total 6 columns):\n",
      " #   Column  Non-Null Count  Dtype  \n",
      "---  ------  --------------  -----  \n",
      " 0   pclass  1009 non-null   float64\n",
      " 1   sex     1009 non-null   object \n",
      " 2   age     812 non-null    float64\n",
      " 3   sibsp   1009 non-null   float64\n",
      " 4   parch   1009 non-null   float64\n",
      " 5   fare    1008 non-null   float64\n",
      "dtypes: float64(5), object(1)\n",
      "memory usage: 47.4+ KB\n"
     ]
    }
   ],
   "source": [
    "X_train.info()"
   ]
  },
  {
   "cell_type": "code",
   "execution_count": 11,
   "id": "eac3c8fe",
   "metadata": {},
   "outputs": [
    {
     "name": "stdout",
     "output_type": "stream",
     "text": [
      "<class 'pandas.core.frame.DataFrame'>\n",
      "RangeIndex: 300 entries, 0 to 299\n",
      "Data columns (total 6 columns):\n",
      " #   Column  Non-Null Count  Dtype  \n",
      "---  ------  --------------  -----  \n",
      " 0   pclass  300 non-null    float64\n",
      " 1   sex     300 non-null    object \n",
      " 2   age     234 non-null    float64\n",
      " 3   sibsp   300 non-null    float64\n",
      " 4   parch   300 non-null    float64\n",
      " 5   fare    300 non-null    float64\n",
      "dtypes: float64(5), object(1)\n",
      "memory usage: 14.2+ KB\n"
     ]
    }
   ],
   "source": [
    "X_test.info()"
   ]
  },
  {
   "cell_type": "code",
   "execution_count": 13,
   "id": "92708db4",
   "metadata": {},
   "outputs": [],
   "source": [
    "X_train = X_train.fillna(X_train[\"age\"].mean())\n",
    "X_train = X_train.fillna(X_train[\"fare\"].mean())\n",
    "\n",
    "X_test = X_test.fillna(X_test[\"age\"].mean())"
   ]
  },
  {
   "cell_type": "code",
   "execution_count": 14,
   "id": "0edba359",
   "metadata": {},
   "outputs": [
    {
     "data": {
      "text/html": [
       "<div>\n",
       "<style scoped>\n",
       "    .dataframe tbody tr th:only-of-type {\n",
       "        vertical-align: middle;\n",
       "    }\n",
       "\n",
       "    .dataframe tbody tr th {\n",
       "        vertical-align: top;\n",
       "    }\n",
       "\n",
       "    .dataframe thead th {\n",
       "        text-align: right;\n",
       "    }\n",
       "</style>\n",
       "<table border=\"1\" class=\"dataframe\">\n",
       "  <thead>\n",
       "    <tr style=\"text-align: right;\">\n",
       "      <th></th>\n",
       "      <th>survived</th>\n",
       "    </tr>\n",
       "  </thead>\n",
       "  <tbody>\n",
       "    <tr>\n",
       "      <th>0</th>\n",
       "      <td>0.0</td>\n",
       "    </tr>\n",
       "    <tr>\n",
       "      <th>1</th>\n",
       "      <td>0.0</td>\n",
       "    </tr>\n",
       "    <tr>\n",
       "      <th>2</th>\n",
       "      <td>1.0</td>\n",
       "    </tr>\n",
       "    <tr>\n",
       "      <th>3</th>\n",
       "      <td>1.0</td>\n",
       "    </tr>\n",
       "    <tr>\n",
       "      <th>4</th>\n",
       "      <td>1.0</td>\n",
       "    </tr>\n",
       "  </tbody>\n",
       "</table>\n",
       "</div>"
      ],
      "text/plain": [
       "   survived\n",
       "0       0.0\n",
       "1       0.0\n",
       "2       1.0\n",
       "3       1.0\n",
       "4       1.0"
      ]
     },
     "execution_count": 14,
     "metadata": {},
     "output_type": "execute_result"
    }
   ],
   "source": [
    "Y_train.head()"
   ]
  },
  {
   "cell_type": "code",
   "execution_count": 18,
   "id": "df60cf85",
   "metadata": {},
   "outputs": [
    {
     "name": "stdout",
     "output_type": "stream",
     "text": [
      "[0. 0. 1. ... 1. 1. 0.]\n"
     ]
    }
   ],
   "source": [
    "Y_train = np.array(Y_train).reshape((-1,))\n",
    "print(Y_train)"
   ]
  },
  {
   "cell_type": "code",
   "execution_count": 19,
   "id": "dfcdb4a6",
   "metadata": {},
   "outputs": [
    {
     "data": {
      "text/plain": [
       "(1009,)"
      ]
     },
     "execution_count": 19,
     "metadata": {},
     "output_type": "execute_result"
    }
   ],
   "source": [
    "Y_train.shape"
   ]
  },
  {
   "cell_type": "code",
   "execution_count": 20,
   "id": "19bf83d3",
   "metadata": {},
   "outputs": [],
   "source": [
    "rf = RandomForestClassifier(n_estimators=20,criterion='entropy',max_depth = 5)"
   ]
  },
  {
   "cell_type": "code",
   "execution_count": 22,
   "id": "197897be",
   "metadata": {},
   "outputs": [
    {
     "data": {
      "text/html": [
       "<div>\n",
       "<style scoped>\n",
       "    .dataframe tbody tr th:only-of-type {\n",
       "        vertical-align: middle;\n",
       "    }\n",
       "\n",
       "    .dataframe tbody tr th {\n",
       "        vertical-align: top;\n",
       "    }\n",
       "\n",
       "    .dataframe thead th {\n",
       "        text-align: right;\n",
       "    }\n",
       "</style>\n",
       "<table border=\"1\" class=\"dataframe\">\n",
       "  <thead>\n",
       "    <tr style=\"text-align: right;\">\n",
       "      <th></th>\n",
       "      <th>pclass</th>\n",
       "      <th>sex</th>\n",
       "      <th>age</th>\n",
       "      <th>sibsp</th>\n",
       "      <th>parch</th>\n",
       "      <th>fare</th>\n",
       "    </tr>\n",
       "  </thead>\n",
       "  <tbody>\n",
       "    <tr>\n",
       "      <th>0</th>\n",
       "      <td>3.0</td>\n",
       "      <td>female</td>\n",
       "      <td>29.838978</td>\n",
       "      <td>0.0</td>\n",
       "      <td>0.0</td>\n",
       "      <td>7.750</td>\n",
       "    </tr>\n",
       "    <tr>\n",
       "      <th>1</th>\n",
       "      <td>2.0</td>\n",
       "      <td>male</td>\n",
       "      <td>39.000000</td>\n",
       "      <td>0.0</td>\n",
       "      <td>0.0</td>\n",
       "      <td>26.000</td>\n",
       "    </tr>\n",
       "    <tr>\n",
       "      <th>2</th>\n",
       "      <td>2.0</td>\n",
       "      <td>female</td>\n",
       "      <td>40.000000</td>\n",
       "      <td>0.0</td>\n",
       "      <td>0.0</td>\n",
       "      <td>13.000</td>\n",
       "    </tr>\n",
       "    <tr>\n",
       "      <th>3</th>\n",
       "      <td>3.0</td>\n",
       "      <td>female</td>\n",
       "      <td>31.000000</td>\n",
       "      <td>1.0</td>\n",
       "      <td>1.0</td>\n",
       "      <td>20.525</td>\n",
       "    </tr>\n",
       "    <tr>\n",
       "      <th>4</th>\n",
       "      <td>3.0</td>\n",
       "      <td>female</td>\n",
       "      <td>29.838978</td>\n",
       "      <td>2.0</td>\n",
       "      <td>0.0</td>\n",
       "      <td>23.250</td>\n",
       "    </tr>\n",
       "  </tbody>\n",
       "</table>\n",
       "</div>"
      ],
      "text/plain": [
       "   pclass     sex        age  sibsp  parch    fare\n",
       "0     3.0  female  29.838978    0.0    0.0   7.750\n",
       "1     2.0    male  39.000000    0.0    0.0  26.000\n",
       "2     2.0  female  40.000000    0.0    0.0  13.000\n",
       "3     3.0  female  31.000000    1.0    1.0  20.525\n",
       "4     3.0  female  29.838978    2.0    0.0  23.250"
      ]
     },
     "execution_count": 22,
     "metadata": {},
     "output_type": "execute_result"
    }
   ],
   "source": [
    "X_train.head()"
   ]
  },
  {
   "cell_type": "code",
   "execution_count": 25,
   "id": "f3b27fd9",
   "metadata": {},
   "outputs": [],
   "source": [
    "from sklearn.preprocessing import LabelEncoder\n",
    "le = LabelEncoder()\n",
    "X_train[\"sex\"] = le.fit_transform(X_train[\"sex\"])\n",
    "X_test[\"sex\"] = le.transform(X_test[\"sex\"])"
   ]
  },
  {
   "cell_type": "code",
   "execution_count": 26,
   "id": "3c0154f4",
   "metadata": {},
   "outputs": [
    {
     "name": "stdout",
     "output_type": "stream",
     "text": [
      "<class 'pandas.core.frame.DataFrame'>\n",
      "RangeIndex: 1009 entries, 0 to 1008\n",
      "Data columns (total 6 columns):\n",
      " #   Column  Non-Null Count  Dtype  \n",
      "---  ------  --------------  -----  \n",
      " 0   pclass  1009 non-null   float64\n",
      " 1   sex     1009 non-null   int32  \n",
      " 2   age     1009 non-null   float64\n",
      " 3   sibsp   1009 non-null   float64\n",
      " 4   parch   1009 non-null   float64\n",
      " 5   fare    1009 non-null   float64\n",
      "dtypes: float64(5), int32(1)\n",
      "memory usage: 43.5 KB\n",
      "<class 'pandas.core.frame.DataFrame'>\n",
      "RangeIndex: 300 entries, 0 to 299\n",
      "Data columns (total 6 columns):\n",
      " #   Column  Non-Null Count  Dtype  \n",
      "---  ------  --------------  -----  \n",
      " 0   pclass  300 non-null    float64\n",
      " 1   sex     300 non-null    int32  \n",
      " 2   age     300 non-null    float64\n",
      " 3   sibsp   300 non-null    float64\n",
      " 4   parch   300 non-null    float64\n",
      " 5   fare    300 non-null    float64\n",
      "dtypes: float64(5), int32(1)\n",
      "memory usage: 13.0 KB\n"
     ]
    },
    {
     "data": {
      "text/plain": [
       "(None, None)"
      ]
     },
     "execution_count": 26,
     "metadata": {},
     "output_type": "execute_result"
    }
   ],
   "source": [
    "X_train.info(),X_test.info()"
   ]
  },
  {
   "cell_type": "code",
   "execution_count": 27,
   "id": "debb50ca",
   "metadata": {},
   "outputs": [
    {
     "data": {
      "text/html": [
       "<style>#sk-container-id-1 {color: black;background-color: white;}#sk-container-id-1 pre{padding: 0;}#sk-container-id-1 div.sk-toggleable {background-color: white;}#sk-container-id-1 label.sk-toggleable__label {cursor: pointer;display: block;width: 100%;margin-bottom: 0;padding: 0.3em;box-sizing: border-box;text-align: center;}#sk-container-id-1 label.sk-toggleable__label-arrow:before {content: \"▸\";float: left;margin-right: 0.25em;color: #696969;}#sk-container-id-1 label.sk-toggleable__label-arrow:hover:before {color: black;}#sk-container-id-1 div.sk-estimator:hover label.sk-toggleable__label-arrow:before {color: black;}#sk-container-id-1 div.sk-toggleable__content {max-height: 0;max-width: 0;overflow: hidden;text-align: left;background-color: #f0f8ff;}#sk-container-id-1 div.sk-toggleable__content pre {margin: 0.2em;color: black;border-radius: 0.25em;background-color: #f0f8ff;}#sk-container-id-1 input.sk-toggleable__control:checked~div.sk-toggleable__content {max-height: 200px;max-width: 100%;overflow: auto;}#sk-container-id-1 input.sk-toggleable__control:checked~label.sk-toggleable__label-arrow:before {content: \"▾\";}#sk-container-id-1 div.sk-estimator input.sk-toggleable__control:checked~label.sk-toggleable__label {background-color: #d4ebff;}#sk-container-id-1 div.sk-label input.sk-toggleable__control:checked~label.sk-toggleable__label {background-color: #d4ebff;}#sk-container-id-1 input.sk-hidden--visually {border: 0;clip: rect(1px 1px 1px 1px);clip: rect(1px, 1px, 1px, 1px);height: 1px;margin: -1px;overflow: hidden;padding: 0;position: absolute;width: 1px;}#sk-container-id-1 div.sk-estimator {font-family: monospace;background-color: #f0f8ff;border: 1px dotted black;border-radius: 0.25em;box-sizing: border-box;margin-bottom: 0.5em;}#sk-container-id-1 div.sk-estimator:hover {background-color: #d4ebff;}#sk-container-id-1 div.sk-parallel-item::after {content: \"\";width: 100%;border-bottom: 1px solid gray;flex-grow: 1;}#sk-container-id-1 div.sk-label:hover label.sk-toggleable__label {background-color: #d4ebff;}#sk-container-id-1 div.sk-serial::before {content: \"\";position: absolute;border-left: 1px solid gray;box-sizing: border-box;top: 0;bottom: 0;left: 50%;z-index: 0;}#sk-container-id-1 div.sk-serial {display: flex;flex-direction: column;align-items: center;background-color: white;padding-right: 0.2em;padding-left: 0.2em;position: relative;}#sk-container-id-1 div.sk-item {position: relative;z-index: 1;}#sk-container-id-1 div.sk-parallel {display: flex;align-items: stretch;justify-content: center;background-color: white;position: relative;}#sk-container-id-1 div.sk-item::before, #sk-container-id-1 div.sk-parallel-item::before {content: \"\";position: absolute;border-left: 1px solid gray;box-sizing: border-box;top: 0;bottom: 0;left: 50%;z-index: -1;}#sk-container-id-1 div.sk-parallel-item {display: flex;flex-direction: column;z-index: 1;position: relative;background-color: white;}#sk-container-id-1 div.sk-parallel-item:first-child::after {align-self: flex-end;width: 50%;}#sk-container-id-1 div.sk-parallel-item:last-child::after {align-self: flex-start;width: 50%;}#sk-container-id-1 div.sk-parallel-item:only-child::after {width: 0;}#sk-container-id-1 div.sk-dashed-wrapped {border: 1px dashed gray;margin: 0 0.4em 0.5em 0.4em;box-sizing: border-box;padding-bottom: 0.4em;background-color: white;}#sk-container-id-1 div.sk-label label {font-family: monospace;font-weight: bold;display: inline-block;line-height: 1.2em;}#sk-container-id-1 div.sk-label-container {text-align: center;}#sk-container-id-1 div.sk-container {/* jupyter's `normalize.less` sets `[hidden] { display: none; }` but bootstrap.min.css set `[hidden] { display: none !important; }` so we also need the `!important` here to be able to override the default hidden behavior on the sphinx rendered scikit-learn.org. See: https://github.com/scikit-learn/scikit-learn/issues/21755 */display: inline-block !important;position: relative;}#sk-container-id-1 div.sk-text-repr-fallback {display: none;}</style><div id=\"sk-container-id-1\" class=\"sk-top-container\"><div class=\"sk-text-repr-fallback\"><pre>RandomForestClassifier(criterion=&#x27;entropy&#x27;, max_depth=5, n_estimators=20)</pre><b>In a Jupyter environment, please rerun this cell to show the HTML representation or trust the notebook. <br />On GitHub, the HTML representation is unable to render, please try loading this page with nbviewer.org.</b></div><div class=\"sk-container\" hidden><div class=\"sk-item\"><div class=\"sk-estimator sk-toggleable\"><input class=\"sk-toggleable__control sk-hidden--visually\" id=\"sk-estimator-id-1\" type=\"checkbox\" checked><label for=\"sk-estimator-id-1\" class=\"sk-toggleable__label sk-toggleable__label-arrow\">RandomForestClassifier</label><div class=\"sk-toggleable__content\"><pre>RandomForestClassifier(criterion=&#x27;entropy&#x27;, max_depth=5, n_estimators=20)</pre></div></div></div></div></div>"
      ],
      "text/plain": [
       "RandomForestClassifier(criterion='entropy', max_depth=5, n_estimators=20)"
      ]
     },
     "execution_count": 27,
     "metadata": {},
     "output_type": "execute_result"
    }
   ],
   "source": [
    "rf.fit(X_train,Y_train)"
   ]
  },
  {
   "cell_type": "code",
   "execution_count": 28,
   "id": "d1ee849f",
   "metadata": {},
   "outputs": [
    {
     "data": {
      "text/plain": [
       "0.8334985133795837"
      ]
     },
     "execution_count": 28,
     "metadata": {},
     "output_type": "execute_result"
    }
   ],
   "source": [
    "rf.score(X_train,Y_train)"
   ]
  },
  {
   "cell_type": "code",
   "execution_count": 34,
   "id": "4529c454",
   "metadata": {},
   "outputs": [],
   "source": [
    "from sklearn.model_selection import cross_val_score\n",
    "l = []\n",
    "for i in range(1,30):\n",
    "    acc = cross_val_score(RandomForestClassifier(n_estimators = i,criterion='entropy',max_depth = 5),X_train,Y_train,cv = 10).mean() \n",
    "    l.append(acc)"
   ]
  },
  {
   "cell_type": "code",
   "execution_count": 35,
   "id": "d161afba",
   "metadata": {},
   "outputs": [
    {
     "data": {
      "image/png": "[encoded data removed]",
      "text/plain": [
       "<Figure size 720x504 with 1 Axes>"
      ]
     },
     "metadata": {},
     "output_type": "display_data"
    }
   ],
   "source": [
    "plt.style.use(\"seaborn\")\n",
    "plt.figure(figsize = (10,7))\n",
    "plt.plot(l)\n",
    "plt.show()"
   ]
  },
  {
   "cell_type": "code",
   "execution_count": 36,
   "id": "c9e4ab48",
   "metadata": {},
   "outputs": [
    {
     "data": {
      "text/plain": [
       "24"
      ]
     },
     "execution_count": 36,
     "metadata": {},
     "output_type": "execute_result"
    }
   ],
   "source": [
    "np.argmax(l)"
   ]
  },
  {
   "cell_type": "code",
   "execution_count": 37,
   "id": "3d97fcbb",
   "metadata": {},
   "outputs": [
    {
     "data": {
      "text/html": [
       "<style>#sk-container-id-2 {color: black;background-color: white;}#sk-container-id-2 pre{padding: 0;}#sk-container-id-2 div.sk-toggleable {background-color: white;}#sk-container-id-2 label.sk-toggleable__label {cursor: pointer;display: block;width: 100%;margin-bottom: 0;padding: 0.3em;box-sizing: border-box;text-align: center;}#sk-container-id-2 label.sk-toggleable__label-arrow:before {content: \"▸\";float: left;margin-right: 0.25em;color: #696969;}#sk-container-id-2 label.sk-toggleable__label-arrow:hover:before {color: black;}#sk-container-id-2 div.sk-estimator:hover label.sk-toggleable__label-arrow:before {color: black;}#sk-container-id-2 div.sk-toggleable__content {max-height: 0;max-width: 0;overflow: hidden;text-align: left;background-color: #f0f8ff;}#sk-container-id-2 div.sk-toggleable__content pre {margin: 0.2em;color: black;border-radius: 0.25em;background-color: #f0f8ff;}#sk-container-id-2 input.sk-toggleable__control:checked~div.sk-toggleable__content {max-height: 200px;max-width: 100%;overflow: auto;}#sk-container-id-2 input.sk-toggleable__control:checked~label.sk-toggleable__label-arrow:before {content: \"▾\";}#sk-container-id-2 div.sk-estimator input.sk-toggleable__control:checked~label.sk-toggleable__label {background-color: #d4ebff;}#sk-container-id-2 div.sk-label input.sk-toggleable__control:checked~label.sk-toggleable__label {background-color: #d4ebff;}#sk-container-id-2 input.sk-hidden--visually {border: 0;clip: rect(1px 1px 1px 1px);clip: rect(1px, 1px, 1px, 1px);height: 1px;margin: -1px;overflow: hidden;padding: 0;position: absolute;width: 1px;}#sk-container-id-2 div.sk-estimator {font-family: monospace;background-color: #f0f8ff;border: 1px dotted black;border-radius: 0.25em;box-sizing: border-box;margin-bottom: 0.5em;}#sk-container-id-2 div.sk-estimator:hover {background-color: #d4ebff;}#sk-container-id-2 div.sk-parallel-item::after {content: \"\";width: 100%;border-bottom: 1px solid gray;flex-grow: 1;}#sk-container-id-2 div.sk-label:hover label.sk-toggleable__label {background-color: #d4ebff;}#sk-container-id-2 div.sk-serial::before {content: \"\";position: absolute;border-left: 1px solid gray;box-sizing: border-box;top: 0;bottom: 0;left: 50%;z-index: 0;}#sk-container-id-2 div.sk-serial {display: flex;flex-direction: column;align-items: center;background-color: white;padding-right: 0.2em;padding-left: 0.2em;position: relative;}#sk-container-id-2 div.sk-item {position: relative;z-index: 1;}#sk-container-id-2 div.sk-parallel {display: flex;align-items: stretch;justify-content: center;background-color: white;position: relative;}#sk-container-id-2 div.sk-item::before, #sk-container-id-2 div.sk-parallel-item::before {content: \"\";position: absolute;border-left: 1px solid gray;box-sizing: border-box;top: 0;bottom: 0;left: 50%;z-index: -1;}#sk-container-id-2 div.sk-parallel-item {display: flex;flex-direction: column;z-index: 1;position: relative;background-color: white;}#sk-container-id-2 div.sk-parallel-item:first-child::after {align-self: flex-end;width: 50%;}#sk-container-id-2 div.sk-parallel-item:last-child::after {align-self: flex-start;width: 50%;}#sk-container-id-2 div.sk-parallel-item:only-child::after {width: 0;}#sk-container-id-2 div.sk-dashed-wrapped {border: 1px dashed gray;margin: 0 0.4em 0.5em 0.4em;box-sizing: border-box;padding-bottom: 0.4em;background-color: white;}#sk-container-id-2 div.sk-label label {font-family: monospace;font-weight: bold;display: inline-block;line-height: 1.2em;}#sk-container-id-2 div.sk-label-container {text-align: center;}#sk-container-id-2 div.sk-container {/* jupyter's `normalize.less` sets `[hidden] { display: none; }` but bootstrap.min.css set `[hidden] { display: none !important; }` so we also need the `!important` here to be able to override the default hidden behavior on the sphinx rendered scikit-learn.org. See: https://github.com/scikit-learn/scikit-learn/issues/21755 */display: inline-block !important;position: relative;}#sk-container-id-2 div.sk-text-repr-fallback {display: none;}</style><div id=\"sk-container-id-2\" class=\"sk-top-container\"><div class=\"sk-text-repr-fallback\"><pre>RandomForestClassifier(criterion=&#x27;entropy&#x27;, max_depth=5, n_estimators=22)</pre><b>In a Jupyter environment, please rerun this cell to show the HTML representation or trust the notebook. <br />On GitHub, the HTML representation is unable to render, please try loading this page with nbviewer.org.</b></div><div class=\"sk-container\" hidden><div class=\"sk-item\"><div class=\"sk-estimator sk-toggleable\"><input class=\"sk-toggleable__control sk-hidden--visually\" id=\"sk-estimator-id-2\" type=\"checkbox\" checked><label for=\"sk-estimator-id-2\" class=\"sk-toggleable__label sk-toggleable__label-arrow\">RandomForestClassifier</label><div class=\"sk-toggleable__content\"><pre>RandomForestClassifier(criterion=&#x27;entropy&#x27;, max_depth=5, n_estimators=22)</pre></div></div></div></div></div>"
      ],
      "text/plain": [
       "RandomForestClassifier(criterion='entropy', max_depth=5, n_estimators=22)"
      ]
     },
     "execution_count": 37,
     "metadata": {},
     "output_type": "execute_result"
    }
   ],
   "source": [
    "rf = RandomForestClassifier(n_estimators=22,criterion='entropy',max_depth = 5)\n",
    "rf.fit(X_train,Y_train)"
   ]
  },
  {
   "cell_type": "code",
   "execution_count": 38,
   "id": "0128bb09",
   "metadata": {},
   "outputs": [
    {
     "data": {
      "text/plain": [
       "0.8364717542120912"
      ]
     },
     "execution_count": 38,
     "metadata": {},
     "output_type": "execute_result"
    }
   ],
   "source": [
    "rf.score(X_train,Y_train)"
   ]
  },
  {
   "cell_type": "code",
   "execution_count": 39,
   "id": "a551ee63",
   "metadata": {},
   "outputs": [
    {
     "data": {
      "text/plain": [
       "array([0., 0., 0., 0., 0., 1., 0., 0., 0., 0., 0., 0., 0., 0., 1., 0., 0.,\n",
       "       1., 0., 0., 1., 0., 0., 0., 0., 1., 0., 1., 1., 0., 0., 1., 0., 0.,\n",
       "       0., 1., 0., 0., 0., 0., 1., 1., 0., 0., 0., 0., 1., 0., 0., 0., 0.,\n",
       "       1., 0., 1., 0., 0., 0., 0., 1., 0., 1., 1., 0., 0., 0., 1., 0., 0.,\n",
       "       0., 1., 1., 0., 0., 0., 1., 0., 1., 1., 0., 0., 1., 0., 0., 1., 0.,\n",
       "       0., 0., 0., 0., 0., 0., 0., 0., 0., 1., 1., 0., 1., 1., 0., 0., 0.,\n",
       "       0., 0., 0., 0., 0., 0., 1., 0., 1., 0., 0., 0., 1., 0., 0., 0., 0.,\n",
       "       1., 0., 1., 0., 0., 1., 0., 0., 0., 0., 1., 0., 1., 1., 0., 0., 0.,\n",
       "       1., 1., 0., 0., 0., 0., 0., 0., 1., 0., 0., 0., 0., 0., 0., 0., 1.,\n",
       "       0., 0., 0., 0., 0., 0., 0., 0., 0., 1., 1., 0., 0., 0., 1., 0., 0.,\n",
       "       0., 0., 0., 0., 1., 0., 1., 0., 0., 0., 0., 0., 1., 0., 0., 0., 0.,\n",
       "       0., 0., 0., 1., 0., 0., 0., 0., 0., 0., 0., 1., 1., 1., 0., 1., 1.,\n",
       "       0., 0., 0., 0., 0., 0., 0., 0., 1., 1., 0., 0., 1., 0., 1., 1., 1.,\n",
       "       0., 0., 1., 1., 0., 0., 0., 0., 0., 0., 0., 0., 0., 0., 0., 0., 0.,\n",
       "       0., 0., 0., 1., 0., 0., 1., 1., 1., 1., 1., 0., 1., 0., 0., 0., 1.,\n",
       "       0., 0., 0., 0., 0., 0., 0., 0., 0., 1., 0., 0., 1., 0., 0., 1., 0.,\n",
       "       0., 0., 1., 0., 0., 0., 1., 0., 1., 0., 1., 0., 0., 0., 0., 1., 1.,\n",
       "       0., 1., 0., 0., 0., 0., 0., 1., 0., 0., 0.])"
      ]
     },
     "execution_count": 39,
     "metadata": {},
     "output_type": "execute_result"
    }
   ],
   "source": [
    "rf.predict(X_test)"
   ]
  },
  {
   "cell_type": "code",
   "execution_count": 40,
   "id": "caff93bb",
   "metadata": {},
   "outputs": [],
   "source": [
    "Y_pred = rf.predict(X_test).reshape((-1,1))"
   ]
  },
  {
   "cell_type": "code",
   "execution_count": 41,
   "id": "c00cc30a",
   "metadata": {},
   "outputs": [],
   "source": [
    "Id = np.arange(300).reshape((-1,1))"
   ]
  },
  {
   "cell_type": "code",
   "execution_count": 42,
   "id": "44329b18",
   "metadata": {},
   "outputs": [],
   "source": [
    "Y_test = np.hstack((Id,Y_pred))"
   ]
  },
  {
   "cell_type": "code",
   "execution_count": 43,
   "id": "73303196",
   "metadata": {},
   "outputs": [
    {
     "data": {
      "text/plain": [
       "array([[  0.,   0.],\n",
       "       [  1.,   0.],\n",
       "       [  2.,   0.],\n",
       "       [  3.,   0.],\n",
       "       [  4.,   0.],\n",
       "       [  5.,   1.],\n",
       "       [  6.,   0.],\n",
       "       [  7.,   0.],\n",
       "       [  8.,   0.],\n",
       "       [  9.,   0.],\n",
       "       [ 10.,   0.],\n",
       "       [ 11.,   0.],\n",
       "       [ 12.,   0.],\n",
       "       [ 13.,   0.],\n",
       "       [ 14.,   1.],\n",
       "       [ 15.,   0.],\n",
       "       [ 16.,   0.],\n",
       "       [ 17.,   1.],\n",
       "       [ 18.,   0.],\n",
       "       [ 19.,   0.],\n",
       "       [ 20.,   1.],\n",
       "       [ 21.,   0.],\n",
       "       [ 22.,   0.],\n",
       "       [ 23.,   0.],\n",
       "       [ 24.,   0.],\n",
       "       [ 25.,   1.],\n",
       "       [ 26.,   0.],\n",
       "       [ 27.,   1.],\n",
       "       [ 28.,   1.],\n",
       "       [ 29.,   0.],\n",
       "       [ 30.,   0.],\n",
       "       [ 31.,   1.],\n",
       "       [ 32.,   0.],\n",
       "       [ 33.,   0.],\n",
       "       [ 34.,   0.],\n",
       "       [ 35.,   1.],\n",
       "       [ 36.,   0.],\n",
       "       [ 37.,   0.],\n",
       "       [ 38.,   0.],\n",
       "       [ 39.,   0.],\n",
       "       [ 40.,   1.],\n",
       "       [ 41.,   1.],\n",
       "       [ 42.,   0.],\n",
       "       [ 43.,   0.],\n",
       "       [ 44.,   0.],\n",
       "       [ 45.,   0.],\n",
       "       [ 46.,   1.],\n",
       "       [ 47.,   0.],\n",
       "       [ 48.,   0.],\n",
       "       [ 49.,   0.],\n",
       "       [ 50.,   0.],\n",
       "       [ 51.,   1.],\n",
       "       [ 52.,   0.],\n",
       "       [ 53.,   1.],\n",
       "       [ 54.,   0.],\n",
       "       [ 55.,   0.],\n",
       "       [ 56.,   0.],\n",
       "       [ 57.,   0.],\n",
       "       [ 58.,   1.],\n",
       "       [ 59.,   0.],\n",
       "       [ 60.,   1.],\n",
       "       [ 61.,   1.],\n",
       "       [ 62.,   0.],\n",
       "       [ 63.,   0.],\n",
       "       [ 64.,   0.],\n",
       "       [ 65.,   1.],\n",
       "       [ 66.,   0.],\n",
       "       [ 67.,   0.],\n",
       "       [ 68.,   0.],\n",
       "       [ 69.,   1.],\n",
       "       [ 70.,   1.],\n",
       "       [ 71.,   0.],\n",
       "       [ 72.,   0.],\n",
       "       [ 73.,   0.],\n",
       "       [ 74.,   1.],\n",
       "       [ 75.,   0.],\n",
       "       [ 76.,   1.],\n",
       "       [ 77.,   1.],\n",
       "       [ 78.,   0.],\n",
       "       [ 79.,   0.],\n",
       "       [ 80.,   1.],\n",
       "       [ 81.,   0.],\n",
       "       [ 82.,   0.],\n",
       "       [ 83.,   1.],\n",
       "       [ 84.,   0.],\n",
       "       [ 85.,   0.],\n",
       "       [ 86.,   0.],\n",
       "       [ 87.,   0.],\n",
       "       [ 88.,   0.],\n",
       "       [ 89.,   0.],\n",
       "       [ 90.,   0.],\n",
       "       [ 91.,   0.],\n",
       "       [ 92.,   0.],\n",
       "       [ 93.,   0.],\n",
       "       [ 94.,   1.],\n",
       "       [ 95.,   1.],\n",
       "       [ 96.,   0.],\n",
       "       [ 97.,   1.],\n",
       "       [ 98.,   1.],\n",
       "       [ 99.,   0.],\n",
       "       [100.,   0.],\n",
       "       [101.,   0.],\n",
       "       [102.,   0.],\n",
       "       [103.,   0.],\n",
       "       [104.,   0.],\n",
       "       [105.,   0.],\n",
       "       [106.,   0.],\n",
       "       [107.,   0.],\n",
       "       [108.,   1.],\n",
       "       [109.,   0.],\n",
       "       [110.,   1.],\n",
       "       [111.,   0.],\n",
       "       [112.,   0.],\n",
       "       [113.,   0.],\n",
       "       [114.,   1.],\n",
       "       [115.,   0.],\n",
       "       [116.,   0.],\n",
       "       [117.,   0.],\n",
       "       [118.,   0.],\n",
       "       [119.,   1.],\n",
       "       [120.,   0.],\n",
       "       [121.,   1.],\n",
       "       [122.,   0.],\n",
       "       [123.,   0.],\n",
       "       [124.,   1.],\n",
       "       [125.,   0.],\n",
       "       [126.,   0.],\n",
       "       [127.,   0.],\n",
       "       [128.,   0.],\n",
       "       [129.,   1.],\n",
       "       [130.,   0.],\n",
       "       [131.,   1.],\n",
       "       [132.,   1.],\n",
       "       [133.,   0.],\n",
       "       [134.,   0.],\n",
       "       [135.,   0.],\n",
       "       [136.,   1.],\n",
       "       [137.,   1.],\n",
       "       [138.,   0.],\n",
       "       [139.,   0.],\n",
       "       [140.,   0.],\n",
       "       [141.,   0.],\n",
       "       [142.,   0.],\n",
       "       [143.,   0.],\n",
       "       [144.,   1.],\n",
       "       [145.,   0.],\n",
       "       [146.,   0.],\n",
       "       [147.,   0.],\n",
       "       [148.,   0.],\n",
       "       [149.,   0.],\n",
       "       [150.,   0.],\n",
       "       [151.,   0.],\n",
       "       [152.,   1.],\n",
       "       [153.,   0.],\n",
       "       [154.,   0.],\n",
       "       [155.,   0.],\n",
       "       [156.,   0.],\n",
       "       [157.,   0.],\n",
       "       [158.,   0.],\n",
       "       [159.,   0.],\n",
       "       [160.,   0.],\n",
       "       [161.,   0.],\n",
       "       [162.,   1.],\n",
       "       [163.,   1.],\n",
       "       [164.,   0.],\n",
       "       [165.,   0.],\n",
       "       [166.,   0.],\n",
       "       [167.,   1.],\n",
       "       [168.,   0.],\n",
       "       [169.,   0.],\n",
       "       [170.,   0.],\n",
       "       [171.,   0.],\n",
       "       [172.,   0.],\n",
       "       [173.,   0.],\n",
       "       [174.,   1.],\n",
       "       [175.,   0.],\n",
       "       [176.,   1.],\n",
       "       [177.,   0.],\n",
       "       [178.,   0.],\n",
       "       [179.,   0.],\n",
       "       [180.,   0.],\n",
       "       [181.,   0.],\n",
       "       [182.,   1.],\n",
       "       [183.,   0.],\n",
       "       [184.,   0.],\n",
       "       [185.,   0.],\n",
       "       [186.,   0.],\n",
       "       [187.,   0.],\n",
       "       [188.,   0.],\n",
       "       [189.,   0.],\n",
       "       [190.,   1.],\n",
       "       [191.,   0.],\n",
       "       [192.,   0.],\n",
       "       [193.,   0.],\n",
       "       [194.,   0.],\n",
       "       [195.,   0.],\n",
       "       [196.,   0.],\n",
       "       [197.,   0.],\n",
       "       [198.,   1.],\n",
       "       [199.,   1.],\n",
       "       [200.,   1.],\n",
       "       [201.,   0.],\n",
       "       [202.,   1.],\n",
       "       [203.,   1.],\n",
       "       [204.,   0.],\n",
       "       [205.,   0.],\n",
       "       [206.,   0.],\n",
       "       [207.,   0.],\n",
       "       [208.,   0.],\n",
       "       [209.,   0.],\n",
       "       [210.,   0.],\n",
       "       [211.,   0.],\n",
       "       [212.,   1.],\n",
       "       [213.,   1.],\n",
       "       [214.,   0.],\n",
       "       [215.,   0.],\n",
       "       [216.,   1.],\n",
       "       [217.,   0.],\n",
       "       [218.,   1.],\n",
       "       [219.,   1.],\n",
       "       [220.,   1.],\n",
       "       [221.,   0.],\n",
       "       [222.,   0.],\n",
       "       [223.,   1.],\n",
       "       [224.,   1.],\n",
       "       [225.,   0.],\n",
       "       [226.,   0.],\n",
       "       [227.,   0.],\n",
       "       [228.,   0.],\n",
       "       [229.,   0.],\n",
       "       [230.,   0.],\n",
       "       [231.,   0.],\n",
       "       [232.,   0.],\n",
       "       [233.,   0.],\n",
       "       [234.,   0.],\n",
       "       [235.,   0.],\n",
       "       [236.,   0.],\n",
       "       [237.,   0.],\n",
       "       [238.,   0.],\n",
       "       [239.,   0.],\n",
       "       [240.,   0.],\n",
       "       [241.,   1.],\n",
       "       [242.,   0.],\n",
       "       [243.,   0.],\n",
       "       [244.,   1.],\n",
       "       [245.,   1.],\n",
       "       [246.,   1.],\n",
       "       [247.,   1.],\n",
       "       [248.,   1.],\n",
       "       [249.,   0.],\n",
       "       [250.,   1.],\n",
       "       [251.,   0.],\n",
       "       [252.,   0.],\n",
       "       [253.,   0.],\n",
       "       [254.,   1.],\n",
       "       [255.,   0.],\n",
       "       [256.,   0.],\n",
       "       [257.,   0.],\n",
       "       [258.,   0.],\n",
       "       [259.,   0.],\n",
       "       [260.,   0.],\n",
       "       [261.,   0.],\n",
       "       [262.,   0.],\n",
       "       [263.,   0.],\n",
       "       [264.,   1.],\n",
       "       [265.,   0.],\n",
       "       [266.,   0.],\n",
       "       [267.,   1.],\n",
       "       [268.,   0.],\n",
       "       [269.,   0.],\n",
       "       [270.,   1.],\n",
       "       [271.,   0.],\n",
       "       [272.,   0.],\n",
       "       [273.,   0.],\n",
       "       [274.,   1.],\n",
       "       [275.,   0.],\n",
       "       [276.,   0.],\n",
       "       [277.,   0.],\n",
       "       [278.,   1.],\n",
       "       [279.,   0.],\n",
       "       [280.,   1.],\n",
       "       [281.,   0.],\n",
       "       [282.,   1.],\n",
       "       [283.,   0.],\n",
       "       [284.,   0.],\n",
       "       [285.,   0.],\n",
       "       [286.,   0.],\n",
       "       [287.,   1.],\n",
       "       [288.,   1.],\n",
       "       [289.,   0.],\n",
       "       [290.,   1.],\n",
       "       [291.,   0.],\n",
       "       [292.,   0.],\n",
       "       [293.,   0.],\n",
       "       [294.,   0.],\n",
       "       [295.,   0.],\n",
       "       [296.,   1.],\n",
       "       [297.,   0.],\n",
       "       [298.,   0.],\n",
       "       [299.,   0.]])"
      ]
     },
     "execution_count": 43,
     "metadata": {},
     "output_type": "execute_result"
    }
   ],
   "source": [
    "Y_test"
   ]
  },
  {
   "cell_type": "code",
   "execution_count": 46,
   "id": "a38baf78",
   "metadata": {},
   "outputs": [],
   "source": [
    "Predictions = pd.DataFrame(Y_test,columns = [\"Id\",\"survived\"]).astype('int32')"
   ]
  },
  {
   "cell_type": "code",
   "execution_count": 47,
   "id": "f0fb74e3",
   "metadata": {},
   "outputs": [],
   "source": [
    "Predictions.to_csv(\"Titanic_survivor_prediction.csv\",index = False)"
   ]
  },
  {
   "cell_type": "code",
   "execution_count": null,
   "id": "85faa08f",
   "metadata": {},
   "outputs": [],
   "source": []
  }
 ],
 "metadata": {
  "kernelspec": {
   "display_name": "Python 3 (ipykernel)",
   "language": "python",
   "name": "python3"
  },
  "language_info": {
   "codemirror_mode": {
    "name": "ipython",
    "version": 3
   },
   "file_extension": ".py",
   "mimetype": "text/x-python",
   "name": "python",
   "nbconvert_exporter": "python",
   "pygments_lexer": "ipython3",
   "version": "3.9.9"
  }
 },
 "nbformat": 4,
 "nbformat_minor": 5
}
